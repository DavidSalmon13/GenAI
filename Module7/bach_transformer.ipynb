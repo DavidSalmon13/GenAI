{
  "cells": [
    {
      "cell_type": "markdown",
      "metadata": {
        "id": "view-in-github",
        "colab_type": "text"
      },
      "source": [
        "<a href=\"https://colab.research.google.com/github/bforoura/GenAI/blob/main/Module7/bach_transformer.ipynb\" target=\"_parent\"><img src=\"https://colab.research.google.com/assets/colab-badge.svg\" alt=\"Open In Colab\"/></a>"
      ]
    },
    {
      "cell_type": "markdown",
      "id": "b076bd1a-b236-4fbc-953d-8295b25122ae",
      "metadata": {
        "id": "b076bd1a-b236-4fbc-953d-8295b25122ae"
      },
      "source": [
        "# 🎶 Music Generation with Transformers"
      ]
    },
    {
      "cell_type": "markdown",
      "id": "9235cbd1-f136-411c-88d9-f69f270c0b96",
      "metadata": {
        "id": "9235cbd1-f136-411c-88d9-f69f270c0b96"
      },
      "source": [
        "In this notebook, we'll walk through the steps required to train your own Transformer model to generate music in the style of the Bach cello suites"
      ]
    },
    {
      "cell_type": "code",
      "source": [
        "!apt-get install musescore\n",
        "!apt-get install music21\n",
        "!apt-get install fluidsynth"
      ],
      "metadata": {
        "colab": {
          "base_uri": "https://localhost:8080/"
        },
        "id": "7p-DJUaH5bji",
        "outputId": "50d233eb-d006-4871-9ac4-25953239e172"
      },
      "id": "7p-DJUaH5bji",
      "execution_count": null,
      "outputs": [
        {
          "output_type": "stream",
          "name": "stdout",
          "text": [
            "Reading package lists... Done\n",
            "Building dependency tree... Done\n",
            "Reading state information... Done\n",
            "The following additional packages will be installed:\n",
            "  desktop-file-utils fonts-freefont-ttf libportaudio2 libportmidi0 libqt5help5 libqt5printsupport5\n",
            "  libqt5qml5 libqt5qmlmodels5 libqt5qmlworkerscript5 libqt5quick5 libqt5sql5 libqt5sql5-sqlite\n",
            "  libqt5xml5 libqt5xmlpatterns5 musescore-common musescore-general-soundfont-small\n",
            "  qml-module-qt-labs-folderlistmodel qml-module-qt-labs-settings qml-module-qtgraphicaleffects\n",
            "  qml-module-qtqml qml-module-qtqml-models2 qml-module-qtquick-controls qml-module-qtquick-dialogs\n",
            "  qml-module-qtquick-layouts qml-module-qtquick-privatewidgets qml-module-qtquick-window2\n",
            "  qml-module-qtquick2\n",
            "Suggested packages:\n",
            "  qt5-qmltooling-plugins pulseaudio-utils\n",
            "The following NEW packages will be installed:\n",
            "  desktop-file-utils fonts-freefont-ttf libportaudio2 libportmidi0 libqt5help5 libqt5printsupport5\n",
            "  libqt5qml5 libqt5qmlmodels5 libqt5qmlworkerscript5 libqt5quick5 libqt5sql5 libqt5sql5-sqlite\n",
            "  libqt5xml5 libqt5xmlpatterns5 musescore musescore-common musescore-general-soundfont-small\n",
            "  qml-module-qt-labs-folderlistmodel qml-module-qt-labs-settings qml-module-qtgraphicaleffects\n",
            "  qml-module-qtqml qml-module-qtqml-models2 qml-module-qtquick-controls qml-module-qtquick-dialogs\n",
            "  qml-module-qtquick-layouts qml-module-qtquick-privatewidgets qml-module-qtquick-window2\n",
            "  qml-module-qtquick2\n",
            "0 upgraded, 28 newly installed, 0 to remove and 4 not upgraded.\n",
            "Need to get 51.2 MB of archives.\n",
            "After this operation, 113 MB of additional disk space will be used.\n",
            "Get:1 http://archive.ubuntu.com/ubuntu jammy/universe amd64 libqt5qml5 amd64 5.15.3+dfsg-1 [1,472 kB]\n",
            "Get:2 http://archive.ubuntu.com/ubuntu jammy/universe amd64 libqt5qmlmodels5 amd64 5.15.3+dfsg-1 [205 kB]\n",
            "Get:3 http://archive.ubuntu.com/ubuntu jammy/universe amd64 libqt5quick5 amd64 5.15.3+dfsg-1 [1,748 kB]\n",
            "Get:4 http://archive.ubuntu.com/ubuntu jammy/universe amd64 qml-module-qtquick-window2 amd64 5.15.3+dfsg-1 [26.3 kB]\n",
            "Get:5 http://archive.ubuntu.com/ubuntu jammy/universe amd64 libqt5qmlworkerscript5 amd64 5.15.3+dfsg-1 [34.4 kB]\n",
            "Get:6 http://archive.ubuntu.com/ubuntu jammy/universe amd64 qml-module-qtquick2 amd64 5.15.3+dfsg-1 [33.7 kB]\n",
            "Get:7 http://archive.ubuntu.com/ubuntu jammy/universe amd64 qml-module-qtgraphicaleffects amd64 5.15.3-1 [74.3 kB]\n",
            "Get:8 http://archive.ubuntu.com/ubuntu jammy/universe amd64 qml-module-qtqml amd64 5.15.3+dfsg-1 [17.2 kB]\n",
            "Get:9 http://archive.ubuntu.com/ubuntu jammy/universe amd64 qml-module-qtqml-models2 amd64 5.15.3+dfsg-1 [18.0 kB]\n",
            "Get:10 http://archive.ubuntu.com/ubuntu jammy/universe amd64 qml-module-qtquick-layouts amd64 5.15.3+dfsg-1 [56.0 kB]\n",
            "Get:11 http://archive.ubuntu.com/ubuntu jammy/universe amd64 qml-module-qtquick-controls amd64 5.15.3-1 [577 kB]\n",
            "Get:12 http://archive.ubuntu.com/ubuntu jammy/main amd64 desktop-file-utils amd64 0.26-1ubuntu3 [55.9 kB]\n",
            "Get:13 http://archive.ubuntu.com/ubuntu jammy/main amd64 fonts-freefont-ttf all 20120503-10build1 [2,388 kB]\n",
            "Get:14 http://archive.ubuntu.com/ubuntu jammy/universe amd64 libportaudio2 amd64 19.6.0-1.1 [65.3 kB]\n",
            "Get:15 http://archive.ubuntu.com/ubuntu jammy/universe amd64 libportmidi0 amd64 1:217-6 [17.8 kB]\n",
            "Get:16 http://archive.ubuntu.com/ubuntu jammy-updates/universe amd64 libqt5sql5 amd64 5.15.3+dfsg-2ubuntu0.2 [123 kB]\n",
            "Get:17 http://archive.ubuntu.com/ubuntu jammy/universe amd64 libqt5help5 amd64 5.15.3-1 [162 kB]\n",
            "Get:18 http://archive.ubuntu.com/ubuntu jammy-updates/universe amd64 libqt5printsupport5 amd64 5.15.3+dfsg-2ubuntu0.2 [214 kB]\n",
            "Get:19 http://archive.ubuntu.com/ubuntu jammy-updates/universe amd64 libqt5sql5-sqlite amd64 5.15.3+dfsg-2ubuntu0.2 [53.0 kB]\n",
            "Get:20 http://archive.ubuntu.com/ubuntu jammy-updates/universe amd64 libqt5xml5 amd64 5.15.3+dfsg-2ubuntu0.2 [124 kB]\n",
            "Get:21 http://archive.ubuntu.com/ubuntu jammy/universe amd64 libqt5xmlpatterns5 amd64 5.15.3-1 [901 kB]\n",
            "Get:22 http://archive.ubuntu.com/ubuntu jammy/universe amd64 qml-module-qt-labs-folderlistmodel amd64 5.15.3+dfsg-1 [36.1 kB]\n",
            "Get:23 http://archive.ubuntu.com/ubuntu jammy/universe amd64 qml-module-qt-labs-settings amd64 5.15.3+dfsg-1 [26.5 kB]\n",
            "Get:24 http://archive.ubuntu.com/ubuntu jammy/universe amd64 qml-module-qtquick-privatewidgets amd64 5.15.3-1 [49.8 kB]\n",
            "Get:25 http://archive.ubuntu.com/ubuntu jammy/universe amd64 qml-module-qtquick-dialogs amd64 5.15.3-1 [132 kB]\n",
            "Get:26 http://archive.ubuntu.com/ubuntu jammy/universe amd64 musescore-general-soundfont-small all 0.2.1-1 [34.1 MB]\n",
            "Get:27 http://archive.ubuntu.com/ubuntu jammy/universe amd64 musescore-common all 2.3.2+dfsg4-15 [3,332 kB]\n",
            "Get:28 http://archive.ubuntu.com/ubuntu jammy/universe amd64 musescore amd64 2.3.2+dfsg4-15 [5,195 kB]\n",
            "Fetched 51.2 MB in 1s (53.1 MB/s)\n",
            "Selecting previously unselected package libqt5qml5:amd64.\n",
            "(Reading database ... 120671 files and directories currently installed.)\n",
            "Preparing to unpack .../00-libqt5qml5_5.15.3+dfsg-1_amd64.deb ...\n",
            "Unpacking libqt5qml5:amd64 (5.15.3+dfsg-1) ...\n",
            "Selecting previously unselected package libqt5qmlmodels5:amd64.\n",
            "Preparing to unpack .../01-libqt5qmlmodels5_5.15.3+dfsg-1_amd64.deb ...\n",
            "Unpacking libqt5qmlmodels5:amd64 (5.15.3+dfsg-1) ...\n",
            "Selecting previously unselected package libqt5quick5:amd64.\n",
            "Preparing to unpack .../02-libqt5quick5_5.15.3+dfsg-1_amd64.deb ...\n",
            "Unpacking libqt5quick5:amd64 (5.15.3+dfsg-1) ...\n",
            "Selecting previously unselected package qml-module-qtquick-window2:amd64.\n",
            "Preparing to unpack .../03-qml-module-qtquick-window2_5.15.3+dfsg-1_amd64.deb ...\n",
            "Unpacking qml-module-qtquick-window2:amd64 (5.15.3+dfsg-1) ...\n",
            "Selecting previously unselected package libqt5qmlworkerscript5:amd64.\n",
            "Preparing to unpack .../04-libqt5qmlworkerscript5_5.15.3+dfsg-1_amd64.deb ...\n",
            "Unpacking libqt5qmlworkerscript5:amd64 (5.15.3+dfsg-1) ...\n",
            "Selecting previously unselected package qml-module-qtquick2:amd64.\n",
            "Preparing to unpack .../05-qml-module-qtquick2_5.15.3+dfsg-1_amd64.deb ...\n",
            "Unpacking qml-module-qtquick2:amd64 (5.15.3+dfsg-1) ...\n",
            "Selecting previously unselected package qml-module-qtgraphicaleffects:amd64.\n",
            "Preparing to unpack .../06-qml-module-qtgraphicaleffects_5.15.3-1_amd64.deb ...\n",
            "Unpacking qml-module-qtgraphicaleffects:amd64 (5.15.3-1) ...\n",
            "Selecting previously unselected package qml-module-qtqml:amd64.\n",
            "Preparing to unpack .../07-qml-module-qtqml_5.15.3+dfsg-1_amd64.deb ...\n",
            "Unpacking qml-module-qtqml:amd64 (5.15.3+dfsg-1) ...\n",
            "Selecting previously unselected package qml-module-qtqml-models2:amd64.\n",
            "Preparing to unpack .../08-qml-module-qtqml-models2_5.15.3+dfsg-1_amd64.deb ...\n",
            "Unpacking qml-module-qtqml-models2:amd64 (5.15.3+dfsg-1) ...\n",
            "Selecting previously unselected package qml-module-qtquick-layouts:amd64.\n",
            "Preparing to unpack .../09-qml-module-qtquick-layouts_5.15.3+dfsg-1_amd64.deb ...\n",
            "Unpacking qml-module-qtquick-layouts:amd64 (5.15.3+dfsg-1) ...\n",
            "Selecting previously unselected package qml-module-qtquick-controls:amd64.\n",
            "Preparing to unpack .../10-qml-module-qtquick-controls_5.15.3-1_amd64.deb ...\n",
            "Unpacking qml-module-qtquick-controls:amd64 (5.15.3-1) ...\n",
            "Selecting previously unselected package desktop-file-utils.\n",
            "Preparing to unpack .../11-desktop-file-utils_0.26-1ubuntu3_amd64.deb ...\n",
            "Unpacking desktop-file-utils (0.26-1ubuntu3) ...\n",
            "Selecting previously unselected package fonts-freefont-ttf.\n",
            "Preparing to unpack .../12-fonts-freefont-ttf_20120503-10build1_all.deb ...\n",
            "Unpacking fonts-freefont-ttf (20120503-10build1) ...\n",
            "Selecting previously unselected package libportaudio2:amd64.\n",
            "Preparing to unpack .../13-libportaudio2_19.6.0-1.1_amd64.deb ...\n",
            "Unpacking libportaudio2:amd64 (19.6.0-1.1) ...\n",
            "Selecting previously unselected package libportmidi0:amd64.\n",
            "Preparing to unpack .../14-libportmidi0_1%3a217-6_amd64.deb ...\n",
            "Unpacking libportmidi0:amd64 (1:217-6) ...\n",
            "Selecting previously unselected package libqt5sql5:amd64.\n",
            "Preparing to unpack .../15-libqt5sql5_5.15.3+dfsg-2ubuntu0.2_amd64.deb ...\n",
            "Unpacking libqt5sql5:amd64 (5.15.3+dfsg-2ubuntu0.2) ...\n",
            "Selecting previously unselected package libqt5help5:amd64.\n",
            "Preparing to unpack .../16-libqt5help5_5.15.3-1_amd64.deb ...\n",
            "Unpacking libqt5help5:amd64 (5.15.3-1) ...\n",
            "Selecting previously unselected package libqt5printsupport5:amd64.\n",
            "Preparing to unpack .../17-libqt5printsupport5_5.15.3+dfsg-2ubuntu0.2_amd64.deb ...\n",
            "Unpacking libqt5printsupport5:amd64 (5.15.3+dfsg-2ubuntu0.2) ...\n",
            "Selecting previously unselected package libqt5sql5-sqlite:amd64.\n",
            "Preparing to unpack .../18-libqt5sql5-sqlite_5.15.3+dfsg-2ubuntu0.2_amd64.deb ...\n",
            "Unpacking libqt5sql5-sqlite:amd64 (5.15.3+dfsg-2ubuntu0.2) ...\n",
            "Selecting previously unselected package libqt5xml5:amd64.\n",
            "Preparing to unpack .../19-libqt5xml5_5.15.3+dfsg-2ubuntu0.2_amd64.deb ...\n",
            "Unpacking libqt5xml5:amd64 (5.15.3+dfsg-2ubuntu0.2) ...\n",
            "Selecting previously unselected package libqt5xmlpatterns5:amd64.\n",
            "Preparing to unpack .../20-libqt5xmlpatterns5_5.15.3-1_amd64.deb ...\n",
            "Unpacking libqt5xmlpatterns5:amd64 (5.15.3-1) ...\n",
            "Selecting previously unselected package qml-module-qt-labs-folderlistmodel:amd64.\n",
            "Preparing to unpack .../21-qml-module-qt-labs-folderlistmodel_5.15.3+dfsg-1_amd64.deb ...\n",
            "Unpacking qml-module-qt-labs-folderlistmodel:amd64 (5.15.3+dfsg-1) ...\n",
            "Selecting previously unselected package qml-module-qt-labs-settings:amd64.\n",
            "Preparing to unpack .../22-qml-module-qt-labs-settings_5.15.3+dfsg-1_amd64.deb ...\n",
            "Unpacking qml-module-qt-labs-settings:amd64 (5.15.3+dfsg-1) ...\n",
            "Selecting previously unselected package qml-module-qtquick-privatewidgets:amd64.\n",
            "Preparing to unpack .../23-qml-module-qtquick-privatewidgets_5.15.3-1_amd64.deb ...\n",
            "Unpacking qml-module-qtquick-privatewidgets:amd64 (5.15.3-1) ...\n",
            "Selecting previously unselected package qml-module-qtquick-dialogs:amd64.\n",
            "Preparing to unpack .../24-qml-module-qtquick-dialogs_5.15.3-1_amd64.deb ...\n",
            "Unpacking qml-module-qtquick-dialogs:amd64 (5.15.3-1) ...\n",
            "Selecting previously unselected package musescore-general-soundfont-small.\n",
            "Preparing to unpack .../25-musescore-general-soundfont-small_0.2.1-1_all.deb ...\n",
            "Unpacking musescore-general-soundfont-small (0.2.1-1) ...\n",
            "Selecting previously unselected package musescore-common.\n",
            "Preparing to unpack .../26-musescore-common_2.3.2+dfsg4-15_all.deb ...\n",
            "Unpacking musescore-common (2.3.2+dfsg4-15) ...\n",
            "Selecting previously unselected package musescore.\n",
            "Preparing to unpack .../27-musescore_2.3.2+dfsg4-15_amd64.deb ...\n",
            "Unpacking musescore (2.3.2+dfsg4-15) ...\n",
            "Setting up libportaudio2:amd64 (19.6.0-1.1) ...\n",
            "Setting up desktop-file-utils (0.26-1ubuntu3) ...\n",
            "Setting up libqt5xmlpatterns5:amd64 (5.15.3-1) ...\n",
            "Setting up fonts-freefont-ttf (20120503-10build1) ...\n",
            "Setting up musescore-general-soundfont-small (0.2.1-1) ...\n",
            "update-alternatives: using /usr/share/sounds/sf3/MuseScore_General_Lite.sf3 to provide /usr/share/sounds/sf3/MuseScore_General.sf3 (MuseScore_General.sf3) in auto mode\n",
            "Setting up libqt5sql5:amd64 (5.15.3+dfsg-2ubuntu0.2) ...\n",
            "Setting up libqt5printsupport5:amd64 (5.15.3+dfsg-2ubuntu0.2) ...\n",
            "Setting up musescore-common (2.3.2+dfsg4-15) ...\n",
            "Setting up libqt5xml5:amd64 (5.15.3+dfsg-2ubuntu0.2) ...\n",
            "Setting up libqt5qml5:amd64 (5.15.3+dfsg-1) ...\n",
            "Setting up libportmidi0:amd64 (1:217-6) ...\n",
            "Setting up libqt5qmlmodels5:amd64 (5.15.3+dfsg-1) ...\n",
            "Setting up libqt5sql5-sqlite:amd64 (5.15.3+dfsg-2ubuntu0.2) ...\n",
            "Setting up qml-module-qtqml:amd64 (5.15.3+dfsg-1) ...\n",
            "Setting up libqt5help5:amd64 (5.15.3-1) ...\n",
            "Setting up qml-module-qt-labs-folderlistmodel:amd64 (5.15.3+dfsg-1) ...\n",
            "Setting up libqt5qmlworkerscript5:amd64 (5.15.3+dfsg-1) ...\n",
            "Setting up qml-module-qt-labs-settings:amd64 (5.15.3+dfsg-1) ...\n",
            "Setting up qml-module-qtqml-models2:amd64 (5.15.3+dfsg-1) ...\n",
            "Setting up libqt5quick5:amd64 (5.15.3+dfsg-1) ...\n",
            "Setting up qml-module-qtquick-window2:amd64 (5.15.3+dfsg-1) ...\n",
            "Setting up qml-module-qtquick-layouts:amd64 (5.15.3+dfsg-1) ...\n",
            "Setting up qml-module-qtquick2:amd64 (5.15.3+dfsg-1) ...\n",
            "Setting up qml-module-qtquick-privatewidgets:amd64 (5.15.3-1) ...\n",
            "Setting up qml-module-qtgraphicaleffects:amd64 (5.15.3-1) ...\n",
            "Setting up qml-module-qtquick-dialogs:amd64 (5.15.3-1) ...\n",
            "Setting up qml-module-qtquick-controls:amd64 (5.15.3-1) ...\n",
            "Setting up musescore (2.3.2+dfsg4-15) ...\n",
            "Processing triggers for hicolor-icon-theme (0.17-2) ...\n",
            "Processing triggers for libc-bin (2.35-0ubuntu3.8) ...\n",
            "Processing triggers for man-db (2.10.2-1) ...\n",
            "Processing triggers for shared-mime-info (2.1-2) ...\n",
            "Processing triggers for fontconfig (2.13.1-4.2ubuntu5) ...\n",
            "Reading package lists... Done\n",
            "Building dependency tree... Done\n",
            "Reading state information... Done\n",
            "E: Unable to locate package music21\n",
            "Reading package lists... Done\n",
            "Building dependency tree... Done\n",
            "Reading state information... Done\n",
            "fluidsynth is already the newest version (2.2.5-1).\n",
            "0 upgraded, 0 newly installed, 0 to remove and 4 not upgraded.\n"
          ]
        }
      ]
    },
    {
      "cell_type": "code",
      "execution_count": null,
      "id": "84acc7be-6764-4668-b2bb-178f63deeed3",
      "metadata": {
        "id": "84acc7be-6764-4668-b2bb-178f63deeed3"
      },
      "outputs": [],
      "source": [
        "import os\n",
        "import glob\n",
        "import numpy as np\n",
        "import time\n",
        "import matplotlib.pyplot as plt\n",
        "\n",
        "import tensorflow as tf\n",
        "from tensorflow.keras import layers, models, losses, callbacks\n",
        "\n",
        "import music21\n",
        "\n",
        "from transformer_utils import (\n",
        "    parse_midi_files,\n",
        "    load_parsed_files,\n",
        "    get_midi_note,\n",
        "    SinePositionEncoding,\n",
        ")"
      ]
    },
    {
      "cell_type": "markdown",
      "id": "339e6268-ebd7-4feb-86db-1fe7abccdbe5",
      "metadata": {
        "id": "339e6268-ebd7-4feb-86db-1fe7abccdbe5"
      },
      "source": [
        "## 0. Parameters <a name=\"parameters\"></a>"
      ]
    },
    {
      "cell_type": "code",
      "execution_count": null,
      "id": "1b2ee6ce-129f-4833-b0c5-fa567381c4e0",
      "metadata": {
        "id": "1b2ee6ce-129f-4833-b0c5-fa567381c4e0"
      },
      "outputs": [],
      "source": [
        "PARSE_MIDI_FILES = True\n",
        "PARSED_DATA_PATH = \"/content/data/\"\n",
        "DATASET_REPETITIONS = 1\n",
        "\n",
        "SEQ_LEN = 50\n",
        "EMBEDDING_DIM = 256\n",
        "KEY_DIM = 256\n",
        "N_HEADS = 5\n",
        "DROPOUT_RATE = 0.3\n",
        "FEED_FORWARD_DIM = 256\n",
        "LOAD_MODEL = False\n",
        "\n",
        "# optimization\n",
        "EPOCHS = 5000\n",
        "BATCH_SIZE = 256\n",
        "\n",
        "GENERATE_LEN = 50"
      ]
    },
    {
      "cell_type": "markdown",
      "id": "7d4f5e63-e36a-4dc8-9f03-cb29c1fa5290",
      "metadata": {
        "id": "7d4f5e63-e36a-4dc8-9f03-cb29c1fa5290"
      },
      "source": [
        "## 1. Prepare the Data"
      ]
    },
    {
      "cell_type": "code",
      "execution_count": null,
      "id": "73de38bd-0b92-4441-9601-ed4a3b45f924",
      "metadata": {
        "colab": {
          "base_uri": "https://localhost:8080/"
        },
        "id": "73de38bd-0b92-4441-9601-ed4a3b45f924",
        "outputId": "717f3342-9f6f-47c8-f619-011e4a2e61fa"
      },
      "outputs": [
        {
          "output_type": "stream",
          "name": "stdout",
          "text": [
            "Found 36 midi files\n"
          ]
        }
      ],
      "source": [
        "# Load the data\n",
        "file_list = glob.glob(\"/content/data/*.mid\")\n",
        "print(f\"Found {len(file_list)} midi files\")"
      ]
    },
    {
      "cell_type": "code",
      "execution_count": null,
      "id": "b1ff575d-1632-43bf-844b-e5f2cea61454",
      "metadata": {
        "id": "b1ff575d-1632-43bf-844b-e5f2cea61454"
      },
      "outputs": [],
      "source": [
        "parser = music21.converter"
      ]
    },
    {
      "cell_type": "code",
      "execution_count": null,
      "id": "b563da4f-0b08-4005-aa35-ca58a60a7def",
      "metadata": {
        "tags": [],
        "id": "b563da4f-0b08-4005-aa35-ca58a60a7def"
      },
      "outputs": [],
      "source": [
        "example_score = (\n",
        "    music21.converter.parse(file_list[1]).splitAtQuarterLength(12)[0].chordify()\n",
        ")"
      ]
    },
    {
      "cell_type": "code",
      "execution_count": null,
      "id": "debce40c-2d56-4140-b65b-459c6464c1a7",
      "metadata": {
        "colab": {
          "base_uri": "https://localhost:8080/"
        },
        "id": "debce40c-2d56-4140-b65b-459c6464c1a7",
        "outputId": "a28de396-a7cd-49ba-823f-d7029c2bb8de"
      },
      "outputs": [
        {
          "output_type": "stream",
          "name": "stdout",
          "text": [
            "{0.0} <music21.metadata.Metadata object at 0x7810f0db60b0>\n",
            "{0.0} <music21.stream.Measure 1 offset=0.0>\n",
            "    {0.0} <music21.instrument.Violoncello 'Solo Cello: Solo Cello'>\n",
            "    {0.0} <music21.instrument.Violoncello 'Violoncello'>\n",
            "    {0.0} <music21.clef.BassClef>\n",
            "    {0.0} <music21.tempo.MetronomeMark allegro moderato Quarter=130>\n",
            "    {0.0} <music21.key.Key of D major>\n",
            "    {0.0} <music21.meter.TimeSignature 12/8>\n",
            "    {0.0} <music21.chord.Chord D3>\n",
            "    {0.5} <music21.chord.Chord D3>\n",
            "    {1.0} <music21.chord.Chord D3>\n",
            "    {1.5} <music21.chord.Chord D3>\n",
            "    {2.0} <music21.chord.Chord D3>\n",
            "    {2.5} <music21.chord.Chord F#3>\n",
            "    {3.0} <music21.chord.Chord D3>\n",
            "    {3.5} <music21.chord.Chord D3>\n",
            "    {4.0} <music21.chord.Chord A3>\n",
            "    {4.5} <music21.chord.Chord D3>\n",
            "    {5.0} <music21.chord.Chord D3>\n",
            "    {5.5} <music21.chord.Chord D4>\n",
            "{6.0} <music21.stream.Measure 2 offset=6.0>\n",
            "    {0.0} <music21.chord.Chord D3>\n",
            "    {0.5} <music21.chord.Chord D3>\n",
            "    {1.0} <music21.chord.Chord D3>\n",
            "    {1.5} <music21.chord.Chord D3>\n",
            "    {2.0} <music21.chord.Chord D3>\n",
            "    {2.5} <music21.chord.Chord F#3>\n",
            "    {3.0} <music21.chord.Chord D3>\n",
            "    {3.5} <music21.chord.Chord D3>\n",
            "    {4.0} <music21.chord.Chord A3>\n",
            "    {4.5} <music21.chord.Chord D3>\n",
            "    {5.0} <music21.chord.Chord D3>\n",
            "    {5.5} <music21.chord.Chord D4>\n"
          ]
        }
      ],
      "source": [
        "example_score.show(\"text\")"
      ]
    },
    {
      "cell_type": "code",
      "execution_count": null,
      "id": "77459313-2417-4c18-b938-3a9859ec9bd9",
      "metadata": {
        "tags": [],
        "colab": {
          "base_uri": "https://localhost:8080/"
        },
        "id": "77459313-2417-4c18-b938-3a9859ec9bd9",
        "outputId": "18c28374-9b24-4237-e769-f8ae24585e38"
      },
      "outputs": [
        {
          "output_type": "stream",
          "name": "stdout",
          "text": [
            "1 Parsing /content/data/cs2-4sar.mid\n"
          ]
        },
        {
          "output_type": "stream",
          "name": "stderr",
          "text": [
            "<ipython-input-43-04172d0f16ff>:2: Music21DeprecationWarning: .flat is deprecated.  Call .flatten() instead\n",
            "  notes, durations = parse_midi_files(\n"
          ]
        },
        {
          "output_type": "stream",
          "name": "stdout",
          "text": [
            "337 notes parsed\n",
            "2 Parsing /content/data/cs6-1pre.mid\n",
            "1679 notes parsed\n",
            "3 Parsing /content/data/cs2-6gig.mid\n",
            "2414 notes parsed\n",
            "4 Parsing /content/data/cs6-2all.mid\n",
            "3099 notes parsed\n",
            "5 Parsing /content/data/cs5-6gig.mid\n",
            "3548 notes parsed\n",
            "6 Parsing /content/data/cs6-3cou.mid\n",
            "4834 notes parsed\n",
            "7 Parsing /content/data/cs5-2all.mid\n",
            "5526 notes parsed\n",
            "8 Parsing /content/data/cs4-3cou.mid\n",
            "6448 notes parsed\n",
            "9 Parsing /content/data/cs1-4sar.mid\n",
            "6711 notes parsed\n",
            "10 Parsing /content/data/cs4-2all.mid\n",
            "7766 notes parsed\n",
            "11 Parsing /content/data/cs5-3cou.mid\n",
            "8196 notes parsed\n",
            "12 Parsing /content/data/cs1-1pre.mid\n",
            "8854 notes parsed\n",
            "13 Parsing /content/data/cs1-2all.mid\n",
            "9775 notes parsed\n",
            "14 Parsing /content/data/cs1-3cou.mid\n",
            "10595 notes parsed\n",
            "15 Parsing /content/data/cs4-4sar.mid\n",
            "10915 notes parsed\n",
            "16 Parsing /content/data/cs2-2all.mid\n",
            "11608 notes parsed\n",
            "17 Parsing /content/data/cs5-1pre.mid\n",
            "12917 notes parsed\n",
            "18 Parsing /content/data/cs3-6gig.mid\n",
            "13878 notes parsed\n",
            "19 Parsing /content/data/cs3-1pre.mid\n",
            "14859 notes parsed\n",
            "20 Parsing /content/data/cs2-5men.mid\n",
            "15386 notes parsed\n",
            "21 Parsing /content/data/cs5-4sar.mid\n",
            "15605 notes parsed\n",
            "22 Parsing /content/data/cs1-5men.mid\n",
            "16252 notes parsed\n",
            "23 Parsing /content/data/cs3-5bou.mid\n",
            "17133 notes parsed\n",
            "24 Parsing /content/data/cs4-5bou.mid\n",
            "18457 notes parsed\n",
            "25 Parsing /content/data/cs3-4sar.mid\n",
            "18798 notes parsed\n",
            "26 Parsing /content/data/cs3-3cou.mid\n",
            "19787 notes parsed\n",
            "27 Parsing /content/data/cs6-6gig.mid\n",
            "20959 notes parsed\n",
            "28 Parsing /content/data/cs6-5gav.mid\n",
            "21765 notes parsed\n",
            "29 Parsing /content/data/cs4-1pre.mid\n",
            "22582 notes parsed\n",
            "30 Parsing /content/data/cs2-3cou.mid\n",
            "23323 notes parsed\n",
            "31 Parsing /content/data/cs3-2all.mid\n",
            "24060 notes parsed\n",
            "32 Parsing /content/data/cs6-4sar.mid\n",
            "24395 notes parsed\n",
            "33 Parsing /content/data/cs1-6gig.mid\n",
            "24821 notes parsed\n",
            "34 Parsing /content/data/cs5-5gav.mid\n",
            "26023 notes parsed\n",
            "35 Parsing /content/data/cs4-6gig.mid\n",
            "26994 notes parsed\n",
            "36 Parsing /content/data/cs2-1pre.mid\n",
            "27632 notes parsed\n",
            "Building sequences of length 51\n"
          ]
        }
      ],
      "source": [
        "if PARSE_MIDI_FILES:\n",
        "    notes, durations = parse_midi_files(\n",
        "        file_list, parser, SEQ_LEN + 1, PARSED_DATA_PATH\n",
        "    )\n",
        "else:\n",
        "    notes, durations = load_parsed_files()"
      ]
    },
    {
      "cell_type": "code",
      "execution_count": null,
      "id": "99f17b33-193e-4d83-8e0a-54dc8e7b249d",
      "metadata": {
        "colab": {
          "base_uri": "https://localhost:8080/"
        },
        "id": "99f17b33-193e-4d83-8e0a-54dc8e7b249d",
        "outputId": "7f3db0ac-3785-4e2e-c257-666d23d3b75b"
      },
      "outputs": [
        {
          "output_type": "stream",
          "name": "stdout",
          "text": [
            "\n",
            "Notes string\n",
            " B4 E4 A4 G4 E4 F#4 G4 E4 F#4 G4 E4 A4 B4 E4 A4 G4 E4 F#4 G4 E4 B4 F#4 E4 A4 G4 E4 B4 F#4 E4 A4 G4 E4 E4 F#4 E4 E-4 E4 E4 G4 F#4 E4 E-4 E4 E4 G4 D4 E4 F#4 C#4 E4 E4 ...\n",
            "\n",
            "Duration string\n",
            " 0.5 0.5 0.5 0.5 0.5 0.5 0.5 0.5 0.5 0.5 0.5 0.5 0.5 0.5 0.5 0.5 0.5 0.5 0.5 0.5 0.5 0.5 0.5 0.5 0.5 0.5 0.5 0.5 0.5 0.5 0.5 0.5 0.5 0.5 0.5 0.5 0.5 0.5 0.5 0.5 0.5 0.5 0.5 0.5 0.5 0.5 0.5 0.5 0.5 0.5 0.5 ...\n"
          ]
        }
      ],
      "source": [
        "example_notes = notes[658]\n",
        "example_durations = durations[658]\n",
        "print(\"\\nNotes string\\n\", example_notes, \"...\")\n",
        "print(\"\\nDuration string\\n\", example_durations, \"...\")"
      ]
    },
    {
      "cell_type": "markdown",
      "id": "aba2f39c-882f-423a-88eb-334502413639",
      "metadata": {
        "id": "aba2f39c-882f-423a-88eb-334502413639"
      },
      "source": [
        "## 2. Tokenize the data <a name=\"tokenize\"></a>"
      ]
    },
    {
      "cell_type": "code",
      "execution_count": null,
      "id": "244e093e-b977-4b1f-8f46-6503a55ea0fe",
      "metadata": {
        "id": "244e093e-b977-4b1f-8f46-6503a55ea0fe"
      },
      "outputs": [],
      "source": [
        "def create_dataset(elements):\n",
        "    ds = (\n",
        "        tf.data.Dataset.from_tensor_slices(elements)\n",
        "        .batch(BATCH_SIZE, drop_remainder=True)\n",
        "        .shuffle(1000)\n",
        "    )\n",
        "    vectorize_layer = layers.TextVectorization(\n",
        "        standardize=None, output_mode=\"int\"\n",
        "    )\n",
        "    vectorize_layer.adapt(ds)\n",
        "    vocab = vectorize_layer.get_vocabulary()\n",
        "    return ds, vectorize_layer, vocab\n",
        "\n",
        "\n",
        "notes_seq_ds, notes_vectorize_layer, notes_vocab = create_dataset(notes)\n",
        "durations_seq_ds, durations_vectorize_layer, durations_vocab = create_dataset(\n",
        "    durations\n",
        ")\n",
        "seq_ds = tf.data.Dataset.zip((notes_seq_ds, durations_seq_ds))"
      ]
    },
    {
      "cell_type": "code",
      "execution_count": null,
      "id": "9ec4d36c-a4ad-4c32-89a2-749c21786441",
      "metadata": {
        "colab": {
          "base_uri": "https://localhost:8080/"
        },
        "id": "9ec4d36c-a4ad-4c32-89a2-749c21786441",
        "outputId": "548ede74-c15c-444b-d906-b74bd789413a"
      },
      "outputs": [
        {
          "output_type": "stream",
          "name": "stdout",
          "text": [
            "note token duration token\n",
            "        28         3\n",
            "        15         3\n",
            "        23         3\n",
            "        22         3\n",
            "        15         3\n",
            "        20         3\n",
            "        22         3\n",
            "        15         3\n",
            "        20         3\n",
            "        22         3\n",
            "        15         3\n"
          ]
        }
      ],
      "source": [
        "# Display the same example notes and durations converted to ints\n",
        "example_tokenised_notes = notes_vectorize_layer(example_notes)\n",
        "example_tokenised_durations = durations_vectorize_layer(example_durations)\n",
        "print(\"{:10} {:10}\".format(\"note token\", \"duration token\"))\n",
        "for i, (note_int, duration_int) in enumerate(\n",
        "    zip(\n",
        "        example_tokenised_notes.numpy()[:11],\n",
        "        example_tokenised_durations.numpy()[:11],\n",
        "    )\n",
        "):\n",
        "    print(f\"{note_int:10}{duration_int:10}\")"
      ]
    },
    {
      "cell_type": "code",
      "execution_count": null,
      "id": "8dc29b17-1591-4b02-98e1-7f25960350be",
      "metadata": {
        "colab": {
          "base_uri": "https://localhost:8080/"
        },
        "id": "8dc29b17-1591-4b02-98e1-7f25960350be",
        "outputId": "a211964f-3bbd-4c55-c347-612eed0bb0e7"
      },
      "outputs": [
        {
          "output_type": "stream",
          "name": "stdout",
          "text": [
            "\n",
            "NOTES_VOCAB: length = 59\n",
            "0: \n",
            "1: [UNK]\n",
            "2: G3\n",
            "3: A3\n",
            "4: D3\n",
            "5: F3\n",
            "6: C4\n",
            "7: D4\n",
            "8: E3\n",
            "9: B3\n",
            "\n",
            "DURATIONS_VOCAB: length = 24\n",
            "0: \n",
            "1: [UNK]\n",
            "2: 0.25\n",
            "3: 0.5\n",
            "4: 1.0\n",
            "5: 1/3\n",
            "6: 0.75\n",
            "7: 1/12\n",
            "8: 1.5\n",
            "9: 0.0\n"
          ]
        }
      ],
      "source": [
        "notes_vocab_size = len(notes_vocab)\n",
        "durations_vocab_size = len(durations_vocab)\n",
        "\n",
        "# Display some token:note mappings\n",
        "print(f\"\\nNOTES_VOCAB: length = {len(notes_vocab)}\")\n",
        "for i, note in enumerate(notes_vocab[:10]):\n",
        "    print(f\"{i}: {note}\")\n",
        "\n",
        "print(f\"\\nDURATIONS_VOCAB: length = {len(durations_vocab)}\")\n",
        "# Display some token:duration mappings\n",
        "for i, note in enumerate(durations_vocab[:10]):\n",
        "    print(f\"{i}: {note}\")"
      ]
    },
    {
      "cell_type": "markdown",
      "id": "823fb0c1-ebf8-453b-be94-9a33b466cae4",
      "metadata": {
        "id": "823fb0c1-ebf8-453b-be94-9a33b466cae4"
      },
      "source": [
        "## 3. Create the Training Set <a name=\"create\"></a>"
      ]
    },
    {
      "cell_type": "code",
      "execution_count": null,
      "id": "8f0f2a52-b157-478d-8de7-11ed6c383461",
      "metadata": {
        "tags": [],
        "id": "8f0f2a52-b157-478d-8de7-11ed6c383461"
      },
      "outputs": [],
      "source": [
        "# Create the training set of sequences and the same sequences shifted by one note\n",
        "def prepare_inputs(notes, durations):\n",
        "    notes = tf.expand_dims(notes, -1)\n",
        "    durations = tf.expand_dims(durations, -1)\n",
        "    tokenized_notes = notes_vectorize_layer(notes)\n",
        "    tokenized_durations = durations_vectorize_layer(durations)\n",
        "    x = (tokenized_notes[:, :-1], tokenized_durations[:, :-1])\n",
        "    y = (tokenized_notes[:, 1:], tokenized_durations[:, 1:])\n",
        "    return x, y\n",
        "\n",
        "\n",
        "ds = seq_ds.map(prepare_inputs).repeat(DATASET_REPETITIONS)"
      ]
    },
    {
      "cell_type": "code",
      "execution_count": null,
      "id": "78248965-1716-4077-8db4-191e98c7a6a5",
      "metadata": {
        "colab": {
          "base_uri": "https://localhost:8080/"
        },
        "id": "78248965-1716-4077-8db4-191e98c7a6a5",
        "outputId": "25bfb925-b88b-424a-b098-74a499131861"
      },
      "outputs": [
        {
          "output_type": "stream",
          "name": "stdout",
          "text": [
            "((<tf.Tensor: shape=(256, 50), dtype=int64, numpy=\n",
            "array([[ 5,  2, 10, ...,  7,  6, 11],\n",
            "       [ 2, 10, 18, ...,  6, 11,  3],\n",
            "       [10, 18, 13, ..., 11,  3,  2],\n",
            "       ...,\n",
            "       [ 4,  6,  9, ..., 10, 14,  5],\n",
            "       [ 6,  9, 24, ..., 14,  5,  2],\n",
            "       [ 9, 24,  2, ...,  5,  2, 13]])>, <tf.Tensor: shape=(256, 50), dtype=int64, numpy=\n",
            "array([[3, 3, 3, ..., 3, 3, 3],\n",
            "       [3, 3, 3, ..., 3, 3, 3],\n",
            "       [3, 3, 3, ..., 3, 3, 3],\n",
            "       ...,\n",
            "       [3, 3, 3, ..., 3, 3, 3],\n",
            "       [3, 3, 3, ..., 3, 3, 3],\n",
            "       [3, 3, 3, ..., 3, 3, 3]])>), (<tf.Tensor: shape=(256, 50), dtype=int64, numpy=\n",
            "array([[ 2, 10, 18, ...,  6, 11,  3],\n",
            "       [10, 18, 13, ..., 11,  3,  2],\n",
            "       [18, 13, 14, ...,  3,  2,  3],\n",
            "       ...,\n",
            "       [ 6,  9, 24, ..., 14,  5,  2],\n",
            "       [ 9, 24,  2, ...,  5,  2, 13],\n",
            "       [24,  2, 14, ...,  2, 13, 10]])>, <tf.Tensor: shape=(256, 50), dtype=int64, numpy=\n",
            "array([[3, 3, 3, ..., 3, 3, 3],\n",
            "       [3, 3, 3, ..., 3, 3, 3],\n",
            "       [3, 3, 3, ..., 3, 3, 3],\n",
            "       ...,\n",
            "       [3, 3, 3, ..., 3, 3, 3],\n",
            "       [3, 3, 3, ..., 3, 3, 3],\n",
            "       [3, 3, 3, ..., 3, 3, 3]])>))\n"
          ]
        }
      ],
      "source": [
        "example_input_output = ds.take(1).get_single_element()\n",
        "print(example_input_output)"
      ]
    },
    {
      "cell_type": "markdown",
      "id": "5bb6376b-c4f9-4946-a736-94f1739c3149",
      "metadata": {
        "id": "5bb6376b-c4f9-4946-a736-94f1739c3149"
      },
      "source": [
        "## 5. Create the causal attention mask function <a name=\"causal\"></a>"
      ]
    },
    {
      "cell_type": "code",
      "execution_count": null,
      "id": "afb6fa02-3b59-48eb-bcef-d51c9d32ec18",
      "metadata": {
        "colab": {
          "base_uri": "https://localhost:8080/"
        },
        "id": "afb6fa02-3b59-48eb-bcef-d51c9d32ec18",
        "outputId": "230a675e-0b88-4cb3-c4d5-f51da135f349"
      },
      "outputs": [
        {
          "output_type": "execute_result",
          "data": {
            "text/plain": [
              "array([[1, 1, 1, 1, 1, 1, 1, 1, 1, 1],\n",
              "       [0, 1, 1, 1, 1, 1, 1, 1, 1, 1],\n",
              "       [0, 0, 1, 1, 1, 1, 1, 1, 1, 1],\n",
              "       [0, 0, 0, 1, 1, 1, 1, 1, 1, 1],\n",
              "       [0, 0, 0, 0, 1, 1, 1, 1, 1, 1],\n",
              "       [0, 0, 0, 0, 0, 1, 1, 1, 1, 1],\n",
              "       [0, 0, 0, 0, 0, 0, 1, 1, 1, 1],\n",
              "       [0, 0, 0, 0, 0, 0, 0, 1, 1, 1],\n",
              "       [0, 0, 0, 0, 0, 0, 0, 0, 1, 1],\n",
              "       [0, 0, 0, 0, 0, 0, 0, 0, 0, 1]], dtype=int32)"
            ]
          },
          "metadata": {},
          "execution_count": 50
        }
      ],
      "source": [
        "def causal_attention_mask(batch_size, n_dest, n_src, dtype):\n",
        "    i = tf.range(n_dest)[:, None]\n",
        "    j = tf.range(n_src)\n",
        "    m = i >= j - n_src + n_dest\n",
        "    mask = tf.cast(m, dtype)\n",
        "    mask = tf.reshape(mask, [1, n_dest, n_src])\n",
        "    mult = tf.concat(\n",
        "        [tf.expand_dims(batch_size, -1), tf.constant([1, 1], dtype=tf.int32)], 0\n",
        "    )\n",
        "    return tf.tile(mask, mult)\n",
        "\n",
        "\n",
        "np.transpose(causal_attention_mask(1, 10, 10, dtype=tf.int32)[0])"
      ]
    },
    {
      "cell_type": "markdown",
      "id": "52210a38-c8b4-4da7-90ce-eaa89c8fcafa",
      "metadata": {
        "id": "52210a38-c8b4-4da7-90ce-eaa89c8fcafa"
      },
      "source": [
        "## 6. Create a Transformer Block layer <a name=\"transformer\"></a>"
      ]
    },
    {
      "cell_type": "code",
      "execution_count": null,
      "id": "bc3f25e8-4e3f-4849-9b92-676ea46e3ed2",
      "metadata": {
        "id": "bc3f25e8-4e3f-4849-9b92-676ea46e3ed2"
      },
      "outputs": [],
      "source": [
        "class TransformerBlock(layers.Layer):\n",
        "    def __init__(\n",
        "        self,\n",
        "        num_heads,\n",
        "        key_dim,\n",
        "        embed_dim,\n",
        "        ff_dim,\n",
        "        name,\n",
        "        dropout_rate=DROPOUT_RATE,\n",
        "    ):\n",
        "        super(TransformerBlock, self).__init__(name=name)\n",
        "        self.num_heads = num_heads\n",
        "        self.key_dim = key_dim\n",
        "        self.embed_dim = embed_dim\n",
        "        self.ff_dim = ff_dim\n",
        "        self.dropout_rate = dropout_rate\n",
        "        self.attn = layers.MultiHeadAttention(\n",
        "            num_heads, key_dim, output_shape=embed_dim\n",
        "        )\n",
        "        self.dropout_1 = layers.Dropout(self.dropout_rate)\n",
        "        self.ln_1 = layers.LayerNormalization(epsilon=1e-6)\n",
        "        self.ffn_1 = layers.Dense(self.ff_dim, activation=\"relu\")\n",
        "        self.ffn_2 = layers.Dense(self.embed_dim)\n",
        "        self.dropout_2 = layers.Dropout(self.dropout_rate)\n",
        "        self.ln_2 = layers.LayerNormalization(epsilon=1e-6)\n",
        "\n",
        "    def call(self, inputs):\n",
        "        input_shape = tf.shape(inputs)\n",
        "        batch_size = input_shape[0]\n",
        "        seq_len = input_shape[1]\n",
        "        causal_mask = causal_attention_mask(\n",
        "            batch_size, seq_len, seq_len, tf.bool\n",
        "        )\n",
        "        attention_output, attention_scores = self.attn(\n",
        "            inputs,\n",
        "            inputs,\n",
        "            attention_mask=causal_mask,\n",
        "            return_attention_scores=True,\n",
        "        )\n",
        "        attention_output = self.dropout_1(attention_output)\n",
        "        out1 = self.ln_1(inputs + attention_output)\n",
        "        ffn_1 = self.ffn_1(out1)\n",
        "        ffn_2 = self.ffn_2(ffn_1)\n",
        "        ffn_output = self.dropout_2(ffn_2)\n",
        "        return (self.ln_2(out1 + ffn_output), attention_scores)\n",
        "\n",
        "    def get_config(self):\n",
        "        config = super().get_config()\n",
        "        config.update(\n",
        "            {\n",
        "                \"key_dim\": self.key_dim,\n",
        "                \"embed_dim\": self.embed_dim,\n",
        "                \"num_heads\": self.num_heads,\n",
        "                \"ff_dim\": self.ff_dim,\n",
        "                \"dropout_rate\": self.dropout_rate,\n",
        "            }\n",
        "        )\n",
        "        return config"
      ]
    },
    {
      "cell_type": "markdown",
      "id": "37ee1198-3bfc-415a-b247-02b8166133fe",
      "metadata": {
        "id": "37ee1198-3bfc-415a-b247-02b8166133fe"
      },
      "source": [
        "## 7. Create the Token and Position Embedding <a name=\"embedder\"></a>"
      ]
    },
    {
      "cell_type": "code",
      "execution_count": null,
      "id": "d7e30225-7fea-4a3c-afbc-b0017d5da661",
      "metadata": {
        "id": "d7e30225-7fea-4a3c-afbc-b0017d5da661"
      },
      "outputs": [],
      "source": [
        "class TokenAndPositionEmbedding(layers.Layer):\n",
        "    def __init__(self, vocab_size, embed_dim):\n",
        "        super(TokenAndPositionEmbedding, self).__init__()\n",
        "        self.vocab_size = vocab_size\n",
        "        self.embed_dim = embed_dim\n",
        "        self.token_emb = layers.Embedding(\n",
        "            input_dim=vocab_size,\n",
        "            output_dim=embed_dim,\n",
        "            embeddings_initializer=\"he_uniform\",\n",
        "        )\n",
        "        self.pos_emb = SinePositionEncoding()\n",
        "\n",
        "    def call(self, x):\n",
        "        embedding = self.token_emb(x)\n",
        "        positions = self.pos_emb(embedding)\n",
        "        return embedding + positions\n",
        "\n",
        "    def get_config(self):\n",
        "        config = super().get_config()\n",
        "        config.update(\n",
        "            {\n",
        "                \"vocab_size\": self.vocab_size,\n",
        "                \"embed_dim\": self.embed_dim,\n",
        "            }\n",
        "        )\n",
        "        return config"
      ]
    },
    {
      "cell_type": "code",
      "execution_count": null,
      "id": "96ec1c62-c375-4831-99f3-d313f98f39b6",
      "metadata": {
        "colab": {
          "base_uri": "https://localhost:8080/",
          "height": 1000
        },
        "id": "96ec1c62-c375-4831-99f3-d313f98f39b6",
        "outputId": "9ffa1f5c-fbfb-4a89-f00c-2f4c9e9f27d3"
      },
      "outputs": [
        {
          "output_type": "display_data",
          "data": {
            "text/plain": [
              "<Figure size 640x480 with 1 Axes>"
            ],
            "image/png": "[encoded data removed]"
          },
          "metadata": {
            "image/png": {
              "width": 547,
              "height": 354
            }
          }
        },
        {
          "output_type": "display_data",
          "data": {
            "text/plain": [
              "<Figure size 640x480 with 1 Axes>"
            ],
            "image/png": "[encoded data removed]"
          },
          "metadata": {
            "image/png": {
              "width": 547,
              "height": 354
            }
          }
        },
        {
          "output_type": "display_data",
          "data": {
            "text/plain": [
              "<Figure size 640x480 with 1 Axes>"
            ],
            "image/png": "[encoded data removed]"
          },
          "metadata": {
            "image/png": {
              "width": 547,
              "height": 354
            }
          }
        }
      ],
      "source": [
        "tpe = TokenAndPositionEmbedding(notes_vocab_size, 32)\n",
        "token_embedding = tpe.token_emb(example_tokenised_notes)\n",
        "position_embedding = tpe.pos_emb(token_embedding)\n",
        "embedding = tpe(example_tokenised_notes)\n",
        "plt.imshow(\n",
        "    np.transpose(token_embedding),\n",
        "    cmap=\"coolwarm\",\n",
        "    interpolation=\"nearest\",\n",
        "    origin=\"lower\",\n",
        ")\n",
        "plt.show()\n",
        "plt.imshow(\n",
        "    np.transpose(position_embedding),\n",
        "    cmap=\"coolwarm\",\n",
        "    interpolation=\"nearest\",\n",
        "    origin=\"lower\",\n",
        ")\n",
        "plt.show()\n",
        "plt.imshow(\n",
        "    np.transpose(embedding),\n",
        "    cmap=\"coolwarm\",\n",
        "    interpolation=\"nearest\",\n",
        "    origin=\"lower\",\n",
        ")\n",
        "plt.show()"
      ]
    },
    {
      "cell_type": "markdown",
      "id": "fee70157-5cb1-466c-bb9d-ba4720a93173",
      "metadata": {
        "id": "fee70157-5cb1-466c-bb9d-ba4720a93173"
      },
      "source": [
        "## 8. Build the Transformer model <a name=\"transformer_decoder\"></a>"
      ]
    },
    {
      "cell_type": "code",
      "execution_count": null,
      "id": "df56f070-228b-4364-94ae-5b6a12349960",
      "metadata": {
        "id": "df56f070-228b-4364-94ae-5b6a12349960"
      },
      "outputs": [],
      "source": [
        "note_inputs = layers.Input(shape=(None,), dtype=tf.int32)\n",
        "durations_inputs = layers.Input(shape=(None,), dtype=tf.int32)\n",
        "note_embeddings = TokenAndPositionEmbedding(\n",
        "    notes_vocab_size, EMBEDDING_DIM // 2\n",
        ")(note_inputs)\n",
        "duration_embeddings = TokenAndPositionEmbedding(\n",
        "    durations_vocab_size, EMBEDDING_DIM // 2\n",
        ")(durations_inputs)\n",
        "embeddings = layers.Concatenate()([note_embeddings, duration_embeddings])\n",
        "x, attention_scores = TransformerBlock(\n",
        "    N_HEADS, KEY_DIM, EMBEDDING_DIM, FEED_FORWARD_DIM, name=\"attention\"\n",
        ")(embeddings)\n",
        "note_outputs = layers.Dense(\n",
        "    notes_vocab_size, activation=\"softmax\", name=\"note_outputs\"\n",
        ")(x)\n",
        "duration_outputs = layers.Dense(\n",
        "    durations_vocab_size, activation=\"softmax\", name=\"duration_outputs\"\n",
        ")(x)\n",
        "model = models.Model(\n",
        "    inputs=[note_inputs, durations_inputs],\n",
        "    outputs=[note_outputs, duration_outputs],  # attention_scores\n",
        ")\n",
        "model.compile(\n",
        "    \"adam\",\n",
        "    loss=[\n",
        "        losses.SparseCategoricalCrossentropy(),\n",
        "        losses.SparseCategoricalCrossentropy(),\n",
        "    ],\n",
        ")\n",
        "att_model = models.Model(\n",
        "    inputs=[note_inputs, durations_inputs], outputs=attention_scores\n",
        ")"
      ]
    },
    {
      "cell_type": "code",
      "execution_count": null,
      "id": "eddbcc80-d0e9-41f0-bd70-032d489369b4",
      "metadata": {
        "colab": {
          "base_uri": "https://localhost:8080/"
        },
        "id": "eddbcc80-d0e9-41f0-bd70-032d489369b4",
        "outputId": "547b0304-010d-407c-8758-df162217d8d5"
      },
      "outputs": [
        {
          "output_type": "stream",
          "name": "stdout",
          "text": [
            "Model: \"model_3\"\n",
            "__________________________________________________________________________________________________\n",
            " Layer (type)                Output Shape                 Param #   Connected to                  \n",
            "==================================================================================================\n",
            " input_3 (InputLayer)        [(None, None)]               0         []                            \n",
            "                                                                                                  \n",
            " input_4 (InputLayer)        [(None, None)]               0         []                            \n",
            "                                                                                                  \n",
            " token_and_position_embeddi  (None, None, 128)            7552      ['input_3[0][0]']             \n",
            " ng_4 (TokenAndPositionEmbe                                                                       \n",
            " dding)                                                                                           \n",
            "                                                                                                  \n",
            " token_and_position_embeddi  (None, None, 128)            3072      ['input_4[0][0]']             \n",
            " ng_5 (TokenAndPositionEmbe                                                                       \n",
            " dding)                                                                                           \n",
            "                                                                                                  \n",
            " concatenate_1 (Concatenate  (None, None, 256)            0         ['token_and_position_embedding\n",
            " )                                                                  _4[0][0]',                    \n",
            "                                                                     'token_and_position_embedding\n",
            "                                                                    _5[0][0]']                    \n",
            "                                                                                                  \n",
            " attention (TransformerBloc  ((None, None, 256),          1447424   ['concatenate_1[0][0]']       \n",
            " k)                           (None, 5, None, None))                                              \n",
            "                                                                                                  \n",
            " note_outputs (Dense)        (None, None, 59)             15163     ['attention[0][0]']           \n",
            "                                                                                                  \n",
            " duration_outputs (Dense)    (None, None, 24)             6168      ['attention[0][0]']           \n",
            "                                                                                                  \n",
            "==================================================================================================\n",
            "Total params: 1479379 (5.64 MB)\n",
            "Trainable params: 1479379 (5.64 MB)\n",
            "Non-trainable params: 0 (0.00 Byte)\n",
            "__________________________________________________________________________________________________\n"
          ]
        }
      ],
      "source": [
        "model.summary()"
      ]
    },
    {
      "cell_type": "markdown",
      "id": "afeab12c-b871-47c0-884c-752238b9f719",
      "metadata": {
        "id": "afeab12c-b871-47c0-884c-752238b9f719"
      },
      "source": [
        "## 9. Train the Transformer <a name=\"train\"></a>"
      ]
    },
    {
      "cell_type": "code",
      "execution_count": null,
      "id": "a2003f19-610a-4acb-a225-0f6c1a3d3a1f",
      "metadata": {
        "id": "a2003f19-610a-4acb-a225-0f6c1a3d3a1f"
      },
      "outputs": [],
      "source": [
        "# Create a MusicGenerator checkpoint\n",
        "class MusicGenerator(callbacks.Callback):\n",
        "    def __init__(self, index_to_note, index_to_duration, top_k=10):\n",
        "        self.index_to_note = index_to_note\n",
        "        self.note_to_index = {\n",
        "            note: index for index, note in enumerate(index_to_note)\n",
        "        }\n",
        "        self.index_to_duration = index_to_duration\n",
        "        self.duration_to_index = {\n",
        "            duration: index for index, duration in enumerate(index_to_duration)\n",
        "        }\n",
        "\n",
        "    def sample_from(self, probs, temperature):\n",
        "        probs = probs ** (1 / temperature)\n",
        "        probs = probs / np.sum(probs)\n",
        "        return np.random.choice(len(probs), p=probs), probs\n",
        "\n",
        "    def get_note(self, notes, durations, temperature):\n",
        "        sample_note_idx = 1\n",
        "        while sample_note_idx == 1:\n",
        "            sample_note_idx, note_probs = self.sample_from(\n",
        "                notes[0][-1], temperature\n",
        "            )\n",
        "            sample_note = self.index_to_note[sample_note_idx]\n",
        "\n",
        "        sample_duration_idx = 1\n",
        "        while sample_duration_idx == 1:\n",
        "            sample_duration_idx, duration_probs = self.sample_from(\n",
        "                durations[0][-1], temperature\n",
        "            )\n",
        "            sample_duration = self.index_to_duration[sample_duration_idx]\n",
        "\n",
        "        new_note = get_midi_note(sample_note, sample_duration)\n",
        "\n",
        "        return (\n",
        "            new_note,\n",
        "            sample_note_idx,\n",
        "            sample_note,\n",
        "            note_probs,\n",
        "            sample_duration_idx,\n",
        "            sample_duration,\n",
        "            duration_probs,\n",
        "        )\n",
        "\n",
        "    def generate(self, start_notes, start_durations, max_tokens, temperature):\n",
        "        attention_model = models.Model(\n",
        "            inputs=self.model.input,\n",
        "            outputs=self.model.get_layer(\"attention\").output,\n",
        "        )\n",
        "\n",
        "        start_note_tokens = [self.note_to_index.get(x, 1) for x in start_notes]\n",
        "        start_duration_tokens = [\n",
        "            self.duration_to_index.get(x, 1) for x in start_durations\n",
        "        ]\n",
        "        sample_note = None\n",
        "        sample_duration = None\n",
        "        info = []\n",
        "        midi_stream = music21.stream.Stream()\n",
        "\n",
        "        midi_stream.append(music21.clef.BassClef())\n",
        "\n",
        "        for sample_note, sample_duration in zip(start_notes, start_durations):\n",
        "            new_note = get_midi_note(sample_note, sample_duration)\n",
        "            if new_note is not None:\n",
        "                midi_stream.append(new_note)\n",
        "\n",
        "        while len(start_note_tokens) < max_tokens:\n",
        "            x1 = np.array([start_note_tokens])\n",
        "            x2 = np.array([start_duration_tokens])\n",
        "            notes, durations = self.model.predict([x1, x2], verbose=0)\n",
        "\n",
        "            repeat = True\n",
        "\n",
        "            while repeat:\n",
        "                (\n",
        "                    new_note,\n",
        "                    sample_note_idx,\n",
        "                    sample_note,\n",
        "                    note_probs,\n",
        "                    sample_duration_idx,\n",
        "                    sample_duration,\n",
        "                    duration_probs,\n",
        "                ) = self.get_note(notes, durations, temperature)\n",
        "\n",
        "                if (\n",
        "                    isinstance(new_note, music21.chord.Chord)\n",
        "                    or isinstance(new_note, music21.note.Note)\n",
        "                    or isinstance(new_note, music21.note.Rest)\n",
        "                ) and sample_duration == \"0.0\":\n",
        "                    repeat = True\n",
        "                else:\n",
        "                    repeat = False\n",
        "\n",
        "            if new_note is not None:\n",
        "                midi_stream.append(new_note)\n",
        "\n",
        "            _, att = attention_model.predict([x1, x2], verbose=0)\n",
        "\n",
        "            info.append(\n",
        "                {\n",
        "                    \"prompt\": [start_notes.copy(), start_durations.copy()],\n",
        "                    \"midi\": midi_stream,\n",
        "                    \"chosen_note\": (sample_note, sample_duration),\n",
        "                    \"note_probs\": note_probs,\n",
        "                    \"duration_probs\": duration_probs,\n",
        "                    \"atts\": att[0, :, -1, :],\n",
        "                }\n",
        "            )\n",
        "            start_note_tokens.append(sample_note_idx)\n",
        "            start_duration_tokens.append(sample_duration_idx)\n",
        "            start_notes.append(sample_note)\n",
        "            start_durations.append(sample_duration)\n",
        "\n",
        "            if sample_note == \"START\":\n",
        "                break\n",
        "\n",
        "        return info\n",
        "\n",
        "    def on_epoch_end(self, epoch, logs=None):\n",
        "        info = self.generate(\n",
        "            [\"START\"], [\"0.0\"], max_tokens=GENERATE_LEN, temperature=0.5\n",
        "        )\n",
        "        midi_stream = info[-1][\"midi\"].chordify()\n",
        "        print(info[-1][\"prompt\"])\n",
        "        #midi_stream.show()\n",
        "        midi_stream.write(\n",
        "            \"midi\",\n",
        "            fp=os.path.join(\n",
        "                \"/content/output\",\n",
        "                \"output-\" + str(epoch).zfill(4) + \".mid\",\n",
        "            ),\n",
        "        )"
      ]
    },
    {
      "cell_type": "code",
      "execution_count": null,
      "id": "48a82971-e609-4ced-9fd1-60eb9694c08a",
      "metadata": {
        "id": "48a82971-e609-4ced-9fd1-60eb9694c08a"
      },
      "outputs": [],
      "source": [
        "\n",
        "# Tokenize starting prompt\n",
        "music_generator = MusicGenerator(notes_vocab, durations_vocab)"
      ]
    },
    {
      "cell_type": "code",
      "execution_count": null,
      "id": "69f0c057-01c8-4a6a-9d82-8e83e66aa075",
      "metadata": {
        "tags": [],
        "colab": {
          "base_uri": "https://localhost:8080/"
        },
        "id": "69f0c057-01c8-4a6a-9d82-8e83e66aa075",
        "outputId": "f4e8b9ba-0daa-4127-be83-a164d6847b98"
      },
      "outputs": [
        {
          "output_type": "stream",
          "name": "stdout",
          "text": [
            "Epoch 1/100\n",
            "107/107 [==============================] - ETA: 0s - loss: 2.9069 - note_outputs_loss: 2.3450 - duration_outputs_loss: 0.5619"
          ]
        },
        {
          "output_type": "stream",
          "name": "stderr",
          "text": [
            "WARNING:tensorflow:5 out of the last 15 calls to <function Model.make_predict_function.<locals>.predict_function at 0x7809f408c670> triggered tf.function retracing. Tracing is expensive and the excessive number of tracings could be due to (1) creating @tf.function repeatedly in a loop, (2) passing tensors with different shapes, (3) passing Python objects instead of tensors. For (1), please define your @tf.function outside of the loop. For (2), @tf.function has reduce_retracing=True option that can avoid unnecessary retracing. For (3), please refer to https://www.tensorflow.org/guide/function#controlling_retracing and https://www.tensorflow.org/api_docs/python/tf/function for  more details.\n"
          ]
        },
        {
          "output_type": "stream",
          "name": "stdout",
          "text": [
            "[['START', '4/4TS', 'rest'], ['0.0', '0.0', '2.5']]\n",
            "\b\b\b\b\b\b\b\b\b\b\b\b\b\b\b\b\b\b\b\b\b\b\b\b\b\b\b\b\b\b\b\b\b\b\b\b\b\b\b\b\b\b\b\b\b\b\b\b\b\b\b\b\b\b\b\b\b\b\b\b\b\b\b\b\b\b\b\b\b\b\b\b\b\b\b\b\b\b\b\b\b\b\b\b\b\b\b\b\b\b\b\b\b\b\b\b\b\b\b\b\b\b\b\b\b\b\b\b\b\b\b\b\b\b\b\b\b\b\b\b\b\b\b\b\b\r107/107 [==============================] - 56s 522ms/step - loss: 2.9069 - note_outputs_loss: 2.3450 - duration_outputs_loss: 0.5619\n",
            "Epoch 2/100\n",
            "107/107 [==============================] - ETA: 0s - loss: 2.8903 - note_outputs_loss: 2.3335 - duration_outputs_loss: 0.5569[['START', '3/4TS', '3/4TS'], ['0.0', '0.0', '0.0']]\n",
            "107/107 [==============================] - 57s 530ms/step - loss: 2.8903 - note_outputs_loss: 2.3335 - duration_outputs_loss: 0.5569\n",
            "Epoch 3/100\n",
            "107/107 [==============================] - ETA: 0s - loss: 2.8584 - note_outputs_loss: 2.3086 - duration_outputs_loss: 0.5497[['START', '4/4TS', 'rest', 'C4', 'B3', 'C4', 'D4', 'C4', 'B3', 'A3', 'G3', 'F#3', 'G3', 'B3', 'A3', 'G3', 'F#3', 'G3', 'D3', 'E3', 'G3', 'A3', 'B3', 'A3', 'G3', 'F#3', 'G3', 'A3', 'B3', 'C4', 'B3', 'C4', 'B3', 'C4', 'B3', 'C4', 'C4', 'C4', 'B3', 'C4', 'B3', 'C4', 'B3', 'C4', 'B3', 'C4', 'B3', 'C4', 'B3'], ['0.0', '0.0', '2.5', '0.5', '0.5', '0.5', '0.5', '0.5', '0.5', '0.5', '0.5', '0.5', '0.5', '0.5', '0.5', '0.5', '0.5', '0.5', '0.5', '0.5', '0.5', '0.5', '0.5', '0.5', '0.5', '0.5', '0.5', '0.5', '0.5', '0.5', '0.5', '0.5', '0.5', '0.5', '0.5', '0.5', '0.5', '0.5', '0.5', '0.5', '0.5', '0.5', '0.5', '0.5', '0.5', '0.5', '0.5', '0.5', '0.5']]\n",
            "107/107 [==============================] - 64s 598ms/step - loss: 2.8584 - note_outputs_loss: 2.3086 - duration_outputs_loss: 0.5497\n",
            "Epoch 4/100\n",
            "107/107 [==============================] - ETA: 0s - loss: 2.8572 - note_outputs_loss: 2.3031 - duration_outputs_loss: 0.5541[['START', '3/4TS', '3/4TS', 'rest'], ['0.0', '0.0', '0.0', '3.75']]\n",
            "107/107 [==============================] - 56s 528ms/step - loss: 2.8572 - note_outputs_loss: 2.3031 - duration_outputs_loss: 0.5541\n",
            "Epoch 5/100\n",
            "107/107 [==============================] - ETA: 0s - loss: 2.8309 - note_outputs_loss: 2.2773 - duration_outputs_loss: 0.5535[['START', '3/4TS'], ['0.0', '0.0']]\n",
            "107/107 [==============================] - 56s 521ms/step - loss: 2.8309 - note_outputs_loss: 2.2773 - duration_outputs_loss: 0.5535\n",
            "Epoch 6/100\n",
            "107/107 [==============================] - ETA: 0s - loss: 2.8094 - note_outputs_loss: 2.2600 - duration_outputs_loss: 0.5495[['START', 'E-:major', '4/4TS', 'rest'], ['0.0', '0.0', '0.0', '1.0']]\n",
            "107/107 [==============================] - 56s 527ms/step - loss: 2.8094 - note_outputs_loss: 2.2600 - duration_outputs_loss: 0.5495\n",
            "Epoch 7/100\n",
            "107/107 [==============================] - ETA: 0s - loss: 2.7991 - note_outputs_loss: 2.2517 - duration_outputs_loss: 0.5474[['START', 'C:major', '4/4TS', 'rest', 'rest', 'F#3', 'A3', 'B3', 'C4', 'B3', 'C4', 'B3', 'B3', 'C4', 'B3', 'C4', 'B3', 'B3', 'C4', 'B3', 'A3', 'B3', 'C4', 'B3', 'C4', 'B3', 'A3', 'C4', 'B3', 'A3', 'C4', 'C4', 'B3', 'A3', 'C4', 'B3', 'C4', 'B3', 'C4', 'B3', 'C4', 'B3', 'A3', 'G3', 'F#3', 'C4', 'B3', 'A3', 'C4'], ['0.0', '0.5', '0.5', '0.5', '0.5', '0.5', '0.5', '0.5', '0.5', '0.5', '0.5', '0.5', '0.5', '0.5', '0.5', '0.5', '0.5', '0.5', '0.5', '0.5', '0.5', '0.5', '0.5', '0.5', '0.5', '0.5', '0.5', '0.5', '0.5', '0.5', '0.5', '0.5', '0.5', '0.5', '0.5', '0.5', '0.5', '0.5', '0.5', '0.5', '0.5', '0.5', '0.5', '0.5', '0.5', '0.5', '0.5', '0.5', '0.5']]\n",
            "107/107 [==============================] - 64s 594ms/step - loss: 2.7991 - note_outputs_loss: 2.2517 - duration_outputs_loss: 0.5474\n",
            "Epoch 8/100\n",
            "107/107 [==============================] - ETA: 0s - loss: 2.7966 - note_outputs_loss: 2.2481 - duration_outputs_loss: 0.5485[['START', 'D:major', '4/4TS', 'rest', 'C#4', 'B3', 'A3', 'A4', 'A4', 'A4', 'A4', 'G4', 'F#4', 'A4', 'G4', 'G4', 'F#4', 'G4', 'G4', 'G4', 'F#4', 'E4', 'F#4', 'D4', 'C#4', 'D4', 'E4', 'C#4', 'E4', 'F#4', 'F#4', 'G4', 'F#4', 'G4', 'F#4', 'F#4', 'G4', 'G4', 'F#4', 'F#4', 'E4', 'F#4', 'G4', 'F#4', 'G4', 'F#4', 'G4', 'F#4', 'G4'], ['0.0', '0.0', '0.0', '2.5', '0.5', '0.5', '0.5', '0.5', '0.5', '0.5', '0.5', '0.5', '0.5', '0.5', '0.5', '0.5', '0.5', '0.5', '0.5', '0.5', '0.5', '0.5', '0.5', '0.5', '0.5', '0.5', '0.5', '0.5', '0.5', '0.5', '0.5', '0.5', '0.5', '0.5', '0.5', '0.5', '0.5', '0.5', '0.5', '0.5', '0.5', '0.5', '0.5', '0.5', '0.5', '0.5', '0.5', '0.5', '0.5']]\n",
            "107/107 [==============================] - 65s 604ms/step - loss: 2.7966 - note_outputs_loss: 2.2481 - duration_outputs_loss: 0.5485\n",
            "Epoch 9/100\n",
            "107/107 [==============================] - ETA: 0s - loss: 2.7651 - note_outputs_loss: 2.2198 - duration_outputs_loss: 0.5453[['START', 'C:major', '4/4TS', 'rest'], ['0.0', '0.0', '0.0', '3.75']]\n",
            "107/107 [==============================] - 57s 533ms/step - loss: 2.7651 - note_outputs_loss: 2.2198 - duration_outputs_loss: 0.5453\n",
            "Epoch 10/100\n",
            "107/107 [==============================] - ETA: 0s - loss: 2.7667 - note_outputs_loss: 2.2070 - duration_outputs_loss: 0.5597[['START', '4/4TS', '4/4TS', 'rest'], ['0.0', '0.0', '2.5', '0.5']]\n",
            "107/107 [==============================] - 57s 537ms/step - loss: 2.7667 - note_outputs_loss: 2.2070 - duration_outputs_loss: 0.5597\n",
            "Epoch 11/100\n",
            "107/107 [==============================] - ETA: 0s - loss: 2.7523 - note_outputs_loss: 2.2015 - duration_outputs_loss: 0.5507[['START', 'E-:major', '4/4TS', 'rest', 'C4', 'A3', 'B-3', 'G3', 'F3', 'E-3', 'D3', 'E-3', 'F3', 'E-3', 'F3', 'E-3', 'D3', 'C3', 'B2', 'C3', 'D3', 'E-3', 'F3', 'E-3', 'D3', 'E-3', 'F3', 'G3', 'B-3', 'A3', 'G3', 'F3', 'F3', 'E-3', 'F3', 'F3', 'B-2', 'D3', 'G3', 'E-3', 'F3', 'G3', 'G#3', 'G3', 'F3', 'E-3', 'D3', 'C3', 'B2'], ['0.0', '0.0', '0.5', '0.5', '0.5', '0.5', '0.5', '0.5', '0.5', '0.5', '0.5', '0.5', '0.5', '0.5', '0.5', '0.5', '0.5', '0.5', '0.5', '0.5', '0.5', '0.5', '0.5', '0.5', '0.5', '0.5', '0.5', '0.5', '0.5', '0.5', '0.5', '0.5', '0.5', '0.5', '0.5', '0.5', '0.5', '0.5', '0.5', '0.5', '0.5', '0.5', '0.5', '0.5', '0.5', '0.5', '0.5', '0.5', '0.5']]\n",
            "107/107 [==============================] - 64s 602ms/step - loss: 2.7523 - note_outputs_loss: 2.2015 - duration_outputs_loss: 0.5507\n",
            "Epoch 12/100\n",
            "107/107 [==============================] - ETA: 0s - loss: 2.7291 - note_outputs_loss: 2.1870 - duration_outputs_loss: 0.5421[['START', 'G:major', '3/4TS', 'rest'], ['0.0', '0.0', '0.5', '0.5']]\n",
            "107/107 [==============================] - 57s 529ms/step - loss: 2.7291 - note_outputs_loss: 2.1870 - duration_outputs_loss: 0.5421\n",
            "Epoch 13/100\n",
            "107/107 [==============================] - ETA: 0s - loss: 2.7181 - note_outputs_loss: 2.1691 - duration_outputs_loss: 0.5491[['START', 'E-:major', '4/4TS', 'rest'], ['0.0', '0.0', '0.0', '3.75']]\n",
            "107/107 [==============================] - 57s 532ms/step - loss: 2.7181 - note_outputs_loss: 2.1691 - duration_outputs_loss: 0.5491\n",
            "Epoch 14/100\n",
            "107/107 [==============================] - ETA: 0s - loss: 2.7161 - note_outputs_loss: 2.1664 - duration_outputs_loss: 0.5497[['START', 'E-:major', '4/4TS', 'rest'], ['0.0', '0.0', '0.0', '3.75']]\n",
            "107/107 [==============================] - 57s 532ms/step - loss: 2.7161 - note_outputs_loss: 2.1664 - duration_outputs_loss: 0.5497\n",
            "Epoch 15/100\n",
            "107/107 [==============================] - ETA: 0s - loss: 2.6853 - note_outputs_loss: 2.1431 - duration_outputs_loss: 0.5421[['START', 'D:major', '4/4TS', 'rest', 'D4', 'rest', 'A4', 'A4', 'F#4', 'F#4', 'E4', 'F#4', 'G4', 'F#4', 'E4', 'A4', 'A4', 'A4', 'B4', 'B4', 'A4', 'A4', 'A4', 'B4', 'A4', 'G4', 'F#4', 'F#4', 'F#4', 'G4', 'F#4', 'D4', 'C#4', 'D4', 'E4', 'F#4', 'G4', 'F#4', 'G4', 'F#4', 'F#4', 'F#4', 'G4', 'F#4', 'G4', 'F#4', 'F#4', 'D4', 'E4'], ['0.0', '0.0', '0.0', '3.75', '0.25', '0.25', '0.25', '0.25', '0.25', '0.25', '0.25', '0.25', '0.25', '0.25', '0.25', '0.25', '0.25', '0.25', '0.25', '0.25', '0.25', '0.25', '0.25', '0.25', '0.25', '0.25', '0.25', '0.25', '0.25', '0.25', '0.25', '0.25', '0.25', '0.25', '0.25', '0.25', '0.25', '0.25', '0.25', '0.25', '0.25', '0.25', '0.25', '0.25', '0.25', '0.25', '0.25', '0.25', '0.25']]\n",
            "107/107 [==============================] - 64s 603ms/step - loss: 2.6853 - note_outputs_loss: 2.1431 - duration_outputs_loss: 0.5421\n",
            "Epoch 16/100\n",
            "107/107 [==============================] - ETA: 0s - loss: 2.6875 - note_outputs_loss: 2.1337 - duration_outputs_loss: 0.5537[['START', 'D:major', '4/4TS', 'rest', 'B4', 'A4', 'A4', 'A4', 'A4', 'G4', 'G4', 'F#4', 'G4', 'E4', 'F#4', 'G4', 'F#4', 'F#4', 'E4', 'D4', 'C#4', 'D4', 'C#4', 'D4', 'E4', 'C#4', 'C#4', 'C#4', 'C#4', 'D4', 'C#4', 'D4', 'C#4', 'D4', 'E4', 'C#4', 'C#4', 'C#4', 'C#4', 'C#4', 'C#4', 'C#4', 'C#4', 'C#4', 'C#4', 'C#4', 'C#4', 'C#4', 'C#4'], ['0.0', '0.0', '0.0', '3.75', '0.25', '0.25', '0.25', '0.25', '0.25', '0.25', '0.25', '0.25', '0.25', '0.25', '0.25', '0.25', '0.25', '0.25', '0.25', '0.25', '0.25', '0.25', '0.25', '0.25', '0.25', '0.25', '0.25', '0.25', '0.25', '0.25', '0.25', '0.25', '0.25', '0.25', '0.25', '0.25', '0.25', '0.25', '0.25', '0.25', '0.25', '0.25', '0.25', '0.25', '0.25', '0.25', '0.25', '0.25', '0.25']]\n",
            "107/107 [==============================] - 64s 600ms/step - loss: 2.6875 - note_outputs_loss: 2.1337 - duration_outputs_loss: 0.5537\n",
            "Epoch 17/100\n",
            "107/107 [==============================] - ETA: 0s - loss: 2.6771 - note_outputs_loss: 2.1280 - duration_outputs_loss: 0.5491[['START', 'C:major', '4/4TS', 'rest'], ['0.0', '0.0', '0.0', '3.75']]\n",
            "107/107 [==============================] - 57s 530ms/step - loss: 2.6771 - note_outputs_loss: 2.1280 - duration_outputs_loss: 0.5491\n",
            "Epoch 18/100\n",
            "107/107 [==============================] - ETA: 0s - loss: 2.6504 - note_outputs_loss: 2.1056 - duration_outputs_loss: 0.5448[['START', 'G:major', '4/4TS', 'G2', 'D3', 'G2', 'B3', 'C4', 'D4', 'E-4', 'D4', 'E-4', 'E4', 'F4', 'E-4', 'F3', 'G3', 'G#3', 'G3', 'F3', 'E-3', 'D3', 'E-3', 'F3', 'D3', 'C3', 'B2', 'C3', 'D3', 'E-3', 'C3', 'D3', 'C3', 'B2', 'C3', 'D3', 'E-3', 'F3', 'D3', 'E-3', 'F3', 'E-3', 'D3', 'E-3', 'C3', 'B2', 'D3', 'E-3', 'C3'], ['0.0', '0.0', '0.0', '1.0', '1.0', '0.5', '0.5', '1.0', '1.0', '1.0', '1.0', '1.0', '1.0', '1.0', '1.0', '1.0', '1.0', '1.0', '1.0', '1.0', '1.0', '1.0', '1.0', '1.0', '1.0', '1.0', '1.0', '1.0', '1.0', '1.0', '1.0', '1.0', '1.0', '1.0', '1.0', '1.0', '1.0', '1.0', '1.0', '1.0', '1.0', '1.0', '1.0', '1.0', '1.0', '1.0', '1.0', '1.0', '1.0']]\n",
            "107/107 [==============================] - 65s 603ms/step - loss: 2.6504 - note_outputs_loss: 2.1056 - duration_outputs_loss: 0.5448\n",
            "Epoch 19/100\n",
            "107/107 [==============================] - ETA: 0s - loss: 2.6448 - note_outputs_loss: 2.0975 - duration_outputs_loss: 0.5473[['START', 'C:major', '3/4TS', 'D3', 'C3', 'B2', 'C3', 'D3', 'E3', 'F3', 'D3', 'E3', 'D3', 'C3', 'B2', 'C3', 'G2', 'E3', 'C3', 'G2', 'E3', 'G2', 'F#3', 'G2', 'G3', 'G2', 'B3', 'G2', 'C4', 'G2', 'C4', 'G2', 'A2', 'G2', 'B2', 'G2', 'G2', 'G3', 'G2', 'E3', 'G2', 'G2', 'G2', 'G2', 'G2', 'G2', 'G3', 'G2', 'G2'], ['0.0', '0.0', '0.0', '3.75', '0.25', '0.25', '0.25', '0.25', '0.25', '0.25', '0.25', '0.25', '0.25', '0.25', '0.25', '0.25', '0.25', '0.25', '0.25', '0.25', '0.25', '0.25', '0.25', '0.25', '0.25', '0.25', '0.25', '0.25', '0.25', '0.25', '0.25', '0.25', '0.25', '0.25', '0.25', '0.25', '0.25', '0.25', '0.25', '0.25', '0.25', '0.25', '0.25', '0.25', '0.25', '0.25', '0.25', '0.25', '0.25']]\n",
            "107/107 [==============================] - 64s 598ms/step - loss: 2.6448 - note_outputs_loss: 2.0975 - duration_outputs_loss: 0.5473\n",
            "Epoch 20/100\n",
            "107/107 [==============================] - ETA: 0s - loss: 2.6318 - note_outputs_loss: 2.0853 - duration_outputs_loss: 0.5465[['START', 'G:major', '4/4TS', 'G2', 'B3', 'C4', 'A3', 'B3', 'A3', 'B3', 'A3', 'B3', 'G3', 'A3', 'D3', 'F#3', 'A3', 'G3', 'F#3', 'E3', 'D3', 'E3', 'D3', 'E3', 'F#3', 'G3', 'A3', 'F#3', 'A3', 'E3', 'F#3', 'D3', 'E3', 'F#3', 'G3', 'A3', 'B3', 'D3', 'E3', 'F#3', 'G3', 'A3', 'G3', 'F#3', 'E3', 'D3', 'E3', 'F#3', 'D3'], ['0.0', '0.0', '0.0', '2.5', '0.5', '0.5', '0.5', '0.5', '0.5', '0.5', '0.5', '0.5', '0.5', '0.5', '0.5', '0.5', '0.5', '0.5', '0.5', '0.5', '0.5', '0.5', '0.5', '0.5', '0.5', '0.5', '0.5', '0.5', '0.5', '0.5', '0.5', '0.5', '0.5', '0.5', '0.5', '0.5', '0.5', '0.5', '0.5', '0.5', '0.5', '0.5', '0.5', '0.5', '0.5', '0.5', '0.5', '0.5', '0.5']]\n",
            "107/107 [==============================] - 64s 600ms/step - loss: 2.6318 - note_outputs_loss: 2.0853 - duration_outputs_loss: 0.5465\n",
            "Epoch 21/100\n",
            "107/107 [==============================] - ETA: 0s - loss: 2.6164 - note_outputs_loss: 2.0675 - duration_outputs_loss: 0.5490[['START', 'F:major', '4/4TS', 'rest', 'D4', 'rest'], ['0.0', '0.0', '0.0', '3.75', '0.25', '0.25']]\n",
            "107/107 [==============================] - 58s 538ms/step - loss: 2.6164 - note_outputs_loss: 2.0675 - duration_outputs_loss: 0.5490\n",
            "Epoch 22/100\n",
            "107/107 [==============================] - ETA: 0s - loss: 2.5961 - note_outputs_loss: 2.0568 - duration_outputs_loss: 0.5393[['START', 'E-:major', '4/4TS', 'rest', 'E-3', 'E-3', 'D3', 'C3', 'D3', 'E-3', 'C3', 'B-2', 'C3', 'D3', 'E-3', 'F3', 'G3', 'G#3', 'B-3', 'C4', 'G3', 'F3', 'E-3', 'D3', 'E-3', 'F3', 'G3', 'G#3', 'G3', 'F3', 'E-3', 'D3', 'E-3', 'F3', 'G3', 'G#3', 'B-3', 'G3', 'F3', 'E-3', 'D3', 'E-3', 'F3', 'G3', 'G#3', 'B-3', 'G3', 'E-3', 'D3'], ['0.0', '0.0', '0.0', '2.5', '0.5', '0.5', '0.5', '0.5', '0.5', '0.5', '0.5', '0.5', '0.5', '0.5', '0.5', '0.5', '0.5', '0.5', '0.5', '0.5', '0.5', '0.5', '0.5', '0.5', '0.5', '0.5', '0.5', '0.5', '0.5', '0.5', '0.5', '0.5', '0.5', '0.5', '0.5', '0.5', '0.5', '0.5', '0.5', '0.5', '0.5', '0.5', '0.5', '0.5', '0.5', '0.5', '0.5', '0.5', '0.5']]\n",
            "107/107 [==============================] - 65s 604ms/step - loss: 2.5961 - note_outputs_loss: 2.0568 - duration_outputs_loss: 0.5393\n",
            "Epoch 23/100\n",
            "107/107 [==============================] - ETA: 0s - loss: 2.6012 - note_outputs_loss: 2.0492 - duration_outputs_loss: 0.5520[['START', 'G:major', '3/4TS', 'B3', 'A3', 'B3', 'A3', 'B3', 'A3', 'B3', 'A3', 'B3', 'C4', 'D4', 'B3', 'A3', 'B3', 'A3', 'B3', 'A3', 'B3', 'A3', 'B3', 'A3', 'G3', 'F#3', 'E3', 'D3', 'C#3', 'D3', 'B2', 'C#3', 'D3', 'E3', 'F#3', 'G3', 'F#3', 'A3', 'D4', 'C#4', 'D4', 'C#4', 'D4', 'A3', 'G3', 'F#3', 'E3', 'D3', 'F#3'], ['0.0', '0.0', '0.0', '1.0', '1.0', '1.0', '1.0', '0.5', '0.5', '0.5', '0.5', '1.5', '0.5', '0.5', '0.5', '0.5', '0.5', '0.5', '0.5', '0.5', '0.5', '0.5', '0.5', '0.5', '0.5', '0.5', '0.5', '0.5', '0.5', '0.5', '0.5', '0.5', '0.5', '0.5', '0.5', '0.5', '0.5', '0.5', '0.5', '0.5', '0.5', '0.5', '0.5', '0.5', '0.5', '0.5', '0.5', '0.5', '0.5']]\n",
            "107/107 [==============================] - 64s 601ms/step - loss: 2.6012 - note_outputs_loss: 2.0492 - duration_outputs_loss: 0.5520\n",
            "Epoch 24/100\n",
            "107/107 [==============================] - ETA: 0s - loss: 2.5695 - note_outputs_loss: 2.0346 - duration_outputs_loss: 0.5349[['START', 'E-:major', '4/4TS', 'rest', 'E-3', 'C3', 'C3', 'D3', 'B-2', 'C3', 'D3', 'E-3', 'F3', 'D3', 'B-2', 'C3', 'D3', 'E-3', 'F3', 'G3', 'G#3', 'B-3', 'C4', 'B-3', 'G#3', 'G3', 'F3', 'E-3', 'D3', 'C3', 'B-2', 'G#2', 'B-2', 'C3', 'D3', 'E-3', 'F3', 'G3', 'G#3', 'G3', 'F3', 'G3', 'G#3', 'G3', 'F3', 'E-3', 'D3', 'C3', 'B-2'], ['0.0', '0.0', '0.0', '0.5', '0.5', '0.5', '0.5', '0.5', '0.5', '0.5', '0.5', '0.5', '0.5', '0.5', '0.5', '0.5', '0.5', '0.5', '0.5', '0.5', '0.5', '0.5', '0.5', '0.5', '0.5', '0.5', '0.5', '0.5', '0.5', '0.5', '0.5', '0.5', '0.5', '0.5', '0.5', '0.5', '0.5', '0.5', '0.5', '0.5', '0.5', '0.5', '0.5', '0.5', '0.5', '0.5', '0.5', '0.5', '0.5']]\n",
            "107/107 [==============================] - 64s 600ms/step - loss: 2.5695 - note_outputs_loss: 2.0346 - duration_outputs_loss: 0.5349\n",
            "Epoch 25/100\n",
            "107/107 [==============================] - ETA: 0s - loss: 2.5708 - note_outputs_loss: 2.0191 - duration_outputs_loss: 0.5517[['START', 'G:major', '4/4TS', 'G2', 'G2', 'B3', 'B3', 'B3', 'G2', 'D3', 'B3', 'G3', 'A3', 'B3', 'A3', 'B3', 'G3', 'D3', 'B2', 'D3', 'B2', 'G2', 'D3', 'B3', 'A3', 'G3', 'F#3', 'E3', 'D3', 'B2', 'G2', 'B2', 'G2', 'E2', 'G2', 'B2', 'G2', 'B2', 'C3', 'A2', 'B2', 'D3', 'G3', 'A3', 'B3', 'A3', 'B3', 'A3', 'G3'], ['0.0', '0.0', '0.0', '1.0', '0.5', '0.5', '0.5', '0.5', '0.5', '0.5', '0.5', '0.5', '0.5', '0.5', '0.5', '0.5', '0.5', '0.5', '0.5', '0.5', '0.5', '0.5', '0.5', '0.5', '0.5', '0.5', '0.5', '0.5', '0.5', '0.5', '0.5', '0.5', '0.5', '0.5', '0.5', '0.5', '0.5', '0.5', '0.5', '0.5', '0.5', '0.5', '0.5', '0.5', '0.5', '0.5', '0.5', '0.5', '0.5']]\n",
            "107/107 [==============================] - 64s 602ms/step - loss: 2.5708 - note_outputs_loss: 2.0191 - duration_outputs_loss: 0.5517\n",
            "Epoch 26/100\n",
            "107/107 [==============================] - ETA: 0s - loss: 2.5367 - note_outputs_loss: 1.9966 - duration_outputs_loss: 0.5401[['START', 'E-:major', '4/4TS', 'rest', 'E-3', 'E-3', 'D3', 'C3', 'E-3', 'D3', 'E-3', 'F3', 'G3', 'G#3', 'B-3', 'C4', 'C#4', 'C4', 'B-3', 'C4', 'B-3', 'G#3', 'G3', 'F3', 'E-3', 'D3', 'E-3', 'F3', 'G3', 'E-3', 'F3', 'G3', 'G#3', 'B-3', 'C4', 'C#4', 'C4', 'B-3', 'G#3', 'G3', 'F3', 'E-3', 'D3', 'E-3', 'F3', 'G#3', 'G3', 'F3', 'E-3'], ['0.0', '0.0', '0.0', '1.0', '1.0', '1.0', '0.5', '0.25', '0.25', '0.25', '0.25', '0.25', '0.25', '0.25', '0.25', '0.25', '0.25', '0.25', '0.25', '0.25', '0.25', '0.25', '0.25', '0.25', '0.25', '0.25', '0.25', '0.25', '0.25', '0.25', '0.25', '0.25', '0.25', '0.25', '0.25', '0.25', '0.25', '0.25', '0.25', '0.25', '0.25', '0.25', '0.25', '0.25', '0.25', '0.25', '0.25', '0.25', '0.25']]\n",
            "107/107 [==============================] - 64s 599ms/step - loss: 2.5367 - note_outputs_loss: 1.9966 - duration_outputs_loss: 0.5401\n",
            "Epoch 27/100\n",
            "107/107 [==============================] - ETA: 0s - loss: 2.5294 - note_outputs_loss: 1.9866 - duration_outputs_loss: 0.5429[['START', 'G:major', '3/4TS', 'B3', 'B3', 'G3', 'D3', 'E3', 'F3', 'D3', 'E3', 'F3', 'G3', 'E3', 'F3', 'G3', 'E3', 'F3', 'D3', 'E3', 'F3', 'D3', 'E3', 'F3', 'D3', 'E3', 'F3', 'D3', 'B2', 'G3', 'F3', 'E3', 'D3', 'E3', 'A2', 'G2', 'E3', 'G2', 'D3', 'G2', 'E3', 'G2', 'G2', 'E2', 'D2', 'E2', 'C2', 'G2', 'A2'], ['0.0', '0.0', '0.0', '2.5', '0.5', '0.5', '0.5', '0.5', '0.5', '0.5', '0.5', '0.5', '0.5', '0.5', '0.5', '0.5', '0.5', '0.5', '0.5', '0.5', '0.5', '0.5', '0.5', '0.5', '0.5', '0.5', '0.5', '0.5', '0.5', '0.5', '0.5', '0.5', '0.5', '0.5', '0.5', '0.5', '0.5', '0.5', '0.5', '0.5', '0.5', '0.5', '0.5', '0.5', '0.5', '0.5', '0.5', '0.5', '0.5']]\n",
            "107/107 [==============================] - 65s 604ms/step - loss: 2.5294 - note_outputs_loss: 1.9866 - duration_outputs_loss: 0.5429\n",
            "Epoch 28/100\n",
            "107/107 [==============================] - ETA: 0s - loss: 2.5205 - note_outputs_loss: 1.9756 - duration_outputs_loss: 0.5449[['START', 'C:major', '3/4TS', 'rest'], ['0.0', '0.0', '0.0', '1.0']]\n",
            "107/107 [==============================] - 57s 533ms/step - loss: 2.5205 - note_outputs_loss: 1.9756 - duration_outputs_loss: 0.5449\n",
            "Epoch 29/100\n",
            "107/107 [==============================] - ETA: 0s - loss: 2.5070 - note_outputs_loss: 1.9642 - duration_outputs_loss: 0.5428[['START', 'G:major', '4/4TS', 'rest', 'B3'], ['0.0', '0.0', '0.0', '0.5', '0.5']]\n",
            "107/107 [==============================] - 57s 534ms/step - loss: 2.5070 - note_outputs_loss: 1.9642 - duration_outputs_loss: 0.5428\n",
            "Epoch 30/100\n",
            "107/107 [==============================] - ETA: 0s - loss: 2.4987 - note_outputs_loss: 1.9488 - duration_outputs_loss: 0.5499[['START', 'E-:major', '4/4TS', 'rest', 'E-3', 'C4', 'G#3', 'A3', 'B-3', 'E-4', 'C4', 'C4', 'A3', 'B-3', 'G3', 'A3', 'G3', 'F#3', 'E3', 'D3', 'C3', 'B-2', 'A2', 'B-2', 'G2', 'F2', 'E2', 'B-2', 'C3', 'A2', 'B-2', 'C3', 'A2', 'B-2', 'C3', 'A2', 'B-2', 'D3', 'G3', 'B-2', 'C3', 'A2', 'B-2', 'C3', 'A2', 'B-2', 'C3', 'D3', 'E-3'], ['0.0', '0.0', '0.0', '0.5', '0.5', '0.5', '0.5', '0.5', '0.5', '0.5', '0.5', '0.5', '0.5', '0.5', '0.5', '0.5', '0.5', '0.5', '0.5', '0.5', '0.5', '0.5', '0.5', '0.5', '0.5', '0.5', '0.5', '0.5', '0.5', '0.5', '0.5', '0.5', '0.5', '0.5', '0.5', '0.5', '0.5', '0.5', '0.5', '0.5', '0.5', '0.5', '0.5', '0.5', '0.5', '0.5', '0.5', '0.5', '0.5']]\n",
            "107/107 [==============================] - 65s 604ms/step - loss: 2.4987 - note_outputs_loss: 1.9488 - duration_outputs_loss: 0.5499\n",
            "Epoch 31/100\n",
            "107/107 [==============================] - ETA: 0s - loss: 2.4733 - note_outputs_loss: 1.9322 - duration_outputs_loss: 0.5411[['START', 'E-:major', '4/4TS', 'rest', 'E-3', 'C4', 'C4', 'B-3', 'A3', 'G3', 'F3', 'E-3', 'D3', 'C3', 'B-2', 'A2', 'C3', 'B-2', 'C3', 'A2', 'B-2', 'D3', 'E-3', 'F3', 'G3', 'G#3', 'F3', 'G3', 'E-3', 'G3', 'F3', 'E-3', 'D3', 'F3', 'E-3', 'D3', 'C3', 'B-2', 'G#2', 'G2', 'F2', 'G2', 'D3', 'F2', 'E-2', 'F2', 'G2', 'E-2', 'F2'], ['0.0', '0.0', '0.0', '1.0', '1.0', '1.0', '1.0', '1.0', '0.5', '0.5', '0.5', '0.5', '1.0', '1.0', '1.0', '1.0', '1.0', '1.0', '1.0', '1.0', '1.0', '1.0', '1.0', '1.0', '1.0', '1.0', '1.0', '1.0', '1.0', '1.0', '1.0', '1.0', '1.0', '1.0', '1.0', '1.0', '1.0', '1.0', '1.0', '1.0', '1.0', '1.0', '1.0', '1.0', '1.0', '1.0', '1.0', '1.0', '1.0']]\n",
            "107/107 [==============================] - 65s 606ms/step - loss: 2.4733 - note_outputs_loss: 1.9322 - duration_outputs_loss: 0.5411\n",
            "Epoch 32/100\n",
            "107/107 [==============================] - ETA: 0s - loss: 2.4700 - note_outputs_loss: 1.9242 - duration_outputs_loss: 0.5458[['START', 'E-:major', '4/4TS', 'rest', 'F3', 'D3', 'E-3', 'F3', 'G3', 'F3', 'E-3', 'D3', 'E-3', 'F3', 'E-3', 'D3', 'E-3', 'D3', 'C3', 'B2', 'C3', 'D3', 'E-3', 'F3', 'D3', 'E-3', 'F3', 'E-3', 'D3', 'E-3', 'F3', 'E-3', 'D3', 'C3', 'E-3', 'B-2', 'G#2', 'C3', 'F3', 'D3', 'E-3', 'F3', 'G3', 'G#3', 'B-3', 'C4', 'C#4', 'C4', 'B-3'], ['0.0', '0.0', '0.0', '3.75', '0.25', '0.25', '0.25', '0.25', '0.25', '0.25', '0.25', '0.25', '0.25', '0.25', '0.25', '0.25', '0.25', '0.25', '0.25', '0.25', '0.25', '0.25', '0.25', '0.25', '0.25', '0.25', '0.25', '0.25', '0.25', '0.25', '0.25', '0.25', '0.25', '0.25', '0.25', '0.25', '0.25', '0.25', '0.25', '0.25', '0.25', '0.25', '0.25', '0.25', '0.25', '0.25', '0.25', '0.25', '0.25']]\n",
            "107/107 [==============================] - 64s 599ms/step - loss: 2.4700 - note_outputs_loss: 1.9242 - duration_outputs_loss: 0.5458\n",
            "Epoch 33/100\n",
            "107/107 [==============================] - ETA: 0s - loss: 2.4511 - note_outputs_loss: 1.9061 - duration_outputs_loss: 0.5451[['START', 'G:major', '3/4TS', 'rest', 'B3', 'A3', 'G3', 'F#3', 'E3', 'F#3', 'G3', 'A3', 'B3', 'C4', 'A3', 'B3', 'C4', 'A3', 'B3', 'C4', 'A3', 'B3', 'A3', 'G3', 'F#3', 'E3', 'D3', 'C3', 'B2', 'A2', 'G2', 'D3', 'E3', 'F#3', 'G3', 'A3', 'B3', 'C4', 'A3', 'F#3', 'C4', 'B3', 'C4', 'A3', 'F#3', 'C4', 'B3', 'C4', 'A3'], ['0.0', '0.0', '0.0', '3.75', '0.25', '0.25', '0.25', '0.25', '0.25', '0.25', '0.25', '0.25', '0.25', '0.25', '0.25', '0.25', '0.25', '0.25', '0.25', '0.25', '0.25', '0.25', '0.25', '0.25', '0.25', '0.25', '0.25', '0.25', '0.25', '0.25', '0.25', '0.25', '0.25', '0.25', '0.25', '0.25', '0.25', '0.25', '0.25', '0.25', '0.25', '0.25', '0.25', '0.25', '0.25', '0.25', '0.25', '0.25', '0.25']]\n",
            "107/107 [==============================] - 64s 596ms/step - loss: 2.4511 - note_outputs_loss: 1.9061 - duration_outputs_loss: 0.5451\n",
            "Epoch 34/100\n",
            "107/107 [==============================] - ETA: 0s - loss: 2.4383 - note_outputs_loss: 1.8959 - duration_outputs_loss: 0.5424[['START', 'E-:major', '4/4TS', 'rest', 'C3', 'D3', 'E-3', 'F3', 'G3', 'G#3', 'G3', 'F3', 'G3', 'E-3', 'F3', 'D3', 'E-3', 'F3', 'D3', 'E-3', 'F3', 'D3', 'E-3', 'F3', 'G3', 'G#3', 'G3', 'F3', 'G3', 'G#3', 'B-3', 'G3', 'G#3', 'F3', 'G3', 'G#3', 'B-3', 'G3', 'G#3', 'G3', 'F3', 'G3', 'F3', 'E-3', 'D3', 'F3', 'E-3', 'D3', 'C3'], ['0.0', '0.0', '0.5', '0.5', '0.5', '0.5', '0.5', '0.5', '0.5', '0.5', '0.5', '0.5', '0.5', '0.5', '0.5', '0.5', '0.5', '0.5', '0.5', '0.5', '0.5', '0.5', '0.5', '0.5', '0.5', '0.5', '0.5', '0.5', '0.5', '0.5', '0.5', '0.5', '0.5', '0.5', '0.5', '0.5', '0.5', '0.5', '0.5', '0.5', '0.5', '0.5', '0.5', '0.5', '0.5', '0.5', '0.5', '0.5', '0.5']]\n",
            "107/107 [==============================] - 64s 599ms/step - loss: 2.4383 - note_outputs_loss: 1.8959 - duration_outputs_loss: 0.5424\n",
            "Epoch 35/100\n",
            "107/107 [==============================] - ETA: 0s - loss: 2.4333 - note_outputs_loss: 1.8876 - duration_outputs_loss: 0.5457[['START', 'G:major', '4/4TS', 'rest', 'B3', 'C4', 'B3', 'A3', 'G3', 'F#3', 'E3', 'D3', 'D3', 'D3', 'D3', 'D3', 'D3', 'D3', 'D3', 'D3', 'D3', 'D3', 'D3', 'D3', 'D3', 'D3', 'D3', 'D3', 'D3', 'D3', 'D3', 'D3', 'D3', 'D3', 'D3', 'D3', 'D3', 'D3', 'D3', 'D3', 'D3', 'D3', 'D3', 'D3', 'D3', 'D3', 'D3', 'D3', 'D3'], ['0.0', '1.0', '0.25', '0.25', '0.25', '0.25', '0.25', '0.25', '0.25', '0.25', '0.25', '0.25', '0.25', '0.25', '0.25', '0.25', '0.25', '0.25', '0.25', '0.25', '0.25', '0.25', '0.25', '0.25', '0.25', '0.25', '0.25', '0.25', '0.25', '0.25', '0.25', '0.25', '0.25', '0.25', '0.25', '0.25', '0.25', '0.25', '0.25', '0.25', '0.25', '0.25', '0.25', '0.25', '0.25', '0.25', '0.25', '0.25', '0.25']]\n",
            "107/107 [==============================] - 64s 598ms/step - loss: 2.4333 - note_outputs_loss: 1.8876 - duration_outputs_loss: 0.5457\n",
            "Epoch 36/100\n",
            "107/107 [==============================] - ETA: 0s - loss: 2.4010 - note_outputs_loss: 1.8653 - duration_outputs_loss: 0.5357[['START', 'C:major', '3/4TS', 'B3', 'D3', 'E3', 'D3', 'E3', 'F3', 'G3', 'A3', 'B3', 'C4', 'B3', 'A3', 'C4', 'B3', 'A3', 'B3', 'C4', 'A3', 'B3', 'A3', 'G3', 'F#3', 'G3', 'E3', 'D3', 'C3', 'G2', 'D3', 'C4', 'B3', 'A3', 'G3', 'F#3', 'E3', 'D3', 'C3', 'B2', 'G2', 'E2', 'B2', 'D3', 'G3', 'F#3', 'E3', 'D3', 'C3'], ['0.0', '0.0', '0.0', '3.75', '0.25', '0.25', '0.25', '0.25', '0.25', '0.25', '0.25', '0.25', '0.25', '0.25', '0.25', '0.25', '0.25', '0.25', '0.25', '0.25', '0.25', '0.25', '0.25', '0.25', '0.25', '0.25', '0.25', '0.25', '0.25', '0.25', '0.25', '0.25', '0.25', '0.25', '0.25', '0.25', '0.25', '0.25', '0.25', '0.25', '0.25', '0.25', '0.25', '0.25', '0.25', '0.25', '0.25', '0.25', '0.25']]\n",
            "107/107 [==============================] - 65s 606ms/step - loss: 2.4010 - note_outputs_loss: 1.8653 - duration_outputs_loss: 0.5357\n",
            "Epoch 37/100\n",
            "107/107 [==============================] - ETA: 0s - loss: 2.4039 - note_outputs_loss: 1.8639 - duration_outputs_loss: 0.5400[['START', 'C:major', '3/4TS', 'rest', 'C4', 'C4', 'C4', 'C4', 'B-3', 'G#3', 'G3', 'F3', 'E3', 'G3', 'C4', 'D4', 'E-4', 'E-4', 'D4', 'C4', 'B-3', 'G#3', 'G3', 'F3', 'E-3', 'F3', 'G3', 'G#3', 'G3', 'F3', 'E-3', 'D3', 'C3', 'B-2', 'G#2', 'G2', 'E-3', 'F3', 'G3', 'G#3', 'B-3', 'C4', 'B-3', 'G#3', 'G3', 'F3', 'E-3', 'D3', 'E-3'], ['0.0', '0.5', '0.5', '0.5', '0.5', '0.5', '0.5', '0.5', '0.5', '0.5', '0.5', '0.5', '0.5', '0.5', '0.5', '0.5', '0.5', '0.5', '0.5', '0.5', '0.5', '0.5', '0.5', '0.5', '0.5', '0.5', '0.5', '0.5', '0.5', '0.5', '0.5', '0.5', '0.5', '0.5', '0.5', '0.5', '0.5', '0.5', '0.5', '0.5', '0.5', '0.5', '0.5', '0.5', '0.5', '0.5', '0.5', '0.5', '0.5']]\n",
            "107/107 [==============================] - 65s 609ms/step - loss: 2.4039 - note_outputs_loss: 1.8639 - duration_outputs_loss: 0.5400\n",
            "Epoch 38/100\n",
            "107/107 [==============================] - ETA: 0s - loss: 2.3892 - note_outputs_loss: 1.8496 - duration_outputs_loss: 0.5396[['START', 'C:major', '3/4TS', 'A3', 'B3', 'C4', 'B3', 'A3', 'B3', 'C4', 'G3', 'C4', 'B3', 'A3', 'B3', 'C4', 'B3', 'A3', 'B3', 'A3', 'B3', 'A3', 'B3', 'A3', 'B3', 'A3', 'B3', 'A3', 'B3', 'A3', 'B3', 'A3', 'B3', 'A3', 'B3', 'A3', 'A3', 'B3', 'A3', 'A3', 'B3', 'A3', 'A3', 'A3', 'A3', 'B3', 'A3', 'A3', 'B3'], ['0.0', '1.0', '1.0', '0.5', '0.5', '0.5', '0.5', '0.5', '0.5', '0.5', '0.5', '0.5', '0.5', '0.5', '0.5', '0.5', '0.5', '0.5', '0.5', '0.5', '0.5', '0.5', '0.5', '0.5', '0.5', '0.5', '0.5', '0.5', '0.5', '0.5', '0.5', '0.5', '0.5', '0.5', '0.5', '0.5', '0.5', '0.5', '0.5', '0.5', '0.5', '0.5', '0.5', '0.5', '0.5', '0.5', '0.5', '0.5', '0.5']]\n",
            "107/107 [==============================] - 65s 603ms/step - loss: 2.3892 - note_outputs_loss: 1.8496 - duration_outputs_loss: 0.5396\n",
            "Epoch 39/100\n",
            "107/107 [==============================] - ETA: 0s - loss: 2.3779 - note_outputs_loss: 1.8313 - duration_outputs_loss: 0.5466[['START', 'E-:major', 'C3', 'rest', 'E-3', 'F3', 'G3', 'B-3', 'D3', 'E-3', 'C3', 'G3', 'E-3', 'C3', 'D3', 'E-3', 'F3', 'G3', 'G#3', 'B-2', 'C3', 'D3', 'E-3', 'F3', 'G3', 'F3', 'G#3', 'B-3', 'C4', 'E-3', 'D3', 'E-3', 'F3', 'G3', 'F3', 'E-3', 'D3', 'C3', 'B2', 'C3', 'D3', 'E-3', 'F3', 'G3', 'G#3', 'B-3', 'G3', 'G#3', 'F3'], ['0.0', '0.5', '0.5', '0.5', '0.5', '0.5', '0.5', '0.5', '0.5', '0.5', '0.5', '0.5', '0.5', '0.5', '0.5', '0.5', '0.5', '0.5', '0.5', '0.5', '0.5', '0.5', '0.5', '0.5', '0.5', '0.5', '0.5', '0.5', '0.5', '0.5', '0.5', '0.5', '0.5', '0.5', '0.5', '0.5', '0.5', '0.5', '0.5', '0.5', '0.5', '0.5', '0.5', '0.5', '0.5', '0.5', '0.5', '0.5', '0.5']]\n",
            "107/107 [==============================] - 64s 598ms/step - loss: 2.3779 - note_outputs_loss: 1.8313 - duration_outputs_loss: 0.5466\n",
            "Epoch 40/100\n",
            "107/107 [==============================] - ETA: 0s - loss: 2.3610 - note_outputs_loss: 1.8155 - duration_outputs_loss: 0.5455[['START', 'E-:major', '4/4TS', 'rest', 'E-3', 'C4', 'G3', 'G#3', 'F3', 'G3', 'G#3', 'G3', 'F3', 'E-3', 'D3', 'E-3', 'F3', 'D3', 'E-3', 'F3', 'D3', 'E-3', 'F3', 'D3', 'E-3', 'F3', 'D3', 'E-3', 'D3', 'C3', 'D3', 'E-3', 'F3', 'G3', 'G#3', 'B-2', 'C3', 'D3', 'E-3', 'F3', 'D3', 'E-3', 'F3', 'D3', 'E-3', 'F3', 'G3', 'G#3', 'G3'], ['0.0', '0.25', '0.25', '0.25', '0.25', '0.25', '0.25', '0.25', '0.25', '0.25', '0.25', '0.25', '0.25', '0.25', '0.25', '0.25', '0.25', '0.25', '0.25', '0.25', '0.25', '0.25', '0.25', '0.25', '0.25', '0.25', '0.25', '0.25', '0.25', '0.25', '0.25', '0.25', '0.25', '0.25', '0.25', '0.25', '0.25', '0.25', '0.25', '0.25', '0.25', '0.25', '0.25', '0.25', '0.25', '0.25', '0.25', '0.25', '0.25']]\n",
            "107/107 [==============================] - 64s 599ms/step - loss: 2.3610 - note_outputs_loss: 1.8155 - duration_outputs_loss: 0.5455\n",
            "Epoch 41/100\n",
            "107/107 [==============================] - ETA: 0s - loss: 2.3488 - note_outputs_loss: 1.8064 - duration_outputs_loss: 0.5424[['START', 'E-:major', '4/4TS', 'rest', 'E-3', 'rest', 'E-3', 'F3', 'G3', 'G#3', 'B-3', 'G3', 'G#3', 'G3', 'F3', 'E-3', 'D3', 'C3', 'B2', 'C3', 'D3', 'G2', 'B2', 'D3', 'G3', 'E-3', 'G3', 'F3', 'G3', 'E-3', 'F3', 'D3', 'C3', 'B2', 'C3', 'D3', 'B2', 'G2', 'B2', 'D3', 'G3', 'F3', 'G3', 'G#3', 'G3', 'F3', 'G3', 'G#3', 'B-3'], ['0.0', '0.0', '0.0', '2.5', '0.5', '0.5', '0.5', '0.5', '0.5', '0.5', '0.5', '0.5', '0.5', '0.5', '0.5', '0.5', '0.5', '0.5', '0.5', '0.5', '0.5', '0.5', '0.5', '0.5', '0.5', '0.5', '0.5', '0.5', '0.5', '0.5', '0.5', '0.5', '0.5', '0.5', '0.5', '0.5', '0.5', '0.5', '0.5', '0.5', '0.5', '0.5', '0.5', '0.5', '0.5', '0.5', '0.5', '0.5', '0.5']]\n",
            "107/107 [==============================] - 65s 606ms/step - loss: 2.3488 - note_outputs_loss: 1.8064 - duration_outputs_loss: 0.5424\n",
            "Epoch 42/100\n",
            "107/107 [==============================] - ETA: 0s - loss: 2.3407 - note_outputs_loss: 1.7902 - duration_outputs_loss: 0.5505[['START', 'E-:major', '3/4TS', 'rest', 'E-3', 'E-3', 'D3', 'F3', 'E-3', 'B-2', 'C3', 'D3', 'E-3', 'F3', 'F3', 'D3', 'E-3', 'F3', 'G3', 'E-3', 'F3', 'D3', 'E-3', 'F3', 'G3', 'E-3', 'F3', 'D3', 'E-3', 'F3', 'D3', 'E-3', 'F3', 'D3', 'C3', 'B2', 'C3', 'D3', 'C3', 'B2', 'C3', 'D3', 'C3', 'B2', 'C3', 'D3', 'B2', 'D3', 'A2'], ['0.0', '0.5', '0.5', '0.5', '0.5', '0.5', '0.5', '0.5', '0.5', '0.5', '0.5', '0.5', '0.5', '0.5', '0.5', '0.5', '0.5', '0.5', '0.5', '0.5', '0.5', '0.5', '0.5', '0.5', '0.5', '0.5', '0.5', '0.5', '0.5', '0.5', '0.5', '0.5', '0.5', '0.5', '0.5', '0.5', '0.5', '0.5', '0.5', '0.5', '0.5', '0.5', '0.5', '0.5', '0.5', '0.5', '0.5', '0.5', '0.5']]\n",
            "107/107 [==============================] - 64s 601ms/step - loss: 2.3407 - note_outputs_loss: 1.7902 - duration_outputs_loss: 0.5505\n",
            "Epoch 43/100\n",
            "107/107 [==============================] - ETA: 0s - loss: 2.3303 - note_outputs_loss: 1.7884 - duration_outputs_loss: 0.5419[['START', 'E-:major', '3/2TS', 'rest', 'E-3', 'E-3', 'D3', 'E-3', 'F3', 'D3', 'E-3', 'F3', 'G3', 'E-3', 'G3', 'F3', 'E-3', 'D3', 'C3', 'B2', 'A2', 'G2', 'A2', 'B2', 'C3', 'D3', 'E3', 'F#3', 'G3', 'A3', 'B3', 'C4', 'B3', 'C4', 'A3', 'B3', 'C4', 'A3', 'B3', 'G3', 'D3', 'E3', 'F3', 'D3', 'C3', 'E3', 'A3', 'F#3', 'G3'], ['0.0', '0.5', '0.5', '0.5', '0.5', '0.5', '0.5', '0.5', '0.5', '0.5', '0.5', '0.5', '0.5', '0.5', '0.5', '0.5', '0.5', '0.5', '0.5', '0.5', '0.5', '0.5', '0.5', '0.5', '0.5', '0.5', '0.5', '0.5', '0.5', '0.5', '0.5', '0.5', '0.5', '0.5', '0.5', '0.5', '0.5', '0.5', '0.5', '0.5', '0.5', '0.5', '0.5', '0.5', '0.5', '0.5', '0.5', '0.5', '0.5']]\n",
            "107/107 [==============================] - 63s 593ms/step - loss: 2.3303 - note_outputs_loss: 1.7884 - duration_outputs_loss: 0.5419\n",
            "Epoch 44/100\n",
            "107/107 [==============================] - ETA: 0s - loss: 2.3190 - note_outputs_loss: 1.7786 - duration_outputs_loss: 0.5403[['START', 'C:major', '3/4TS', 'G3', 'F3', 'E3', 'D3', 'E3', 'C3', 'C2', 'C3', 'D3', 'E3', 'F#3', 'G3', 'A3', 'C4', 'B3', 'C4', 'D4', 'B3', 'G3', 'D3', 'B2', 'G2', 'A2', 'B2', 'G2', 'A2', 'B2', 'G2', 'A2', 'B2', 'G2', 'A2', 'B2', 'G2', 'A2', 'B2', 'G2', 'A2', 'B2', 'G2', 'A2', 'B2', 'G2', 'A2', 'B2', 'G2'], ['0.0', '0.0', '0.0', '0.5', '0.5', '0.5', '0.5', '0.5', '0.5', '0.5', '0.5', '0.5', '0.5', '0.5', '0.5', '0.5', '0.5', '0.5', '0.5', '0.5', '0.5', '0.5', '0.5', '0.5', '0.5', '0.5', '0.5', '0.5', '0.5', '0.5', '0.5', '0.5', '0.5', '0.5', '0.5', '0.5', '0.5', '0.5', '0.5', '0.5', '0.5', '0.5', '0.5', '0.5', '0.5', '0.5', '0.5', '0.5', '0.5']]\n",
            "107/107 [==============================] - 64s 601ms/step - loss: 2.3190 - note_outputs_loss: 1.7786 - duration_outputs_loss: 0.5403\n",
            "Epoch 45/100\n",
            "107/107 [==============================] - ETA: 0s - loss: 2.3022 - note_outputs_loss: 1.7585 - duration_outputs_loss: 0.5437[['START', 'E-:major', '3/2TS', 'rest', 'E-3', 'E-3', 'F3', 'G3', 'G#3', 'B-3', 'B-2', 'E-2', 'E-4', 'E-3', 'F3', 'G3', 'G#3', 'B-3', 'B-2', 'C3', 'D3', 'E-3', 'F3', 'G3', 'G#3', 'B-3', 'G3', 'G#3', 'B-3', 'C4', 'G#3', 'B-3', 'C4', 'C#4', 'C4', 'B-3', 'C4', 'B-3', 'G#3', 'G3', 'G#3', 'F3', 'F2', 'G#3', 'G3', 'F3', 'E-3', 'D3', 'E-3'], ['0.0', '0.0', '0.0', '0.25', '0.25', '0.25', '0.25', '0.25', '0.25', '0.25', '0.25', '0.25', '0.25', '0.25', '0.25', '0.25', '0.25', '0.25', '0.25', '0.25', '0.25', '0.25', '0.25', '0.25', '0.25', '0.25', '0.25', '0.25', '0.25', '0.25', '0.25', '0.25', '0.25', '0.25', '0.25', '0.25', '0.25', '0.25', '0.25', '0.25', '0.25', '0.25', '0.25', '0.25', '0.25', '0.25', '0.25', '0.25', '0.25']]\n",
            "107/107 [==============================] - 64s 602ms/step - loss: 2.3022 - note_outputs_loss: 1.7585 - duration_outputs_loss: 0.5437\n",
            "Epoch 46/100\n",
            "107/107 [==============================] - ETA: 0s - loss: 2.2910 - note_outputs_loss: 1.7472 - duration_outputs_loss: 0.5438[['START', 'D:major', '4/4TS', 'rest', 'A3', 'D3', 'D3', 'D3', 'D3', 'C#2', 'E4', 'D4', 'C#4', 'C#4', 'C#4', 'C#4', 'C#4', 'C#4', 'C#4', 'C#4', 'C#4', 'C#4', 'C#4', 'C#4', 'C#4', 'C#4', 'C#4', 'C#4', 'C#4', 'C#4', 'C#4', 'C#4', 'C#4', 'C#4', 'E4', 'F#4', 'G4', 'G4', 'G4', 'G4', 'G4', 'G4', 'G4', 'G4', 'G4', 'E4', 'C#4', 'G4', 'F#4'], ['0.0', '0.0', '0.0', '3.75', '0.25', '0.25', '0.25', '0.25', '0.25', '0.25', '0.25', '0.25', '0.25', '0.25', '0.25', '0.25', '0.25', '0.25', '0.25', '0.25', '0.25', '0.25', '0.25', '0.25', '0.25', '0.25', '0.25', '0.25', '0.25', '0.25', '0.25', '0.25', '0.25', '0.25', '0.25', '0.25', '0.25', '0.25', '0.25', '0.25', '0.25', '0.25', '0.25', '0.25', '0.25', '0.25', '0.25', '0.25', '0.25']]\n",
            "107/107 [==============================] - 64s 596ms/step - loss: 2.2910 - note_outputs_loss: 1.7472 - duration_outputs_loss: 0.5438\n",
            "Epoch 47/100\n",
            "107/107 [==============================] - ETA: 0s - loss: 2.2868 - note_outputs_loss: 1.7433 - duration_outputs_loss: 0.5435[['START', 'D:major', '4/4TS', 'rest', 'F#4', 'F#4', 'G4', 'F#4', 'G4', 'F#4', 'G4', 'E4', 'D4', 'C#4', 'B3', 'D4', 'D4', 'rest', 'D4', 'rest', 'G4', 'F#4', 'G4', 'F#4', 'G4', 'A4', 'B4', 'B4', 'A4', 'G4', 'F#4', 'E4', 'F#4', 'G4', 'B4', 'A4', 'G4', 'F#4', 'E4', 'D4', 'F#4', 'F#4', 'A4', 'A4', 'G4', 'F#4', 'G4', 'A4', 'G4'], ['0.0', '0.0', '1.0', '1.0', '1.0', '1.0', '1.0', '0.5', '0.5', '1.0', '1.0', '1.0', '1.0', '1.0', '1.0', '1.0', '1.0', '1.0', '1.0', '1.0', '1.0', '1.0', '1.0', '1.0', '1.0', '1.0', '1.0', '1.0', '1.0', '1.0', '1.0', '1.0', '1.0', '1.0', '1.0', '1.0', '1.0', '1.0', '1.0', '1.0', '1.0', '1.0', '1.0', '1.0', '1.0', '1.0', '1.0', '1.0', '1.0']]\n",
            "107/107 [==============================] - 65s 606ms/step - loss: 2.2868 - note_outputs_loss: 1.7433 - duration_outputs_loss: 0.5435\n",
            "Epoch 48/100\n",
            "107/107 [==============================] - ETA: 0s - loss: 2.2723 - note_outputs_loss: 1.7303 - duration_outputs_loss: 0.5420[['START', 'G:major', '4/4TS', 'D3', 'B3', 'A3', 'G3', 'F#3', 'E3', 'D3', 'D3', 'D3', 'D3', 'D3', 'D3', 'D3', 'D3', 'D3', 'D3', 'D3', 'D3', 'D3', 'D3', 'D3', 'D3', 'D3', 'D3', 'D3', 'D3', 'D3', 'D3', 'D3', 'D3', 'D3', 'D3', 'D3', 'D3', 'D3', 'D3', 'D3', 'D3', 'D3', 'D3', 'D3', 'D3', 'D3', 'D3', 'D3', 'D3'], ['0.0', '0.0', '0.0', '3.75', '0.25', '0.25', '0.25', '0.25', '0.25', '0.25', '0.25', '0.25', '0.25', '0.25', '0.25', '0.25', '0.25', '0.25', '0.25', '0.25', '0.25', '0.25', '0.25', '0.25', '0.25', '0.25', '0.25', '0.25', '0.25', '0.25', '0.25', '0.25', '0.25', '0.25', '0.25', '0.5', '0.25', '0.25', '0.25', '0.25', '0.25', '0.25', '0.25', '0.25', '0.25', '0.25', '0.25', '0.25', '0.25']]\n",
            "107/107 [==============================] - 64s 601ms/step - loss: 2.2723 - note_outputs_loss: 1.7303 - duration_outputs_loss: 0.5420\n",
            "Epoch 49/100\n",
            "107/107 [==============================] - ETA: 0s - loss: 2.2536 - note_outputs_loss: 1.7174 - duration_outputs_loss: 0.5362[['START', 'E-:major', '4/4TS', 'rest', 'E-3', 'G3', 'B-3', 'E-4', 'G#3', 'G3', 'F3', 'E-3', 'B-2', 'B-2', 'C3', 'D3', 'E-3', 'F3', 'G3', 'G#3', 'B-2', 'C3', 'D3', 'E-3', 'F3', 'G3', 'G#3', 'G3', 'F3', 'E-3', 'F3', 'D3', 'E-3', 'F3', 'G3', 'G#3', 'B-3', 'C4', 'C#4', 'C4', 'B-3', 'C4', 'A3', 'B-3', 'G3', 'A3', 'B-3', 'C4', 'A3'], ['0.0', '0.0', '0.5', '0.5', '0.5', '0.5', '0.5', '0.5', '0.5', '0.5', '0.5', '0.5', '0.5', '0.5', '0.5', '0.5', '0.5', '0.5', '0.5', '0.5', '0.5', '0.5', '0.5', '0.5', '0.5', '0.5', '0.5', '0.5', '0.5', '0.5', '0.5', '0.5', '0.5', '0.5', '0.5', '0.5', '0.5', '0.5', '0.5', '0.5', '0.5', '0.5', '0.5', '0.5', '0.5', '0.5', '0.5', '0.5', '0.5']]\n",
            "107/107 [==============================] - 65s 603ms/step - loss: 2.2536 - note_outputs_loss: 1.7174 - duration_outputs_loss: 0.5362\n",
            "Epoch 50/100\n",
            "107/107 [==============================] - ETA: 0s - loss: 2.2567 - note_outputs_loss: 1.7114 - duration_outputs_loss: 0.5453[['START', 'E-:major', '4/4TS', 'rest', 'E-3', 'E-3', 'F3', 'G3', 'G#3', 'G3', 'F3', 'E-3', 'D3', 'C3', 'B2', 'C3', 'D3', 'E-3', 'F3', 'D3', 'E-3', 'F3', 'D3', 'E-3', 'F3', 'E-3', 'D3', 'C3', 'B2', 'C3', 'D3', 'G2', 'B2', 'D3', 'G3', 'F3', 'G3', 'G#3', 'G3', 'F3', 'G3', 'F3', 'E-3', 'D3', 'C3', 'B2', 'C3', 'D3', 'G2'], ['0.0', '0.5', '0.5', '0.5', '0.5', '0.5', '0.5', '0.5', '0.5', '0.5', '0.5', '0.5', '0.5', '0.5', '0.5', '0.5', '0.5', '0.5', '0.5', '0.5', '0.5', '0.5', '0.5', '0.5', '0.5', '0.5', '0.5', '0.5', '0.5', '0.5', '0.5', '0.5', '0.5', '0.5', '0.5', '0.5', '0.5', '0.5', '0.5', '0.5', '0.5', '0.5', '0.5', '0.5', '0.5', '0.5', '0.5', '0.5', '0.5']]\n",
            "107/107 [==============================] - 64s 596ms/step - loss: 2.2567 - note_outputs_loss: 1.7114 - duration_outputs_loss: 0.5453\n",
            "Epoch 51/100\n",
            "107/107 [==============================] - ETA: 0s - loss: 2.2460 - note_outputs_loss: 1.7028 - duration_outputs_loss: 0.5432[['START', 'D:major', '4/4TS', 'rest', 'D3', 'D3', 'D3', 'D3', 'D3', 'D3', 'D3', 'D3', 'D3', 'D3', 'D3', 'D3', 'D3', 'D3', 'D3', 'D3', 'D3', 'D3', 'D3', 'D3', 'D3', 'D3', 'D3', 'D3', 'D3', 'D3', 'D3', 'D3', 'D3', 'D3', 'D3', 'D3', 'D3', 'D3', 'D3', 'D3', 'D3', 'D3', 'D3', 'D3', 'D3', 'D3', 'D3', 'D3', 'D3'], ['0.0', '0.0', '0.5', '0.5', '0.5', '0.5', '0.5', '0.5', '0.5', '0.5', '0.5', '0.5', '0.5', '0.5', '0.5', '0.5', '0.5', '0.5', '0.5', '0.5', '0.5', '0.5', '0.5', '0.25', '0.25', '0.25', '0.25', '0.25', '0.25', '0.25', '0.25', '0.25', '0.25', '0.25', '0.25', '0.25', '0.25', '0.25', '0.25', '0.25', '0.25', '0.25', '0.25', '0.25', '0.25', '0.25', '0.25', '0.25', '0.25']]\n",
            "107/107 [==============================] - 64s 596ms/step - loss: 2.2460 - note_outputs_loss: 1.7028 - duration_outputs_loss: 0.5432\n",
            "Epoch 52/100\n",
            "107/107 [==============================] - ETA: 0s - loss: 2.2413 - note_outputs_loss: 1.6932 - duration_outputs_loss: 0.5481[['START', 'C:major', '3/4TS', 'G3', 'C3', 'E3', 'D3', 'B2', 'A2', 'G2', 'E3', 'F3', 'A2', 'G2', 'E3', 'G2', 'A2', 'G2', 'E3', 'G2', 'A2', 'G2', 'E3', 'G2', 'A2', 'G2', 'E3', 'C4', 'E3', 'G2', 'F#3', 'C4', 'B3', 'C4', 'E3', 'C4', 'E3', 'G2', 'F#3', 'C4', 'E3', 'D3', 'C4', 'B3', 'A3', 'G3', 'F#3', 'G3', 'E3'], ['0.0', '0.0', '0.0', '1.0', '1.0', '1.0', '1.0', '0.5', '0.5', '0.5', '0.5', '0.5', '0.5', '0.5', '0.5', '0.5', '0.5', '0.5', '0.5', '0.5', '0.5', '0.5', '0.5', '0.5', '0.5', '0.5', '0.5', '0.5', '0.5', '0.5', '0.5', '0.5', '0.5', '0.5', '0.5', '0.5', '0.5', '0.5', '0.5', '0.5', '0.5', '0.5', '0.5', '0.5', '0.5', '0.5', '0.5', '0.5', '0.5']]\n",
            "107/107 [==============================] - 65s 607ms/step - loss: 2.2413 - note_outputs_loss: 1.6932 - duration_outputs_loss: 0.5481\n",
            "Epoch 53/100\n",
            "107/107 [==============================] - ETA: 0s - loss: 2.2298 - note_outputs_loss: 1.6871 - duration_outputs_loss: 0.5426[['START', 'E-:major', '3/2TS', 'rest', 'C3', 'C3', 'D3', 'E-3', 'F3', 'G3', 'G#3', 'G3', 'F3', 'E-3', 'D3', 'E-3', 'F3', 'D3', 'E-3', 'F3', 'D3', 'E-3', 'F3', 'D3', 'E-3', 'F3', 'G3', 'G#3', 'B-3', 'C4', 'C#4', 'C4', 'B-3', 'C4', 'B-3', 'G#3', 'G3', 'F3', 'E-3', 'D3', 'E-3', 'C3', 'D3', 'C3', 'B-2', 'C3', 'D3', 'E-3', 'F3'], ['0.0', '0.0', '0.0', '2.5', '0.5', '0.5', '0.5', '0.5', '0.5', '0.5', '0.5', '0.5', '0.5', '0.5', '0.5', '0.5', '0.5', '0.5', '0.5', '0.5', '0.5', '0.5', '0.5', '0.5', '0.5', '0.5', '0.5', '0.5', '0.5', '0.5', '0.5', '0.5', '0.5', '0.5', '0.5', '0.5', '0.5', '0.5', '0.5', '0.5', '0.5', '0.5', '0.5', '0.5', '0.5', '0.5', '0.5', '0.5', '0.5']]\n",
            "107/107 [==============================] - 64s 599ms/step - loss: 2.2298 - note_outputs_loss: 1.6871 - duration_outputs_loss: 0.5426\n",
            "Epoch 54/100\n",
            "107/107 [==============================] - ETA: 0s - loss: 2.2172 - note_outputs_loss: 1.6724 - duration_outputs_loss: 0.5448[['START', 'E-:major', '4/4TS', 'rest', 'C4', 'G3', 'G#3', 'F3', 'G3', 'F3', 'G3', 'E-3', 'F3', 'E-3', 'D3', 'E-3', 'F3', 'G3', 'G#3', 'B-3', 'C4', 'C#4', 'C4', 'B-3', 'C4', 'B-3', 'G#3', 'G3', 'F3', 'E-3', 'F3', 'G3', 'G#3', 'G3', 'F3', 'G3', 'F3', 'E-3', 'D3', 'E-3', 'F3', 'G3', 'G#3', 'B-3', 'C4', 'C#4', 'C4', 'B-3', 'C4'], ['0.0', '0.0', '0.0', '2.5', '0.5', '0.5', '0.25', '0.25', '0.25', '0.25', '0.25', '0.25', '0.25', '0.25', '0.25', '0.25', '0.25', '0.25', '0.25', '0.25', '0.25', '0.25', '0.25', '0.25', '0.25', '0.25', '0.25', '0.25', '0.25', '0.25', '0.25', '0.25', '0.25', '0.25', '0.25', '0.25', '0.25', '0.25', '0.25', '0.25', '0.25', '0.25', '0.25', '0.25', '0.25', '0.25', '0.25', '0.25', '0.25']]\n",
            "107/107 [==============================] - 65s 606ms/step - loss: 2.2172 - note_outputs_loss: 1.6724 - duration_outputs_loss: 0.5448\n",
            "Epoch 55/100\n",
            "107/107 [==============================] - ETA: 0s - loss: 2.1953 - note_outputs_loss: 1.6544 - duration_outputs_loss: 0.5409[['START', 'G:major', '4/4TS', 'G2', 'D3', 'B3', 'A3', 'B3', 'D3', 'B3', 'D3', 'G2', 'B3', 'D3', 'G2', 'E3', 'G2', 'C3', 'G2', 'B2', 'D3', 'G2', 'B2', 'G2', 'F3', 'G2', 'F3', 'G2', 'F3', 'G2', 'E3', 'G2', 'G3', 'G2', 'G2', 'E3', 'G2', 'G3', 'G2', 'G3', 'G2', 'G3', 'G2', 'G3', 'G2', 'G3', 'G2', 'G2', 'G2'], ['0.0', '0.0', '0.0', '2.5', '0.5', '0.5', '0.5', '0.5', '0.5', '0.5', '0.5', '0.5', '0.5', '0.5', '0.5', '0.5', '0.5', '0.5', '0.5', '0.5', '0.5', '0.5', '0.5', '0.5', '0.5', '0.5', '0.5', '0.5', '0.5', '0.5', '0.5', '0.5', '0.5', '0.5', '0.5', '0.5', '0.5', '0.5', '0.5', '0.5', '0.5', '0.5', '0.5', '0.5', '0.5', '0.5', '0.5', '0.5', '0.5']]\n",
            "107/107 [==============================] - 64s 600ms/step - loss: 2.1953 - note_outputs_loss: 1.6544 - duration_outputs_loss: 0.5409\n",
            "Epoch 56/100\n",
            "107/107 [==============================] - ETA: 0s - loss: 2.1830 - note_outputs_loss: 1.6440 - duration_outputs_loss: 0.5390[['START', 'G:major', '3/4TS', 'B3', 'C4', 'B3', 'A3', 'G3', 'F#3', 'E3', 'D3', 'C3', 'B2', 'C3', 'D3', 'E3', 'F3', 'D3', 'E3', 'C3', 'G2', 'B2', 'G2', 'C2', 'E3', 'G2', 'F3', 'E3', 'D3', 'E3', 'G3', 'A3', 'E3', 'A3', 'E3', 'A3', 'E3', 'A3', 'E3', 'A3', 'E3', 'A3', 'F#3', 'A3', 'D3', 'E3', 'C3', 'A2', 'G3'], ['0.0', '0.0', '0.0', '0.5', '0.5', '0.5', '0.5', '0.5', '0.5', '0.5', '0.5', '0.5', '0.5', '0.5', '0.5', '0.5', '0.5', '0.5', '0.5', '0.5', '0.5', '0.5', '0.5', '0.5', '0.5', '0.5', '0.5', '0.5', '0.5', '0.5', '0.5', '0.5', '0.5', '0.5', '0.5', '0.5', '0.5', '0.5', '0.5', '0.5', '0.5', '0.5', '0.5', '0.5', '0.5', '0.5', '0.5', '0.5', '0.5']]\n",
            "107/107 [==============================] - 64s 598ms/step - loss: 2.1830 - note_outputs_loss: 1.6440 - duration_outputs_loss: 0.5390\n",
            "Epoch 57/100\n",
            "107/107 [==============================] - ETA: 0s - loss: 2.1842 - note_outputs_loss: 1.6416 - duration_outputs_loss: 0.5426[['START', 'G:major', '4/4TS', 'rest', 'B3', 'C4', 'B3', 'A3', 'B3', 'C4', 'B3', 'A3', 'B3', 'C4', 'A3', 'B3', 'A3', 'B3', 'D3', 'G2', 'B3', 'A3', 'B3', 'G3', 'D3', 'E3', 'F3', 'D3', 'C3', 'B2', 'A2', 'G2', 'B3', 'C4', 'B3', 'A3', 'G3', 'F#3', 'E3', 'D3', 'E3', 'F#3', 'G3', 'A3', 'B3', 'C4', 'B3', 'C4', 'B3'], ['0.0', '0.0', '0.0', '2.5', '0.5', '0.5', '0.5', '0.5', '0.5', '0.5', '0.5', '0.5', '0.5', '0.5', '0.5', '0.5', '0.5', '0.5', '0.5', '0.5', '0.5', '0.5', '0.5', '0.5', '0.5', '0.5', '0.5', '0.5', '0.5', '0.5', '0.5', '0.5', '0.5', '0.5', '0.5', '0.5', '0.5', '0.5', '0.5', '0.5', '0.5', '0.5', '0.5', '0.5', '0.5', '0.5', '0.5', '0.5', '0.5']]\n",
            "107/107 [==============================] - 66s 613ms/step - loss: 2.1842 - note_outputs_loss: 1.6416 - duration_outputs_loss: 0.5426\n",
            "Epoch 58/100\n",
            "107/107 [==============================] - ETA: 0s - loss: 2.1861 - note_outputs_loss: 1.6411 - duration_outputs_loss: 0.5451[['START', 'G:major', '3/4TS', 'B3', 'C4', 'B3', 'A3', 'G3', 'F#3', 'E3', 'D3', 'D3', 'D3', 'D3', 'D3', 'D3', 'E3', 'D3', 'D3', 'D3', 'D3', 'D3', 'D3', 'D3', 'D3', 'D3', 'D3', 'D3', 'D3', 'D3', 'D3', 'D3', 'D3', 'D3', 'D3', 'D3', 'D3', 'D3', 'D3', 'D3', 'D3', 'D3', 'D3', 'D3', 'D3', 'D3', 'D3', 'D3', 'D3'], ['0.0', '0.0', '0.0', '2.0', '0.5', '0.5', '0.5', '0.5', '0.5', '0.5', '0.5', '0.5', '0.5', '0.5', '0.5', '0.5', '0.5', '0.5', '0.5', '0.5', '0.5', '0.5', '0.5', '0.5', '0.5', '0.5', '0.5', '0.5', '0.5', '0.5', '0.5', '0.5', '0.5', '0.5', '0.5', '0.5', '0.5', '0.5', '0.5', '0.5', '0.5', '0.5', '0.5', '0.5', '0.5', '0.5', '0.5', '0.5', '0.5']]\n",
            "107/107 [==============================] - 65s 611ms/step - loss: 2.1861 - note_outputs_loss: 1.6411 - duration_outputs_loss: 0.5451\n",
            "Epoch 59/100\n",
            "107/107 [==============================] - ETA: 0s - loss: 2.1619 - note_outputs_loss: 1.6215 - duration_outputs_loss: 0.5404[['START', 'E-:major', '3/4TS', 'rest', 'E-3', 'E-3', 'D3', 'D3', 'E-3', 'F3', 'G3', 'G#3', 'G#3', 'F3', 'B-3', 'C4', 'G3', 'B-3', 'G#3', 'G3', 'F3', 'E-3', 'D3', 'C3', 'B-2', 'G#2', 'G2', 'G#3', 'F3', 'G3', 'B-3', 'D3', 'E-3', 'G2', 'B-2', 'E-2', 'B-3', 'G3', 'D3', 'E-3', 'G3', 'B-2', 'E-2', 'E-3', 'F3', 'G3', 'G#3', 'B-3', 'B-2'], ['0.0', '0.0', '0.0', '2.5', '0.5', '0.5', '0.5', '0.5', '0.5', '0.5', '0.5', '0.5', '0.5', '0.5', '0.5', '0.5', '0.5', '0.5', '0.5', '0.5', '0.5', '0.5', '0.5', '0.5', '0.5', '0.5', '0.5', '0.5', '0.5', '0.5', '0.5', '0.5', '0.5', '0.5', '0.5', '0.5', '0.5', '0.5', '0.5', '0.5', '0.5', '0.5', '0.5', '0.5', '0.5', '0.5', '0.5', '0.5', '0.5']]\n",
            "107/107 [==============================] - 65s 608ms/step - loss: 2.1619 - note_outputs_loss: 1.6215 - duration_outputs_loss: 0.5404\n",
            "Epoch 60/100\n",
            "107/107 [==============================] - ETA: 0s - loss: 2.1515 - note_outputs_loss: 1.6095 - duration_outputs_loss: 0.5419[['START', 'C:major', '4/4TS', 'rest', 'A3', 'B3', 'C4', 'B3', 'A3', 'G3', 'F3', 'E3', 'D3', 'C3', 'G2', 'E2', 'D2', 'B2', 'C3', 'C4', 'B3', 'C4', 'B3', 'A3', 'B3', 'C4', 'B3', 'A3', 'G3', 'F#3', 'E3', 'D3', 'D3', 'D3', 'D3', 'D3', 'D3', 'D3', 'D3', 'D3', 'D3', 'D3', 'D3', 'D3', 'D3', 'D3', 'D3', 'D3', 'D3'], ['0.0', '0.0', '3.0', '0.25', '0.25', '0.25', '0.25', '0.25', '0.25', '0.25', '0.25', '0.25', '0.25', '0.25', '0.25', '0.25', '0.25', '0.25', '0.25', '0.25', '0.25', '0.25', '0.25', '0.25', '0.25', '0.25', '0.25', '0.25', '0.25', '0.25', '0.25', '0.25', '0.25', '0.25', '0.25', '0.25', '0.25', '0.25', '0.25', '0.25', '0.25', '0.25', '0.25', '0.25', '0.25', '0.25', '0.25', '0.25', '0.25']]\n",
            "107/107 [==============================] - 64s 602ms/step - loss: 2.1515 - note_outputs_loss: 1.6095 - duration_outputs_loss: 0.5419\n",
            "Epoch 61/100\n",
            "107/107 [==============================] - ETA: 0s - loss: 2.1430 - note_outputs_loss: 1.5998 - duration_outputs_loss: 0.5432[['START', 'C:major', '3/4TS', 'G3', 'E3', 'D3', 'C3', 'B2', 'C3', 'C4', 'B3', 'A3', 'G3', 'F#3', 'A3', 'C4', 'B3', 'A3', 'G3', 'F3', 'E3', 'D3', 'C3', 'E3', 'A3', 'C4', 'E3', 'F#3', 'A3', 'D3', 'E3', 'F#3', 'A3', 'A3', 'B3', 'C4', 'A3', 'A3', 'A3', 'A3', 'A3', 'A3', 'B3', 'A3', 'A3', 'A3', 'A3', 'A3', 'A3'], ['0.0', '0.0', '0.0', '0.5', '0.5', '0.5', '0.5', '0.5', '0.5', '0.5', '0.5', '0.5', '0.5', '0.5', '0.5', '0.5', '0.5', '0.5', '0.5', '0.5', '0.5', '0.5', '0.5', '0.5', '0.5', '0.5', '0.5', '0.5', '0.5', '0.5', '0.5', '0.5', '0.5', '0.5', '0.5', '0.5', '0.5', '0.5', '0.5', '0.5', '0.5', '0.5', '0.5', '0.5', '0.5', '0.5', '0.5', '0.5', '0.5']]\n",
            "107/107 [==============================] - 64s 599ms/step - loss: 2.1430 - note_outputs_loss: 1.5998 - duration_outputs_loss: 0.5432\n",
            "Epoch 62/100\n",
            "107/107 [==============================] - ETA: 0s - loss: 2.1458 - note_outputs_loss: 1.6016 - duration_outputs_loss: 0.5441[['START', 'G:major', '4/4TS', 'rest', 'B3', 'B3', 'A3', 'G3', 'F#3', 'G3', 'A3', 'C4', 'B3', 'C4', 'A3', 'B3', 'C4', 'A3', 'D4', 'B3', 'G3', 'F3', 'E3', 'C3', 'C2', 'C3', 'D3', 'E3', 'C3', 'C4', 'B3', 'A3', 'G3', 'F#3', 'A3', 'C4', 'F#3', 'G3', 'A3', 'G3', 'F#3', 'G3', 'E3', 'G3', 'F#3', 'A3', 'C4', 'B3', 'C4'], ['0.0', '0.25', '0.25', '0.25', '0.25', '0.25', '0.25', '0.25', '0.25', '0.25', '0.25', '0.25', '0.25', '0.25', '0.25', '0.25', '0.25', '0.25', '0.25', '0.25', '0.25', '0.25', '0.25', '0.25', '0.25', '0.25', '0.25', '0.25', '0.25', '0.25', '0.25', '0.25', '0.25', '0.25', '0.25', '0.25', '0.25', '0.25', '0.25', '0.25', '0.25', '0.25', '0.25', '0.25', '0.25', '0.25', '0.25', '0.25', '0.25']]\n",
            "107/107 [==============================] - 65s 607ms/step - loss: 2.1458 - note_outputs_loss: 1.6016 - duration_outputs_loss: 0.5441\n",
            "Epoch 63/100\n",
            "107/107 [==============================] - ETA: 0s - loss: 2.1433 - note_outputs_loss: 1.5950 - duration_outputs_loss: 0.5483[['START', 'C:major', '3/4TS', 'C4', 'G3', 'E3', 'C3', 'G2', 'C4', 'rest', 'C4', 'C4', 'G3', 'C4', 'C4', 'C4', 'B-3', 'G#3', 'G3', 'F3', 'E3', 'D3', 'C3', 'E3', 'A3', 'E3', 'C3', 'B-2', 'A2', 'B-2', 'G2', 'A2', 'F2', 'D2', 'A2', 'D3', 'C3', 'B-2', 'D3', 'G3', 'B-2', 'D3', 'G3', 'B-2', 'E2', 'G2', 'C3', 'E-3', 'D3'], ['0.0', '0.0', '0.0', '1.0', '1.0', '0.5', '0.5', '0.5', '0.5', '0.5', '0.5', '0.5', '0.5', '0.5', '0.5', '0.5', '0.5', '0.5', '0.5', '0.5', '0.5', '0.5', '0.5', '0.5', '0.5', '0.5', '0.5', '0.5', '0.5', '0.5', '0.5', '0.5', '0.5', '0.5', '0.5', '0.5', '0.5', '0.5', '0.5', '0.5', '0.5', '0.5', '0.5', '0.5', '0.5', '0.5', '0.5', '0.5', '0.5']]\n",
            "107/107 [==============================] - 65s 612ms/step - loss: 2.1433 - note_outputs_loss: 1.5950 - duration_outputs_loss: 0.5483\n",
            "Epoch 64/100\n",
            "107/107 [==============================] - ETA: 0s - loss: 2.1327 - note_outputs_loss: 1.5877 - duration_outputs_loss: 0.5450[['START', 'E-:major', '4/4TS', 'rest', 'rest'], ['0.0', '0.0', '0.5', '0.5', '0.5']]\n",
            "107/107 [==============================] - 58s 541ms/step - loss: 2.1327 - note_outputs_loss: 1.5877 - duration_outputs_loss: 0.5450\n",
            "Epoch 65/100\n",
            "107/107 [==============================] - ETA: 0s - loss: 2.1211 - note_outputs_loss: 1.5773 - duration_outputs_loss: 0.5438[['START', 'E-:major', '3/2TS', 'rest', 'B-3', 'C4', 'A3', 'B-3', 'C4', 'B-3', 'A3', 'G3', 'F3', 'E3', 'F3', 'G3', 'A3', 'B3', 'C4', 'B3', 'C4', 'A3', 'B3', 'C4', 'A3', 'B3', 'C4', 'A3', 'F#3', 'C4', 'B3', 'C4', 'D4', 'C4', 'B3', 'A3', 'G3', 'F#3', 'E3', 'D3', 'C3', 'B2', 'A2', 'G2', 'F#2', 'E2', 'G2', 'A2', 'B2'], ['0.0', '0.0', '0.0', '3.75', '0.25', '1.0', '0.5', '0.75', '0.25', '0.25', '0.25', '0.25', '0.25', '0.25', '0.25', '0.25', '0.25', '0.25', '0.25', '0.25', '0.25', '0.25', '0.25', '0.25', '0.25', '0.25', '0.25', '0.25', '0.25', '0.25', '0.25', '0.25', '0.25', '0.25', '0.25', '0.25', '0.25', '0.25', '0.25', '0.25', '0.25', '0.25', '0.25', '0.25', '0.25', '0.25', '0.25', '0.25', '0.25']]\n",
            "107/107 [==============================] - 65s 605ms/step - loss: 2.1211 - note_outputs_loss: 1.5773 - duration_outputs_loss: 0.5438\n",
            "Epoch 66/100\n",
            "107/107 [==============================] - ETA: 0s - loss: 2.1205 - note_outputs_loss: 1.5733 - duration_outputs_loss: 0.5472[['START', 'C:major', '3/4TS', 'A3', 'B3', 'C4', 'B3', 'C4', 'B3', 'A3', 'B3', 'C4', 'B3', 'A3', 'B3', 'C4', 'B3', 'A3', 'G3', 'F3', 'E3', 'D3', 'C3', 'G2', 'E2', 'G2', 'A3', 'B-3', 'G3', 'D3', 'E3', 'F3', 'G3', 'A3', 'B-3', 'A3', 'G3', 'F3', 'E3', 'F3', 'G3', 'A3', 'B-3', 'G3', 'B-3', 'B-3', 'F3', 'D4', 'C#3'], ['0.0', '0.0', '0.0', '0.5', '0.5', '0.5', '0.5', '0.5', '0.5', '0.25', '0.25', '0.25', '0.25', '0.25', '0.25', '0.25', '0.25', '0.25', '0.25', '0.25', '0.25', '0.25', '0.25', '0.25', '0.25', '0.25', '0.25', '0.25', '0.25', '0.25', '0.25', '0.25', '0.25', '0.25', '0.25', '0.25', '0.25', '0.25', '0.25', '0.25', '0.25', '0.25', '0.25', '0.25', '0.25', '0.25', '0.25', '0.25', '0.25']]\n",
            "107/107 [==============================] - 64s 602ms/step - loss: 2.1205 - note_outputs_loss: 1.5733 - duration_outputs_loss: 0.5472\n",
            "Epoch 67/100\n",
            "107/107 [==============================] - ETA: 0s - loss: 2.1132 - note_outputs_loss: 1.5677 - duration_outputs_loss: 0.5455[['START', 'G:major', '4/4TS', 'rest', 'B3', 'D3', 'A3', 'D4', 'B3', 'D3', 'G2', 'D3', 'B3', 'D3', 'G2', 'D3', 'B3', 'D3', 'G2', 'D3', 'G2', 'D3', 'G2', 'D3', 'G2', 'D3', 'G2', 'D3', 'G2', 'D3', 'G2', 'E3', 'G2', 'E3', 'G2', 'F#3', 'G2', 'G3', 'C4', 'E3', 'G2', 'F#3', 'G2', 'G3', 'G2', 'F#3', 'G2', 'G3', 'G2'], ['0.0', '0.0', '0.0', '2.0', '1.0', '0.5', '0.5', '0.5', '0.5', '0.5', '0.5', '0.5', '0.5', '0.5', '1.0', '1.0', '0.5', '0.5', '0.5', '0.5', '0.5', '0.5', '0.5', '0.5', '0.5', '0.5', '0.5', '0.5', '0.5', '0.5', '0.5', '0.5', '0.5', '0.5', '0.5', '0.5', '0.5', '0.5', '0.5', '0.5', '0.5', '0.5', '0.5', '0.5', '0.5', '0.5', '0.5', '0.5', '0.5']]\n",
            "107/107 [==============================] - 64s 600ms/step - loss: 2.1132 - note_outputs_loss: 1.5677 - duration_outputs_loss: 0.5455\n",
            "Epoch 68/100\n",
            "107/107 [==============================] - ETA: 0s - loss: 2.0930 - note_outputs_loss: 1.5494 - duration_outputs_loss: 0.5436[['START', 'E-:major', '3/2TS', 'rest', 'A3', 'B-3', 'C4', 'B-3', 'A3', 'G3', 'F3', 'E3', 'F3', 'G3', 'G#3', 'G3', 'F3', 'G3', 'E-3', 'F3', 'D3', 'E-3', 'F3', 'E-3', 'D3', 'C3', 'B2', 'C3', 'D3', 'G2', 'B2', 'D3', 'G3', 'F3', 'G3', 'G#3', 'G3', 'F3', 'G3', 'F3', 'E-3', 'D3', 'E-3', 'F3', 'D3', 'E-3', 'F3', 'G3', 'G#3'], ['0.0', '0.0', '0.0', '3.75', '0.25', '0.25', '0.25', '0.25', '0.25', '0.25', '0.25', '0.25', '0.25', '0.25', '0.25', '0.25', '0.25', '0.25', '0.25', '0.25', '0.25', '0.25', '0.25', '0.25', '0.25', '0.25', '0.25', '0.25', '0.25', '0.25', '0.25', '0.25', '0.25', '0.25', '0.25', '0.25', '0.25', '0.25', '0.25', '0.25', '0.25', '0.25', '0.25', '0.25', '0.25', '0.25', '0.25', '0.25', '0.25']]\n",
            "107/107 [==============================] - 64s 600ms/step - loss: 2.0930 - note_outputs_loss: 1.5494 - duration_outputs_loss: 0.5436\n",
            "Epoch 69/100\n",
            "107/107 [==============================] - ETA: 0s - loss: 2.0928 - note_outputs_loss: 1.5489 - duration_outputs_loss: 0.5439[['START', 'E-:major', '3/2TS', 'rest', 'E-3', 'E-3', 'D3', 'E-3', 'F3', 'G3', 'G#3', 'G3', 'F3', 'E-3', 'D3', 'C3', 'B2', 'C3', 'D3', 'G2', 'B2', 'D3', 'G3', 'F3', 'E-3', 'D3', 'E-3', 'C3', 'D3', 'E-3', 'F3', 'G3', 'G#3', 'B-2', 'C3', 'D3', 'E-3', 'F3', 'G3', 'G#3', 'B-2', 'C3', 'D3', 'E-3', 'F3', 'G3', 'G#3', 'G3', 'F3'], ['0.0', '0.0', '0.5', '0.5', '0.5', '0.5', '0.5', '0.5', '0.5', '0.5', '0.5', '0.5', '0.25', '0.25', '0.25', '0.25', '0.25', '0.25', '0.25', '0.25', '0.25', '0.25', '0.25', '0.25', '0.25', '0.25', '0.25', '0.25', '0.25', '0.25', '0.25', '0.25', '0.25', '0.25', '0.25', '0.25', '0.25', '0.25', '0.25', '0.25', '0.25', '0.25', '0.25', '0.25', '0.25', '0.25', '0.25', '0.25', '0.25']]\n",
            "107/107 [==============================] - 65s 611ms/step - loss: 2.0928 - note_outputs_loss: 1.5489 - duration_outputs_loss: 0.5439\n",
            "Epoch 70/100\n",
            "107/107 [==============================] - ETA: 0s - loss: 2.0736 - note_outputs_loss: 1.5312 - duration_outputs_loss: 0.5424[['START', 'D:major', '4/4TS', 'rest', 'D4', 'D3', 'E3', 'F#3', 'D3', 'D4', 'A3', 'D3', 'F#3', 'D3', 'E3', 'F#3', 'D3', 'A3', 'D3', 'D4', 'A3', 'D3', 'D3', 'D3', 'D3', 'D3', 'D3', 'D3', 'D3', 'D3', 'D3', 'D3', 'D3', 'D3', 'D3', 'D3', 'D3', 'D3', 'D3', 'D3', 'D3', 'D3', 'D3', 'D3', 'D3', 'D3', 'D3', 'D3', 'D3'], ['0.0', '0.0', '1.0', '0.5', '0.5', '0.5', '0.5', '0.5', '0.5', '0.5', '0.5', '0.5', '0.5', '0.5', '0.5', '0.5', '0.5', '0.5', '0.5', '0.5', '0.5', '0.5', '0.5', '0.5', '0.5', '0.5', '0.5', '0.5', '0.5', '0.5', '0.5', '0.5', '0.5', '0.5', '0.5', '0.5', '0.5', '0.5', '0.5', '0.5', '0.5', '0.5', '0.5', '0.5', '0.5', '0.5', '0.5', '0.5', '0.5']]\n",
            "107/107 [==============================] - 65s 604ms/step - loss: 2.0736 - note_outputs_loss: 1.5312 - duration_outputs_loss: 0.5424\n",
            "Epoch 71/100\n",
            "107/107 [==============================] - ETA: 0s - loss: 2.0780 - note_outputs_loss: 1.5318 - duration_outputs_loss: 0.5463[['START', 'C:major', '3/4TS', 'G2', 'C4', 'G3', 'E3', 'D3', 'C3', 'G2', 'E2', 'D2', 'C2', 'C3', 'D3', 'E3', 'F3', 'G3', 'A3', 'B3', 'C4', 'D4', 'B3', 'G3', 'D3', 'B2', 'G2', 'G2', 'G3', 'F3', 'G3', 'E3', 'D3', 'E3', 'C3', 'G2', 'E2', 'D2', 'C2', 'C3', 'D3', 'E3', 'F3', 'G3', 'E3', 'D3', 'C3', 'G2', 'E2'], ['0.0', '0.0', '0.0', '1.0', '1.0', '1.0', '1.0', '1.0', '1.0', '1.0', '1.0', '1.0', '1.0', '1.0', '1.0', '1.0', '1.0', '1.0', '1.0', '1.0', '1.0', '1.0', '1.0', '1.0', '1.0', '1.0', '1.0', '1.0', '1.0', '1.0', '1.0', '1.0', '1.0', '1.0', '1.0', '1.0', '1.0', '1.0', '1.0', '1.0', '1.0', '1.0', '1.0', '1.0', '1.0', '1.0', '1.0', '1.0', '1.0']]\n",
            "107/107 [==============================] - 64s 599ms/step - loss: 2.0780 - note_outputs_loss: 1.5318 - duration_outputs_loss: 0.5463\n",
            "Epoch 72/100\n",
            "107/107 [==============================] - ETA: 0s - loss: 2.0833 - note_outputs_loss: 1.5335 - duration_outputs_loss: 0.5499[['START', 'C:major', '3/4TS', 'C4', 'B3', 'A3', 'G3', 'C4', 'B3', 'C4', 'B3', 'A3', 'G3', 'F#3', 'E3', 'D3', 'C3', 'B2', 'A2', 'G2', 'F#2', 'B3', 'C4', 'B3', 'A3', 'G3', 'A3', 'B3', 'G3', 'A3', 'B3', 'C4', 'B3', 'A3', 'G3', 'F#3', 'E3', 'D3', 'C3', 'B2', 'D3', 'G3', 'D3', 'B2', 'G2', 'F2', 'E2', 'G3', 'A3'], ['0.0', '0.0', '0.0', '0.5', '0.5', '0.5', '0.5', '0.5', '0.5', '0.5', '0.5', '0.5', '0.5', '0.5', '0.5', '0.5', '1.0', '1.0', '0.5', '0.5', '0.5', '0.5', '0.5', '0.5', '0.5', '0.5', '0.5', '0.5', '0.5', '0.5', '0.5', '0.5', '0.5', '0.5', '0.5', '0.5', '0.5', '0.5', '0.5', '0.5', '0.5', '0.5', '0.5', '0.5', '0.5', '0.5', '0.5', '0.5', '0.5']]\n",
            "107/107 [==============================] - 64s 603ms/step - loss: 2.0833 - note_outputs_loss: 1.5335 - duration_outputs_loss: 0.5499\n",
            "Epoch 73/100\n",
            "107/107 [==============================] - ETA: 0s - loss: 2.0661 - note_outputs_loss: 1.5251 - duration_outputs_loss: 0.5410[['START', 'D:major', '4/4TS', 'rest', 'D3', 'F#4', 'F#4', 'G4', 'F#4', 'E4', 'D4', 'E4', 'F#4', 'G4', 'D4', 'C#4', 'B3', 'A3', 'A4', 'A4', 'A4', 'B4', 'A4', 'G4', 'F#4', 'E4', 'D4', 'C#4', 'B3', 'A3', 'A4', 'A4', 'A4', 'B4', 'A4', 'G4', 'F#4', 'E4', 'D4', 'F#4', 'F#4', 'F#4', 'F#4', 'F#4', 'E4', 'D4', 'E4', 'F#4', 'G4'], ['0.0', '0.0', '0.0', '3.75', '0.25', '0.25', '0.25', '0.25', '0.25', '0.25', '0.25', '0.25', '0.25', '0.25', '0.25', '0.25', '0.25', '0.25', '0.25', '0.25', '0.25', '0.25', '0.25', '0.25', '0.25', '0.25', '0.25', '0.25', '0.25', '0.25', '0.25', '0.25', '0.25', '0.25', '0.25', '0.25', '0.25', '0.25', '0.25', '0.25', '0.25', '0.25', '0.25', '0.25', '0.25', '0.25', '0.25', '0.25', '0.25']]\n",
            "107/107 [==============================] - 64s 595ms/step - loss: 2.0661 - note_outputs_loss: 1.5251 - duration_outputs_loss: 0.5410\n",
            "Epoch 74/100\n",
            "107/107 [==============================] - ETA: 0s - loss: 2.0585 - note_outputs_loss: 1.5128 - duration_outputs_loss: 0.5457[['START', 'C:major', '4/4TS', 'rest', 'G3', 'D4', 'F3', 'G3', 'E3', 'C3', 'G2', 'E2', 'D2', 'C2', 'C3', 'D3', 'E3', 'F3', 'G3', 'A3', 'B-3', 'C4', 'B-3', 'A3', 'G3', 'F3', 'E3', 'F3', 'D3', 'E3', 'F3', 'G3', 'A3', 'B-3', 'C4', 'D4', 'E3', 'F3', 'G3', 'A3', 'B-3', 'C4', 'B-3', 'B-3', 'D3', 'B-3', 'C4', 'D4', 'E-4'], ['0.0', '0.0', '0.0', '1.0', '1.0', '1.0', '0.5', '0.5', '0.5', '0.5', '0.5', '0.5', '0.5', '0.5', '0.5', '0.5', '0.5', '0.5', '0.5', '0.5', '0.5', '0.5', '0.5', '0.5', '0.5', '0.5', '0.5', '0.5', '0.5', '0.5', '0.5', '0.5', '0.5', '0.5', '0.5', '0.5', '0.5', '0.5', '0.5', '0.5', '0.5', '0.5', '0.5', '0.5', '0.5', '0.5', '0.5', '0.5', '0.5']]\n",
            "107/107 [==============================] - 65s 608ms/step - loss: 2.0585 - note_outputs_loss: 1.5128 - duration_outputs_loss: 0.5457\n",
            "Epoch 75/100\n",
            "107/107 [==============================] - ETA: 0s - loss: 2.0443 - note_outputs_loss: 1.5036 - duration_outputs_loss: 0.5407[['START', 'E-:major', '3/2TS', 'rest', 'C3', 'C3', 'B-2', 'C3', 'G#2', 'C3', 'G2', 'F2', 'D3', 'E-3', 'F3', 'G3', 'G#3', 'G3', 'F3', 'G3', 'G#3', 'B-3', 'G3', 'G#3', 'B-3', 'C4', 'D4', 'E-4', 'D4', 'C4', 'B-3', 'G#3', 'G3', 'F3', 'E-3', 'D3', 'C3', 'B-2', 'G#2', 'G2', 'G#2', 'G2', 'G#2', 'G2', 'B-2', 'E-3', 'G3', 'B-3', 'D3'], ['0.0', '0.0', '0.0', '3.25', '0.25', '0.25', '0.25', '0.25', '0.25', '0.25', '0.75', '0.25', '1.0', '0.75', '0.25', '0.25', '0.25', '0.75', '0.25', '1.0', '1.0', '0.75', '0.25', '1.0', '0.75', '0.25', '0.25', '0.25', '0.75', '0.25', '0.25', '0.75', '0.25', '0.75', '0.25', '0.75', '0.25', '0.25', '0.75', '0.25', '0.25', '0.25', '0.25', '0.25', '0.25', '0.25', '0.25', '0.25', '0.25']]\n",
            "107/107 [==============================] - 64s 598ms/step - loss: 2.0443 - note_outputs_loss: 1.5036 - duration_outputs_loss: 0.5407\n",
            "Epoch 76/100\n",
            "107/107 [==============================] - ETA: 0s - loss: 2.0488 - note_outputs_loss: 1.5031 - duration_outputs_loss: 0.5457[['START', 'C:major', '3/4TS', 'C4', 'B3', 'A3', 'B3', 'C4', 'B3', 'C4', 'A3', 'B3', 'C4', 'B3', 'C4', 'D3', 'C4', 'B3', 'A3', 'B3', 'G3', 'F3', 'E3', 'C3', 'C4', 'B3', 'A3', 'B3', 'C4', 'B3', 'A3', 'B3', 'C4', 'B3', 'C4', 'A3', 'D4', 'B3', 'G3', 'D3', 'E3', 'F3', 'D3', 'B2', 'A2', 'G2', 'E3', 'G2', 'D3'], ['0.0', '0.0', '0.0', '1.0', '1.0', '0.25', '0.25', '0.25', '0.25', '0.25', '0.25', '0.25', '0.25', '0.25', '0.25', '0.25', '0.25', '0.25', '0.25', '0.25', '0.25', '0.25', '0.25', '0.25', '0.25', '0.25', '0.25', '0.25', '0.25', '0.25', '0.25', '0.25', '0.25', '0.25', '0.25', '0.25', '0.25', '0.25', '0.25', '0.25', '0.25', '0.25', '0.25', '0.25', '0.25', '0.25', '0.25', '0.25', '0.25']]\n",
            "107/107 [==============================] - 64s 602ms/step - loss: 2.0488 - note_outputs_loss: 1.5031 - duration_outputs_loss: 0.5457\n",
            "Epoch 77/100\n",
            "107/107 [==============================] - ETA: 0s - loss: 2.0531 - note_outputs_loss: 1.5051 - duration_outputs_loss: 0.5480[['START', 'C:major', '3/4TS', 'D3', 'C3', 'B2', 'C3', 'G2', 'rest', 'D4', 'D4', 'D4', 'C4', 'B3', 'A3', 'G3', 'F#3', 'E3', 'D3', 'D3', 'D3', 'D3', 'D3', 'D3', 'D3', 'D3', 'D3', 'D3', 'D3', 'D3', 'D3', 'D3', 'D3', 'D3', 'D3', 'D3', 'D3', 'D3', 'D3', 'D3', 'D3', 'D3', 'D3', 'D3', 'D3', 'D3', 'D3', 'D3', 'D3'], ['0.0', '0.0', '0.0', '3.75', '0.25', '0.25', '0.25', '0.25', '0.25', '0.25', '0.25', '0.25', '0.25', '0.25', '0.25', '0.25', '0.25', '0.25', '0.25', '0.25', '0.25', '0.25', '0.25', '0.25', '0.25', '0.25', '0.25', '0.25', '0.25', '0.25', '0.25', '0.25', '0.25', '0.25', '0.25', '0.25', '0.25', '0.25', '0.25', '0.25', '0.5', '0.5', '0.5', '0.25', '0.25', '0.25', '0.25', '0.25', '0.25']]\n",
            "107/107 [==============================] - 64s 603ms/step - loss: 2.0531 - note_outputs_loss: 1.5051 - duration_outputs_loss: 0.5480\n",
            "Epoch 78/100\n",
            "107/107 [==============================] - ETA: 0s - loss: 2.0367 - note_outputs_loss: 1.4904 - duration_outputs_loss: 0.5463[['START', 'C:major', '4/4TS', 'rest', 'A3', 'G3', 'F#3', 'A3', 'B3', 'C4', 'B3', 'A3', 'C4', 'B3', 'A3', 'B3', 'G3', 'D3', 'E3', 'F3', 'G3', 'F3', 'E3', 'D3', 'E3', 'C3', 'G2', 'E3', 'G3', 'C4', 'E3', 'G2', 'F#3', 'C4', 'E3', 'C4', 'E3', 'G2', 'F#3', 'C4', 'B3', 'C4', 'E3', 'C4', 'E3', 'C4', 'E3', 'G2', 'F#3'], ['0.0', '1.0', '1.0', '1.0', '1.0', '1.0', '1.0', '1.0', '1.0', '1.0', '1.0', '1.0', '1.0', '1.0', '1.0', '1.0', '1.0', '1.0', '1.0', '1.0', '1.0', '1.0', '1.0', '1.0', '1.0', '1.0', '1.0', '1.0', '1.0', '1.0', '1.0', '1.0', '1.0', '1.0', '1.0', '1.0', '1.0', '1.0', '1.0', '1.0', '1.0', '1.0', '1.0', '1.0', '1.0', '1.0', '1.0', '1.0', '0.5']]\n",
            "107/107 [==============================] - 64s 599ms/step - loss: 2.0367 - note_outputs_loss: 1.4904 - duration_outputs_loss: 0.5463\n",
            "Epoch 79/100\n",
            "107/107 [==============================] - ETA: 0s - loss: 2.0232 - note_outputs_loss: 1.4783 - duration_outputs_loss: 0.5449[['START', 'D:major', '12/8TS', 'D3', 'D3', 'D3', 'D3', 'D3', 'D3', 'F#3', 'D3', 'D3', 'F#3', 'D3', 'A3', 'D3', 'D3', 'F#3', 'D3', 'D3', 'D3', 'E3', 'D3', 'D3', 'D3', 'D3', 'D3', 'D3', 'D3', 'D3', 'D3', 'D3', 'D3', 'D3', 'D3', 'D3', 'D3', 'D3', 'D3', 'D3', 'D3', 'D3', 'D3', 'D3', 'D3', 'D3', 'D3', 'D3', 'D3'], ['0.0', '0.0', '0.0', '2.0', '1.0', '0.5', '0.5', '0.5', '0.5', '0.5', '0.5', '0.5', '0.5', '0.5', '0.5', '0.5', '0.5', '0.5', '0.5', '0.5', '0.5', '0.5', '0.5', '0.5', '0.5', '0.5', '0.5', '0.5', '0.5', '0.5', '0.5', '0.5', '0.5', '0.5', '0.5', '0.5', '0.5', '0.5', '0.5', '0.5', '0.5', '0.5', '0.5', '0.5', '0.5', '0.5', '0.5', '0.5', '0.5']]\n",
            "107/107 [==============================] - 65s 607ms/step - loss: 2.0232 - note_outputs_loss: 1.4783 - duration_outputs_loss: 0.5449\n",
            "Epoch 80/100\n",
            "107/107 [==============================] - ETA: 0s - loss: 2.0243 - note_outputs_loss: 1.4779 - duration_outputs_loss: 0.5463[['START', 'C:major', '3/8TS', 'rest', 'G3', 'C4', 'C3', 'B2', 'C3', 'G2', 'E2', 'C2', 'C4', 'G3', 'C4', 'C4', 'C4', 'C4', 'G3', 'C4', 'D4', 'C4', 'D4', 'E-4', 'D4', 'E-4', 'D4', 'C4', 'B-3', 'G#3', 'G3', 'F3', 'E-3', 'D3', 'C3', 'B-2', 'C3', 'D3', 'E-3', 'F3', 'G3', 'G#3', 'G3', 'F3', 'E-3', 'D3', 'C3', 'B-2', 'G#2'], ['0.0', '0.5', '0.5', '0.5', '0.5', '0.5', '0.5', '0.5', '0.5', '0.5', '0.5', '0.5', '0.5', '0.5', '0.5', '0.5', '0.5', '0.5', '0.5', '0.5', '0.5', '0.5', '0.5', '0.5', '0.5', '0.5', '0.5', '0.5', '0.5', '0.5', '0.5', '0.5', '0.5', '0.5', '0.5', '0.5', '0.5', '0.5', '0.5', '0.5', '0.5', '0.5', '0.5', '0.5', '0.5', '0.5', '0.5', '0.5', '0.5']]\n",
            "107/107 [==============================] - 64s 601ms/step - loss: 2.0243 - note_outputs_loss: 1.4779 - duration_outputs_loss: 0.5463\n",
            "Epoch 81/100\n",
            "107/107 [==============================] - ETA: 0s - loss: 2.0241 - note_outputs_loss: 1.4803 - duration_outputs_loss: 0.5438[['START', 'C:major', '3/8TS', 'rest', 'G3', 'F3', 'E3', 'F3', 'G3', 'A3', 'B3', 'C4', 'B-3', 'A3', 'B3', 'C4', 'D4', 'E-4', 'D4', 'C4', 'B-3', 'A3', 'G3', 'F#3', 'G3', 'D3', 'G2', 'G3', 'G#3', 'B-3', 'G3', 'G#3', 'G3', 'F3', 'E-3', 'D3', 'C3', 'B-2', 'C3', 'D3', 'E-3', 'F3', 'G3', 'G#3', 'B-3', 'C4', 'G3', 'G#3', 'F3'], ['0.0', '0.0', '0.0', '3.75', '0.25', '0.25', '0.25', '0.25', '0.25', '0.25', '0.25', '0.25', '0.25', '0.25', '0.25', '0.25', '0.25', '0.25', '0.25', '0.25', '0.25', '0.25', '0.25', '0.25', '0.25', '0.25', '0.25', '0.25', '0.25', '0.25', '0.25', '0.25', '0.25', '0.25', '0.25', '0.25', '0.25', '0.25', '0.25', '0.25', '0.25', '0.25', '0.25', '0.25', '0.25', '0.25', '0.25', '0.25', '0.25']]\n",
            "107/107 [==============================] - 64s 594ms/step - loss: 2.0241 - note_outputs_loss: 1.4803 - duration_outputs_loss: 0.5438\n",
            "Epoch 82/100\n",
            "107/107 [==============================] - ETA: 0s - loss: 2.0161 - note_outputs_loss: 1.4676 - duration_outputs_loss: 0.5485[['START', 'C:major', '4/4TS', 'C4', 'B-3', 'A3', 'B3', 'C4', 'D4', 'E-4', 'D4', 'C4', 'B-3', 'A3', 'B-3', 'C4', 'A3', 'B-3', 'C4', 'D4', 'E-4', 'D4', 'C4', 'B-3', 'A3', 'G3', 'F#3', 'G3', 'A3', 'G3', 'F#3', 'E3', 'D3', 'F#3', 'G3', 'A3', 'B3', 'C4', 'D4', 'C4', 'B3', 'C4', 'A3', 'C4', 'B3', 'C4', 'A3', 'C4', 'A3'], ['0.0', '0.0', '0.0', '0.5', '0.5', '0.25', '0.25', '0.25', '0.25', '0.25', '0.25', '0.25', '0.25', '0.25', '0.25', '0.25', '0.25', '0.25', '0.25', '0.25', '0.25', '0.25', '0.25', '0.25', '0.25', '0.25', '0.25', '0.25', '0.25', '0.25', '0.25', '0.25', '0.25', '0.25', '0.25', '0.25', '0.25', '0.25', '0.25', '0.25', '0.25', '0.25', '0.25', '0.25', '0.25', '0.25', '0.25', '0.25', '0.25']]\n",
            "107/107 [==============================] - 64s 596ms/step - loss: 2.0161 - note_outputs_loss: 1.4676 - duration_outputs_loss: 0.5485\n",
            "Epoch 83/100\n",
            "107/107 [==============================] - ETA: 0s - loss: 2.0133 - note_outputs_loss: 1.4659 - duration_outputs_loss: 0.5473[['START', 'E-:major', '4/4TS', 'rest', 'B-3', 'E-4', 'D4', 'C4', 'B-3', 'G#3', 'G3', 'G#3', 'F3', 'G3', 'B-3', 'C#4', 'C#4', 'B-3', 'C4', 'B-3', 'C4', 'B-3', 'B-3', 'B-3', 'B-3', 'A3', 'G3', 'F3', 'A3', 'D4', 'B-3', 'D4', 'F4', 'E-4', 'D4', 'C4', 'D4', 'B-3', 'G3', 'B-3', 'E-3', 'D3', 'F3', 'G3', 'A3', 'B-3', 'A3', 'B-3', 'A3'], ['0.0', '0.5', '0.5', '0.25', '0.25', '0.25', '0.25', '0.5', '0.25', '0.25', '0.25', '0.25', '0.25', '0.25', '0.25', '0.25', '0.25', '0.25', '0.25', '0.25', '0.25', '0.25', '0.25', '0.25', '0.25', '0.25', '0.25', '0.25', '0.25', '0.25', '0.25', '0.25', '0.25', '0.25', '0.25', '0.25', '0.25', '0.25', '0.25', '0.25', '0.25', '0.25', '0.25', '0.25', '0.25', '0.25', '0.25', '0.25', '0.25']]\n",
            "107/107 [==============================] - 64s 599ms/step - loss: 2.0133 - note_outputs_loss: 1.4659 - duration_outputs_loss: 0.5473\n",
            "Epoch 84/100\n",
            "107/107 [==============================] - ETA: 0s - loss: 2.0042 - note_outputs_loss: 1.4576 - duration_outputs_loss: 0.5466[['START', 'D:major', '4/4TS', 'rest', 'F#4', 'F#4', 'A4', 'F#4', 'G4', 'A4', 'G4', 'F#4', 'E4', 'D4', 'E4', 'F#4', 'G4', 'E4', 'D4', 'C#4', 'D4', 'E4', 'F#4', 'G4', 'E4', 'F#4', 'G4', 'E4', 'C#5', 'B4', 'A4', 'G4', 'F#4', 'E4', 'A4', 'G4', 'E4', 'E4', 'F#4', 'G4', 'E4', 'A4', 'G4', 'E4', 'F#4', 'G4', 'E4', 'A4', 'G4'], ['0.0', '0.0', '0.0', '2.5', '0.5', '0.5', '0.5', '0.5', '0.5', '0.5', '0.5', '0.5', '0.5', '0.5', '0.5', '0.5', '0.5', '0.5', '0.5', '0.5', '0.5', '0.5', '0.5', '0.5', '0.5', '0.5', '0.5', '0.5', '0.5', '0.5', '0.5', '0.5', '0.5', '0.5', '0.5', '0.5', '0.5', '0.5', '0.5', '0.5', '0.5', '0.5', '0.5', '0.5', '0.5', '0.5', '0.5', '0.5', '0.5']]\n",
            "107/107 [==============================] - 63s 589ms/step - loss: 2.0042 - note_outputs_loss: 1.4576 - duration_outputs_loss: 0.5466\n",
            "Epoch 85/100\n",
            "107/107 [==============================] - ETA: 0s - loss: 2.0057 - note_outputs_loss: 1.4583 - duration_outputs_loss: 0.5474[['START', 'D:major', '4/4TS', 'rest', 'F#4', 'F#4', 'G4', 'F#4', 'G4', 'F#4', 'E4', 'D4', 'D4', 'D4', 'D4', 'D4', 'F#3', 'F#3', 'F#3', 'D3', 'F#3', 'A3', 'C4', 'B3', 'D4', 'B3', 'G3', 'D3', 'B2', 'G2', 'F2', 'C4', 'B3', 'A3', 'G3', 'C4', 'B3', 'A3', 'G3', 'F#3', 'G3', 'E3', 'F#3', 'G3', 'E3', 'C#3', 'D3', 'B-2', 'C#3'], ['0.0', '0.0', '1.0', '0.5', '0.5', '0.5', '0.5', '0.5', '0.5', '0.5', '0.5', '0.5', '0.5', '0.5', '0.5', '0.5', '0.5', '0.5', '0.5', '0.5', '0.5', '0.5', '0.5', '0.5', '0.5', '0.5', '0.5', '0.5', '0.5', '0.5', '0.5', '0.5', '0.5', '0.5', '0.5', '0.5', '0.5', '0.5', '0.5', '0.5', '0.5', '0.5', '0.5', '0.5', '0.5', '0.5', '0.5', '0.5', '0.5']]\n",
            "107/107 [==============================] - 65s 604ms/step - loss: 2.0057 - note_outputs_loss: 1.4583 - duration_outputs_loss: 0.5474\n",
            "Epoch 86/100\n",
            "107/107 [==============================] - ETA: 0s - loss: 1.9997 - note_outputs_loss: 1.4506 - duration_outputs_loss: 0.5491[['START', 'C:major', '4/4TS', 'rest', 'G3', 'G3', 'E3', 'F3', 'G3', 'A3', 'B3', 'C4', 'D4', 'B3', 'C4', 'B3', 'A3', 'B3', 'G3', 'D3', 'E3', 'F3', 'B2', 'A2', 'B2', 'G3', 'F3', 'E3', 'D3', 'E3', 'F3', 'A2', 'G2', 'E3', 'F3', 'F2', 'E2', 'G2', 'B2', 'D3', 'G3', 'E3', 'C3', 'G2', 'B2', 'C3', 'rest'], ['0.0', '0.0', '0.0', '5.5', '0.5', '0.5', '0.5', '0.5', '0.5', '0.5', '0.5', '0.5', '0.5', '0.5', '0.5', '0.5', '0.5', '0.5', '0.5', '0.5', '0.5', '0.5', '0.5', '0.5', '0.5', '0.5', '0.5', '0.5', '0.5', '0.5', '0.5', '0.5', '0.5', '0.5', '0.5', '0.5', '0.5', '0.5', '0.5', '0.5', '0.5', '0.5', '0.5', '0.5', '0.5', '0.5', '0.5']]\n",
            "107/107 [==============================] - 64s 597ms/step - loss: 1.9997 - note_outputs_loss: 1.4506 - duration_outputs_loss: 0.5491\n",
            "Epoch 87/100\n",
            "107/107 [==============================] - ETA: 0s - loss: 1.9884 - note_outputs_loss: 1.4419 - duration_outputs_loss: 0.5465[['START', 'C:major', '3/4TS', 'B3', 'C4', 'B3', 'C4', 'E3', 'C4', 'B3', 'C4', 'E3', 'C4', 'E3', 'D3', 'C4', 'E3', 'C4', 'F#3', 'C4', 'F#3', 'C4', 'E3', 'A3', 'C4', 'F#3', 'C4', 'B3', 'C4', 'F#3', 'C4', 'F#3', 'C4', 'E3', 'D3', 'C4', 'B3', 'A3', 'G3', 'F#3', 'E3', 'D3', 'C3', 'B2', 'C3', 'D3', 'B2', 'D3', 'G3'], ['0.0', '0.0', '0.0', '3.75', '0.25', '0.25', '0.25', '0.25', '0.25', '0.25', '0.25', '0.25', '0.25', '0.25', '0.25', '0.25', '0.25', '0.25', '0.25', '0.25', '0.25', '0.25', '0.25', '0.25', '0.25', '0.25', '0.25', '0.25', '0.25', '0.25', '0.25', '0.25', '0.25', '0.25', '0.25', '0.25', '0.25', '0.25', '0.25', '0.25', '0.25', '0.25', '0.25', '0.25', '0.25', '0.25', '0.25', '0.25', '0.25']]\n",
            "107/107 [==============================] - 64s 603ms/step - loss: 1.9884 - note_outputs_loss: 1.4419 - duration_outputs_loss: 0.5465\n",
            "Epoch 88/100\n",
            "107/107 [==============================] - ETA: 0s - loss: 1.9799 - note_outputs_loss: 1.4342 - duration_outputs_loss: 0.5457[['START', 'C:major', '4/4TS', 'rest', 'C3', 'D3', 'E3', 'F3', 'G3', 'A3', 'B-3', 'G3', 'A3', 'D3', 'G3', 'F3', 'E3', 'F3', 'D3', 'B2', 'F3', 'D3', 'E3', 'C3', 'G2', 'B2', 'C3', 'C2', 'B2', 'C#3', 'E3', 'G3', 'A3', 'G3', 'F#3', 'G3', 'A3', 'G3', 'F#3', 'G3', 'A3', 'G3', 'F#3', 'E3', 'D3', 'E3', 'F#3', 'D3', 'G2'], ['0.0', '0.0', '0.0', '2.5', '0.5', '0.5', '0.5', '0.5', '0.5', '0.5', '0.5', '0.5', '0.5', '0.5', '0.5', '0.5', '0.5', '0.5', '0.5', '0.5', '0.5', '0.5', '0.5', '0.5', '0.5', '0.5', '0.5', '0.5', '0.5', '0.5', '0.5', '0.5', '0.5', '0.5', '0.5', '0.5', '0.5', '0.5', '0.5', '0.5', '0.5', '0.5', '0.5', '0.5', '0.5', '0.5', '0.5', '0.5', '0.5']]\n",
            "107/107 [==============================] - 64s 603ms/step - loss: 1.9799 - note_outputs_loss: 1.4342 - duration_outputs_loss: 0.5457\n",
            "Epoch 89/100\n",
            "107/107 [==============================] - ETA: 0s - loss: 1.9815 - note_outputs_loss: 1.4385 - duration_outputs_loss: 0.5430[['START', 'C:major', '3/4TS', 'C3', 'G2', 'E3', 'D3', 'E3', 'F3', 'D3', 'E3', 'F3', 'D3', 'E3', 'D3', 'E3', 'F3', 'D3', 'G3', 'E3', 'C3', 'E3', 'F#3', 'G3', 'A3', 'B3', 'C4', 'B3', 'A3', 'G3', 'F#3', 'A3', 'B3', 'C4', 'D4', 'B3', 'A3', 'G3', 'F#3', 'E3', 'D3', 'C3', 'B2', 'A2', 'G2', 'F#2', 'A3', 'B3', 'A3'], ['0.0', '0.0', '0.5', '0.5', '0.5', '0.5', '0.5', '0.5', '0.5', '0.5', '0.5', '0.5', '0.5', '0.5', '0.5', '0.5', '0.5', '0.5', '0.5', '0.5', '0.5', '0.5', '0.5', '0.5', '0.5', '0.5', '0.5', '0.5', '0.5', '0.5', '0.5', '0.5', '0.5', '0.5', '0.5', '0.5', '0.5', '0.5', '0.5', '0.5', '0.5', '0.5', '0.5', '0.5', '0.5', '0.5', '0.5', '0.5', '0.5']]\n",
            "107/107 [==============================] - 64s 598ms/step - loss: 1.9815 - note_outputs_loss: 1.4385 - duration_outputs_loss: 0.5430\n",
            "Epoch 90/100\n",
            "107/107 [==============================] - ETA: 0s - loss: 1.9739 - note_outputs_loss: 1.4300 - duration_outputs_loss: 0.5439[['START', 'C:major', '3/4TS', 'A3', 'F3', 'G3', 'A3', 'F#3', 'A3', 'B3', 'C4', 'B3', 'A3', 'G3', 'F#3', 'E3', 'D3', 'C3', 'G2', 'D3', 'C4', 'B3', 'A3', 'G3', 'F#3', 'G3', 'E3', 'F#3', 'D3', 'A2', 'D3', 'F#3', 'G3', 'A3', 'B3', 'C4', 'D4', 'D4', 'C4', 'B3', 'A3', 'G3', 'A3', 'B3', 'C4', 'A3', 'D4', 'B3', 'G3'], ['0.0', '0.0', '0.0', '2.5', '0.5', '0.5', '0.5', '0.5', '0.5', '0.5', '0.5', '0.5', '0.5', '0.5', '0.5', '0.5', '0.5', '0.5', '0.5', '0.5', '0.5', '0.5', '0.5', '0.5', '0.5', '0.5', '0.5', '0.5', '0.5', '0.5', '0.5', '0.5', '0.5', '0.5', '0.5', '0.5', '0.5', '0.5', '0.5', '0.5', '0.5', '0.5', '0.5', '0.5', '0.5', '0.5', '0.5', '0.5', '0.5']]\n",
            "107/107 [==============================] - 65s 607ms/step - loss: 1.9739 - note_outputs_loss: 1.4300 - duration_outputs_loss: 0.5439\n",
            "Epoch 91/100\n",
            "107/107 [==============================] - ETA: 0s - loss: 1.9709 - note_outputs_loss: 1.4201 - duration_outputs_loss: 0.5507[['START', 'E-:major', '4/4TS', 'rest', 'B-3', 'E-4', 'D4', 'C4', 'B-3', 'G#3', 'G3', 'G#3', 'F3', 'G3', 'G#3', 'F3', 'G3', 'B-3', 'E-3', 'E-3', 'C3', 'D3', 'E-3', 'F3', 'B-2', 'G#2', 'E-3', 'E-3', 'F3', 'G3', 'G#3', 'B-3', 'C4', 'G3', 'G#3', 'F3', 'G3', 'B-3', 'E-3', 'C3', 'B-2', 'G#2', 'G2', 'G#2', 'F2', 'G2', 'G#2', 'F2', 'G#3'], ['0.0', '0.0', '0.0', '2.5', '0.5', '0.5', '0.5', '0.5', '0.5', '0.5', '0.5', '0.5', '0.5', '0.5', '0.5', '0.5', '0.5', '0.5', '0.5', '0.5', '0.5', '0.5', '0.5', '0.5', '0.5', '0.5', '0.5', '0.5', '0.5', '0.5', '0.5', '0.5', '0.5', '0.5', '0.5', '0.5', '0.5', '0.5', '0.5', '0.5', '0.5', '0.5', '0.5', '0.5', '0.5', '0.5', '0.5', '0.5', '0.5']]\n",
            "107/107 [==============================] - 65s 604ms/step - loss: 1.9709 - note_outputs_loss: 1.4201 - duration_outputs_loss: 0.5507\n",
            "Epoch 92/100\n",
            "107/107 [==============================] - ETA: 0s - loss: 1.9598 - note_outputs_loss: 1.4153 - duration_outputs_loss: 0.5446[['START', 'C:major', '3/4TS', 'rest', 'G3', 'C3', 'B2', 'G3', 'F3', 'G3', 'C3', 'B2', 'A2', 'G2', 'F2', 'E2', 'C3', 'B2', 'D2', 'B2', 'C3', 'G2', 'B2', 'D3', 'G3', 'B2', 'G2', 'G2', 'B2', 'D3', 'G3', 'E3', 'C3', 'G2', 'B2', 'C3', 'C4', 'B3', 'G3', 'F3', 'B2', 'C2', 'F3', 'E3', 'G3', 'C3', 'D3', 'E3', 'C3'], ['0.0', '0.0', '0.0', '1.0', '1.0', '1.0', '1.0', '1.0', '1.0', '1.0', '1.0', '1.0', '1.0', '1.0', '1.0', '1.0', '1.0', '1.0', '1.0', '1.0', '1.0', '1.0', '1.0', '1.0', '1.0', '1.0', '1.0', '1.0', '1.0', '1.0', '1.0', '1.0', '1.0', '1.0', '1.0', '1.0', '1.0', '1.0', '1.0', '1.0', '1.0', '1.0', '1.0', '1.0', '1.0', '1.0', '1.0', '1.0', '1.0']]\n",
            "107/107 [==============================] - 64s 601ms/step - loss: 1.9598 - note_outputs_loss: 1.4153 - duration_outputs_loss: 0.5446\n",
            "Epoch 93/100\n",
            "107/107 [==============================] - ETA: 0s - loss: 1.9616 - note_outputs_loss: 1.4153 - duration_outputs_loss: 0.5463[['START', 'E-:major', '3/2TS', 'rest', 'C3', 'C3', 'D3', 'E-3', 'F3', 'G3', 'G#3', 'G3', 'F3', 'E-3', 'D3', 'C3', 'B-2', 'G#2', 'G2', 'F2', 'G2', 'G#2', 'F2', 'G#3', 'G#3', 'F3', 'G#3', 'G#3', 'G3', 'F3', 'E-3', 'D3', 'E-3', 'F3', 'E-3', 'D3', 'C3', 'B-2', 'G#2', 'G2', 'B-2', 'C3', 'D3', 'E-3', 'C#4', 'G#2', 'C#4', 'C4', 'B-3'], ['0.0', '0.0', '0.0', '1.0', '0.25', '0.25', '0.25', '0.25', '0.25', '0.25', '0.25', '0.25', '0.25', '0.25', '0.25', '0.25', '0.25', '0.25', '0.25', '0.25', '0.25', '0.25', '0.25', '0.25', '0.25', '0.25', '0.25', '0.25', '0.25', '0.25', '0.25', '0.25', '0.25', '0.25', '0.25', '0.25', '0.25', '0.25', '0.25', '0.25', '0.25', '0.25', '0.25', '0.25', '0.25', '0.25', '0.25', '0.25', '0.25']]\n",
            "107/107 [==============================] - 64s 597ms/step - loss: 1.9616 - note_outputs_loss: 1.4153 - duration_outputs_loss: 0.5463\n",
            "Epoch 94/100\n",
            "107/107 [==============================] - ETA: 0s - loss: 1.9557 - note_outputs_loss: 1.4076 - duration_outputs_loss: 0.5482[['START', 'E-:major', '3/2TS', 'rest', 'E-3', 'F3', 'G3', 'G#3', 'B-3', 'C4', 'B-3', 'G#3', 'G3', 'F3', 'G3', 'E-3', 'F2', 'D3', 'D3', 'C3', 'B2', 'C3', 'E-2', 'G2', 'C3', 'F2', 'G2', 'E-2', 'F2', 'G2', 'C4', 'rest', 'D4', 'D4', 'E-4', 'D4', 'C4', 'B3', 'C4', 'D4', 'E-4', 'D4', 'E-4', 'D4', 'C4', 'B3', 'C4', 'C4', 'D4'], ['0.0', '0.0', '0.5', '0.5', '0.5', '0.5', '0.5', '0.5', '0.5', '0.5', '0.5', '0.5', '0.5', '0.5', '0.5', '0.5', '0.5', '0.5', '0.5', '0.5', '0.5', '0.5', '0.5', '0.5', '0.5', '0.5', '0.5', '0.5', '0.5', '0.5', '0.5', '0.5', '0.5', '0.5', '0.5', '0.5', '0.5', '0.5', '0.5', '0.5', '0.5', '0.5', '0.5', '0.5', '0.5', '0.5', '0.5', '0.5', '0.5']]\n",
            "107/107 [==============================] - 64s 598ms/step - loss: 1.9557 - note_outputs_loss: 1.4076 - duration_outputs_loss: 0.5482\n",
            "Epoch 95/100\n",
            "107/107 [==============================] - ETA: 0s - loss: 1.9652 - note_outputs_loss: 1.4136 - duration_outputs_loss: 0.5516[['START', 'C:major', '4/4TS', 'rest', 'E3', 'F3', 'G3', 'C3', 'B2', 'G3', 'F3', 'G3', 'G#3', 'G3', 'F3', 'G3', 'G#3', 'B-3', 'G3', 'G#3', 'B-3', 'G3', 'G#3', 'B-3', 'G#3', 'G3', 'F3', 'E-3', 'D3', 'E-3', 'F3', 'E-3', 'D3', 'C3', 'B-2', 'G#2', 'G2', 'F2', 'G2', 'E-3', 'G#2', 'D3', 'G3', 'B-2', 'D3', 'F3', 'G#3', 'G3', 'F3'], ['0.0', '0.0', '0.0', '2.0', '1.0', '1.0', '1.0', '0.5', '0.5', '0.5', '0.5', '0.5', '0.5', '0.5', '0.5', '0.5', '0.5', '0.5', '0.5', '0.5', '0.5', '0.5', '0.5', '0.5', '0.5', '0.5', '0.5', '0.5', '0.5', '0.5', '0.5', '0.5', '0.5', '0.5', '0.5', '0.5', '0.5', '0.5', '0.5', '0.5', '0.5', '0.5', '0.5', '0.5', '0.5', '0.5', '0.5', '0.5', '0.5']]\n",
            "107/107 [==============================] - 64s 602ms/step - loss: 1.9652 - note_outputs_loss: 1.4136 - duration_outputs_loss: 0.5516\n",
            "Epoch 96/100\n",
            "107/107 [==============================] - ETA: 0s - loss: 1.9443 - note_outputs_loss: 1.3986 - duration_outputs_loss: 0.5457[['START', 'C:major', '3/4TS', 'rest', 'A3', 'B3', 'A3', 'G3', 'F#3', 'E3', 'D3', 'D4', 'C#4', 'D4', 'A3', 'G3', 'F#3', 'E3', 'G3', 'F#3', 'E3', 'F#3', 'D3', 'A3', 'C3', 'B2', 'G3', 'A2', 'G3', 'F#3', 'A3', 'G3', 'F#3', 'A3', 'G3', 'A3', 'B3', 'C4', 'D4', 'B3', 'C4', 'D4', 'B3', 'G3', 'D3', 'E3', 'F3', 'G3', 'A3'], ['0.0', '0.0', '0.0', '0.5', '0.5', '0.5', '0.5', '0.5', '0.5', '0.5', '0.5', '0.5', '0.5', '0.5', '0.5', '0.5', '0.5', '0.5', '0.5', '0.5', '0.5', '0.5', '0.5', '0.5', '0.5', '0.5', '0.5', '0.5', '0.5', '0.5', '0.5', '0.5', '0.5', '0.5', '0.5', '0.5', '0.5', '0.5', '0.5', '0.5', '0.5', '0.5', '0.5', '0.5', '0.5', '0.5', '0.5', '0.5', '0.5']]\n",
            "107/107 [==============================] - 64s 599ms/step - loss: 1.9443 - note_outputs_loss: 1.3986 - duration_outputs_loss: 0.5457\n",
            "Epoch 97/100\n",
            "107/107 [==============================] - ETA: 0s - loss: 1.9473 - note_outputs_loss: 1.3999 - duration_outputs_loss: 0.5473[['START', 'E-:major', '4/4TS', 'rest', 'E-3', 'F3', 'G3', 'G#3', 'B-3', 'C4', 'E-3', 'D3', 'C3', 'D3', 'E-3', 'F3', 'G3', 'G#3', 'B-3', 'C4', 'G3', 'G#3', 'F3', 'B-3', 'D3', 'E-3', 'C3', 'D3', 'B-2', 'B-2', 'G#2', 'G2', 'F2', 'G#3', 'G3', 'F3', 'E-3', 'B-2', 'G#3', 'G3', 'F3', 'E-3', 'D3', 'C3', 'B-2', 'G#2', 'G2', 'B-2', 'C3'], ['0.0', '0.0', '0.0', '3.75', '0.25', '0.25', '0.25', '0.25', '0.25', '0.25', '0.25', '0.25', '0.25', '0.25', '0.25', '0.25', '0.25', '0.25', '0.25', '0.25', '0.25', '0.25', '0.25', '0.25', '0.25', '0.25', '0.25', '0.25', '0.25', '0.25', '0.25', '0.25', '0.5', '0.5', '0.5', '0.5', '0.5', '0.5', '0.5', '0.5', '0.5', '0.5', '0.5', '0.5', '0.5', '0.5', '0.5', '0.5', '0.5']]\n",
            "107/107 [==============================] - 64s 603ms/step - loss: 1.9473 - note_outputs_loss: 1.3999 - duration_outputs_loss: 0.5473\n",
            "Epoch 98/100\n",
            "107/107 [==============================] - ETA: 0s - loss: 1.9370 - note_outputs_loss: 1.3890 - duration_outputs_loss: 0.5480[['START', 'C:major', '3/4TS', 'G3', 'C3', 'G3', 'C3', 'G2', 'E2', 'C2', 'D2', 'E2', 'F2', 'G2', 'E2', 'G3', 'F3', 'E3', 'C#3', 'G3', 'C#3', 'E3', 'A3', 'G3', 'F3', 'E3', 'F3', 'A3', 'D4', 'A3', 'F3', 'D3', 'E3', 'F3', 'G3', 'A3', 'B-3', 'C4', 'A3', 'F#3', 'F3', 'F#3', 'D3', 'F#3', 'E-3', 'D3', 'E-3', 'F#3', 'E-3'], ['0.0', '0.0', '0.0', '0.5', '0.5', '0.5', '0.5', '0.5', '0.5', '0.5', '0.5', '0.5', '0.5', '0.5', '0.5', '0.5', '0.5', '0.5', '0.5', '0.5', '0.5', '0.5', '0.5', '0.5', '0.5', '0.5', '0.5', '0.5', '0.5', '0.5', '0.5', '0.5', '0.5', '0.5', '0.5', '0.5', '0.5', '0.5', '0.5', '0.5', '0.5', '0.5', '0.5', '0.5', '0.5', '0.5', '0.5', '0.5', '0.5']]\n",
            "107/107 [==============================] - 64s 599ms/step - loss: 1.9370 - note_outputs_loss: 1.3890 - duration_outputs_loss: 0.5480\n",
            "Epoch 99/100\n",
            "107/107 [==============================] - ETA: 0s - loss: 1.9384 - note_outputs_loss: 1.3916 - duration_outputs_loss: 0.5468[['START', 'D:major', '12/8TS', 'D3', 'D3', 'D3', 'D3', 'D3', 'F#3', 'D3', 'D3', 'D3', 'D3', 'D3', 'D3', 'F#3', 'D3', 'D3', 'D3', 'F#3', 'D3', 'D3', 'D3', 'A3', 'D3', 'D3', 'D3', 'D3', 'D3', 'D3', 'D3', 'D3', 'D3', 'D3', 'D3', 'D3', 'D3', 'D3', 'D3', 'D3', 'D3', 'D3', 'D3', 'D3', 'D3', 'D3', 'D3', 'D3', 'D3'], ['0.0', '0.0', '0.0', '0.5', '0.5', '0.5', '0.5', '0.5', '0.5', '0.5', '0.5', '0.5', '0.5', '0.5', '0.5', '0.5', '0.5', '0.5', '0.5', '0.5', '0.5', '0.5', '0.5', '0.5', '0.5', '0.5', '0.5', '0.5', '0.5', '0.5', '0.5', '0.5', '0.5', '0.5', '0.5', '0.5', '0.5', '0.5', '0.5', '0.5', '0.5', '0.5', '0.5', '0.5', '0.5', '0.5', '0.5', '0.5', '0.5']]\n",
            "107/107 [==============================] - 64s 597ms/step - loss: 1.9384 - note_outputs_loss: 1.3916 - duration_outputs_loss: 0.5468\n",
            "Epoch 100/100\n",
            "107/107 [==============================] - ETA: 0s - loss: 1.9312 - note_outputs_loss: 1.3855 - duration_outputs_loss: 0.5457[['START', 'C:major', '3/4TS', 'C4', 'B-3', 'A3', 'G3', 'F3', 'E3', 'F3', 'G3', 'A3', 'C4', 'B3', 'C4', 'B3', 'C4', 'G3', 'E4', 'C4', 'G3', 'E4', 'C4', 'G3', 'E4', 'D4', 'C4', 'D4', 'C4', 'D4', 'E-4', 'C4', 'B3', 'A3', 'G3', 'F#3', 'G3', 'C3', 'D3', 'E3', 'F#3', 'G3', 'A3', 'F#3', 'A3', 'F#3', 'A3', 'G3', 'A3'], ['0.0', '0.0', '0.0', '3.75', '0.25', '0.25', '0.25', '0.25', '0.25', '0.25', '0.25', '0.25', '0.25', '0.25', '0.25', '0.25', '0.25', '0.25', '0.25', '0.25', '0.25', '0.25', '0.25', '0.25', '0.25', '0.25', '0.25', '0.25', '0.25', '0.25', '0.25', '0.25', '0.25', '0.25', '0.25', '0.25', '0.25', '0.25', '0.25', '0.25', '0.25', '0.25', '0.25', '0.25', '0.25', '0.25', '0.25', '0.25', '0.25']]\n",
            "107/107 [==============================] - 65s 608ms/step - loss: 1.9312 - note_outputs_loss: 1.3855 - duration_outputs_loss: 0.5457\n"
          ]
        },
        {
          "output_type": "execute_result",
          "data": {
            "text/plain": [
              "<keras.src.callbacks.History at 0x7810eb4eb760>"
            ]
          },
          "metadata": {},
          "execution_count": 62
        }
      ],
      "source": [
        "model.fit(\n",
        "    ds,\n",
        "    epochs=100,\n",
        "    callbacks=[\n",
        "        music_generator,\n",
        "    ],\n",
        ")"
      ]
    },
    {
      "cell_type": "code",
      "execution_count": null,
      "id": "4de2131e-f13c-45af-ab8d-c361b0be8640",
      "metadata": {
        "id": "4de2131e-f13c-45af-ab8d-c361b0be8640"
      },
      "outputs": [],
      "source": [
        "# Save the final model\n",
        "model.save(\"/content/model\")"
      ]
    },
    {
      "cell_type": "markdown",
      "id": "7f0445d3-5513-428b-995a-b337547d2a71",
      "metadata": {
        "id": "7f0445d3-5513-428b-995a-b337547d2a71"
      },
      "source": [
        "# 3. Generate music using the Transformer"
      ]
    },
    {
      "cell_type": "code",
      "execution_count": null,
      "id": "a0776a68-d4c7-439b-a3fd-d9397b357662",
      "metadata": {
        "id": "a0776a68-d4c7-439b-a3fd-d9397b357662"
      },
      "outputs": [],
      "source": [
        "info = music_generator.generate(\n",
        "    [\"START\"], [\"0.0\"], max_tokens=50, temperature=0.5\n",
        ")\n",
        "midi_stream = info[-1][\"midi\"].chordify()\n",
        "#midi_stream.show()"
      ]
    },
    {
      "cell_type": "markdown",
      "id": "8932e58a-5a9c-44a3-bff4-39c564fafdf4",
      "metadata": {
        "id": "8932e58a-5a9c-44a3-bff4-39c564fafdf4"
      },
      "source": [
        "## Write music to MIDI file"
      ]
    },
    {
      "cell_type": "code",
      "execution_count": null,
      "id": "2402314a-ca87-468e-a9d1-b79403fe7065",
      "metadata": {
        "id": "2402314a-ca87-468e-a9d1-b79403fe7065",
        "colab": {
          "base_uri": "https://localhost:8080/",
          "height": 36
        },
        "outputId": "e0dd03cd-a03c-4ee2-d6e8-fa07c5994c71"
      },
      "outputs": [
        {
          "output_type": "execute_result",
          "data": {
            "text/plain": [
              "'/content/transformer_output/output-20240831-221245.mid'"
            ],
            "application/vnd.google.colaboratory.intrinsic+json": {
              "type": "string"
            }
          },
          "metadata": {},
          "execution_count": 65
        }
      ],
      "source": [
        "timestr = time.strftime(\"%Y%m%d-%H%M%S\")\n",
        "midi_stream.write(\n",
        "    \"midi\",\n",
        "    fp=os.path.join(\n",
        "        \"/content/transformer_output\",\n",
        "        \"output-\" + timestr + \".mid\",\n",
        "    ),\n",
        ")"
      ]
    },
    {
      "cell_type": "markdown",
      "id": "24eb14c3-9dab-42b9-8916-b9b3a4d38590",
      "metadata": {
        "id": "24eb14c3-9dab-42b9-8916-b9b3a4d38590"
      },
      "source": [
        "## Note probabilities"
      ]
    },
    {
      "cell_type": "code",
      "execution_count": null,
      "id": "c92ad9f2-74ed-4432-b633-f74fd17b6a49",
      "metadata": {
        "id": "c92ad9f2-74ed-4432-b633-f74fd17b6a49"
      },
      "outputs": [],
      "source": [
        "max_pitch = 70\n",
        "seq_len = len(info)\n",
        "grid = np.zeros((max_pitch, seq_len), dtype=np.float32)\n",
        "\n",
        "for j in range(seq_len):\n",
        "    for i, prob in enumerate(info[j][\"note_probs\"]):\n",
        "        try:\n",
        "            pitch = music21.note.Note(notes_vocab[i]).pitch.midi\n",
        "            grid[pitch, j] = prob\n",
        "        except:\n",
        "            pass  # Don't show key / time signatures"
      ]
    },
    {
      "cell_type": "code",
      "execution_count": null,
      "id": "0d4ce565-a5d4-4cec-b321-1e02d814b65c",
      "metadata": {
        "id": "0d4ce565-a5d4-4cec-b321-1e02d814b65c",
        "colab": {
          "base_uri": "https://localhost:8080/",
          "height": 503
        },
        "outputId": "9ee57f90-a506-472f-8012-7910ed4be131"
      },
      "outputs": [
        {
          "output_type": "display_data",
          "data": {
            "text/plain": [
              "<Figure size 800x800 with 1 Axes>"
            ],
            "image/png": "[encoded data removed]"
          },
          "metadata": {
            "image/png": {
              "width": 667,
              "height": 486
            }
          }
        }
      ],
      "source": [
        "fig, ax = plt.subplots(figsize=(8, 8))\n",
        "ax.set_yticks([int(j) for j in range(35, 70)])\n",
        "plt.imshow(\n",
        "    grid[35:70, :],\n",
        "    origin=\"lower\",\n",
        "    cmap=\"coolwarm\",\n",
        "    vmin=-0.5,\n",
        "    vmax=0.5,\n",
        "    extent=[0, seq_len, 35, 70],\n",
        ")\n",
        "plt.show()"
      ]
    },
    {
      "cell_type": "markdown",
      "id": "bdae49db-6e0f-4071-a289-74310d684fab",
      "metadata": {
        "id": "bdae49db-6e0f-4071-a289-74310d684fab"
      },
      "source": [
        "## Attention Plot"
      ]
    },
    {
      "cell_type": "code",
      "execution_count": null,
      "id": "cf270a8f-da3f-4d21-b4f9-c19fcf7c4332",
      "metadata": {
        "id": "cf270a8f-da3f-4d21-b4f9-c19fcf7c4332"
      },
      "outputs": [],
      "source": [
        "plot_size = 20\n",
        "\n",
        "att_matrix = np.zeros((plot_size, plot_size))\n",
        "prediction_output = []\n",
        "last_prompt = []"
      ]
    },
    {
      "cell_type": "code",
      "execution_count": null,
      "id": "6a3fcec1-f2fc-4dbc-b997-d00a958b6388",
      "metadata": {
        "tags": [],
        "id": "6a3fcec1-f2fc-4dbc-b997-d00a958b6388"
      },
      "outputs": [],
      "source": [
        "for j in range(plot_size):\n",
        "    atts = info[j][\"atts\"].max(axis=0)\n",
        "    att_matrix[: (j + 1), j] = atts\n",
        "    prediction_output.append(info[j][\"chosen_note\"][0])\n",
        "    last_prompt.append(info[j][\"prompt\"][0][-1])"
      ]
    },
    {
      "cell_type": "code",
      "execution_count": null,
      "id": "6b2742cf-ad18-4c23-8181-5d868ca03c0f",
      "metadata": {
        "id": "6b2742cf-ad18-4c23-8181-5d868ca03c0f",
        "colab": {
          "base_uri": "https://localhost:8080/",
          "height": 718
        },
        "outputId": "352d156f-134f-41f5-ad51-15d206a5c468"
      },
      "outputs": [
        {
          "output_type": "display_data",
          "data": {
            "text/plain": [
              "<Figure size 800x800 with 1 Axes>"
            ],
            "image/png": "[encoded data removed]"
          },
          "metadata": {
            "image/png": {
              "width": 701,
              "height": 701
            }
          }
        }
      ],
      "source": [
        "fig, ax = plt.subplots(figsize=(8, 8))\n",
        "im = ax.imshow(att_matrix, cmap=\"Greens\", interpolation=\"nearest\")\n",
        "\n",
        "ax.set_xticks(np.arange(-0.5, plot_size, 1), minor=True)\n",
        "ax.set_yticks(np.arange(-0.5, plot_size, 1), minor=True)\n",
        "ax.grid(which=\"minor\", color=\"black\", linestyle=\"-\", linewidth=1)\n",
        "ax.set_xticks(np.arange(plot_size))\n",
        "ax.set_yticks(np.arange(plot_size))\n",
        "ax.set_xticklabels(prediction_output[:plot_size])\n",
        "ax.set_yticklabels(last_prompt[:plot_size])\n",
        "ax.xaxis.tick_top()\n",
        "\n",
        "plt.setp(\n",
        "    ax.get_xticklabels(),\n",
        "    rotation=90,\n",
        "    ha=\"left\",\n",
        "    va=\"center\",\n",
        "    rotation_mode=\"anchor\",\n",
        ")\n",
        "plt.show()"
      ]
    },
    {
      "cell_type": "code",
      "execution_count": null,
      "id": "af9fd8cb-2877-4ba2-b15a-b8b5a6122c0c",
      "metadata": {
        "id": "af9fd8cb-2877-4ba2-b15a-b8b5a6122c0c",
        "colab": {
          "base_uri": "https://localhost:8080/",
          "height": 36
        },
        "outputId": "4fc0f8de-8019-480d-e2ad-bd361a6dd875"
      },
      "outputs": [
        {
          "output_type": "execute_result",
          "data": {
            "text/plain": [
              "'/content/data.zip'"
            ],
            "application/vnd.google.colaboratory.intrinsic+json": {
              "type": "string"
            }
          },
          "metadata": {},
          "execution_count": 75
        }
      ],
      "source": [
        "from google.colab import files\n",
        "import shutil\n",
        "\n",
        "shutil.make_archive(\"/content/model\", 'zip', \"my_folder\")\n",
        "shutil.make_archive(\"/content/output\", 'zip', \"my_folder\")\n",
        "shutil.make_archive(\"/content/transformer_output\", 'zip', \"my_folder\")\n",
        "shutil.make_archive(\"/content/data\", 'zip', \"my_folder\")"
      ]
    },
    {
      "cell_type": "code",
      "source": [
        "from google.colab import drive\n",
        "drive.mount('/content/drive')"
      ],
      "metadata": {
        "colab": {
          "base_uri": "https://localhost:8080/"
        },
        "id": "q08mFeRbhqlX",
        "outputId": "dad9cb5c-3f7f-49e1-bbae-cdde30132c72"
      },
      "id": "q08mFeRbhqlX",
      "execution_count": null,
      "outputs": [
        {
          "output_type": "stream",
          "name": "stdout",
          "text": [
            "Mounted at /content/drive\n"
          ]
        }
      ]
    },
    {
      "cell_type": "code",
      "source": [
        "# Saving the model and its data on the Google drive\n",
        "\n",
        "!cp -r /content/data /content/drive/MyDrive/GenAI\n",
        "!cp -r /content/model /content/drive/MyDrive/GenAI\n",
        "!cp -r /content/output /content/drive/MyDrive/GenAI\n",
        "!cp -r /content/transformer_output /content/drive/MyDrive/GenAI"
      ],
      "metadata": {
        "id": "u7WAiO1viGfY"
      },
      "id": "u7WAiO1viGfY",
      "execution_count": null,
      "outputs": []
    }
  ],
  "metadata": {
    "kernelspec": {
      "display_name": "Python 3",
      "name": "python3"
    },
    "language_info": {
      "codemirror_mode": {
        "name": "ipython",
        "version": 3
      },
      "file_extension": ".py",
      "mimetype": "text/x-python",
      "name": "python",
      "nbconvert_exporter": "python",
      "pygments_lexer": "ipython3",
      "version": "3.8.10"
    },
    "vscode": {
      "interpreter": {
        "hash": "aee8b7b246df8f9039afb4144a1f6fd8d2ca17a180786b69acc140d282b71a49"
      }
    },
    "colab": {
      "provenance": [],
      "gpuType": "V28",
      "include_colab_link": true
    },
    "accelerator": "TPU"
  },
  "nbformat": 4,
  "nbformat_minor": 5
}