{
  "nbformat": 4,
  "nbformat_minor": 0,
  "metadata": {
    "colab": {
      "provenance": [],
      "authorship_tag": "ABX9TyNYmgM9HTaQkIlfCPW3llFW",
      "include_colab_link": true
    },
    "kernelspec": {
      "name": "python3",
      "display_name": "Python 3"
    },
    "language_info": {
      "name": "python"
    }
  },
  "cells": [
    {
      "cell_type": "markdown",
      "metadata": {
        "id": "view-in-github",
        "colab_type": "text"
      },
      "source": [
        "<a href=\"https://colab.research.google.com/github/bforoura/GenAI/blob/main/Module3/draw_cnn_encoder.ipynb\" target=\"_parent\"><img src=\"https://colab.research.google.com/assets/colab-badge.svg\" alt=\"Open In Colab\"/></a>"
      ]
    },
    {
      "cell_type": "code",
      "execution_count": null,
      "metadata": {
        "colab": {
          "base_uri": "https://localhost:8080/"
        },
        "id": "47mxZyw2F9Jx",
        "outputId": "161274ff-8f8e-429c-93d3-29c1962e027c"
      },
      "outputs": [
        {
          "output_type": "stream",
          "name": "stdout",
          "text": [
            "Requirement already satisfied: graphviz in /usr/local/lib/python3.10/dist-packages (0.20.3)\n",
            "Requirement already satisfied: pydot in /usr/local/lib/python3.10/dist-packages (1.4.2)\n",
            "Requirement already satisfied: pyparsing>=2.1.4 in /usr/local/lib/python3.10/dist-packages (from pydot) (3.1.2)\n"
          ]
        }
      ],
      "source": [
        "!pip install graphviz pydot"
      ]
    },
    {
      "cell_type": "code",
      "source": [
        "import pydot\n",
        "from graphviz import Digraph\n",
        "\n",
        "def draw_horizontal_cnn_diagram():\n",
        "    # Create a new directed graph with left-to-right layout\n",
        "    dot = Digraph(comment='The Encoder Architecture', format='png', graph_attr={'rankdir': 'LR'})\n",
        "\n",
        "    # Add nodes for each layer\n",
        "    dot.node('Input', 'InputLayer\\n(32x32x1)', shape='box')\n",
        "    dot.node('Conv1', 'Conv2D\\n(3x3, 32 filters)\\n(16x16x32)', shape='box')\n",
        "    dot.node('Conv2', 'Conv2D\\n(3x3, 64 filters)\\n(8x8x64)', shape='box')\n",
        "    dot.node('Conv3', 'Conv2D\\n(3x3, 128 filters)\\n(4x4x128)', shape='box')\n",
        "    dot.node('Flatten', 'Flatten\\n(2048)', shape='box')\n",
        "    dot.node('Dense', 'Dense\\n(2 units)\\n(2)', shape='box')\n",
        "\n",
        "    # Add edges to show the flow of data\n",
        "    dot.edge('Input', 'Conv1')\n",
        "    dot.edge('Conv1', 'Conv2')\n",
        "    dot.edge('Conv2', 'Conv3')\n",
        "    dot.edge('Conv3', 'Flatten')\n",
        "    dot.edge('Flatten', 'Dense')\n",
        "\n",
        "    # Render the diagram to a file\n",
        "    dot.render('cnn_diagram_horizontal')\n",
        "\n",
        "    print(\"Horizontal diagram saved as cnn_diagram_horizontal.png\")\n",
        "\n",
        "# Draw the CNN diagram horizontally\n",
        "draw_horizontal_cnn_diagram()\n"
      ],
      "metadata": {
        "colab": {
          "base_uri": "https://localhost:8080/"
        },
        "id": "23VywKVRGr4F",
        "outputId": "fd50b3d3-f6f4-4b92-f295-613523ae6661"
      },
      "execution_count": null,
      "outputs": [
        {
          "output_type": "stream",
          "name": "stdout",
          "text": [
            "Horizontal diagram saved as cnn_diagram_horizontal.png\n"
          ]
        }
      ]
    }
  ]
}