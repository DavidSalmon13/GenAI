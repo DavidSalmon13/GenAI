{
  "cells": [
    {
      "cell_type": "markdown",
      "metadata": {
        "id": "view-in-github",
        "colab_type": "text"
      },
      "source": [
        "<a href=\"https://colab.research.google.com/github/bforoura/GenAI/blob/main/Module6/gpt.ipynb\" target=\"_parent\"><img src=\"https://colab.research.google.com/assets/colab-badge.svg\" alt=\"Open In Colab\"/></a>"
      ]
    },
    {
      "cell_type": "markdown",
      "id": "b076bd1a-b236-4fbc-953d-8295b25122ae",
      "metadata": {
        "id": "b076bd1a-b236-4fbc-953d-8295b25122ae"
      },
      "source": [
        "# 🚀 GPT"
      ]
    },
    {
      "cell_type": "markdown",
      "id": "4dca6836-0007-43f3-af65-d12ae1922c02",
      "metadata": {
        "tags": [],
        "id": "4dca6836-0007-43f3-af65-d12ae1922c02"
      },
      "source": [
        "In this notebook, we'll walk through the steps required to train your own GPT model on the wine review dataset"
      ]
    },
    {
      "cell_type": "markdown",
      "id": "3e6cb7c7-d3d5-4b12-b357-1f6118edffe0",
      "metadata": {
        "id": "3e6cb7c7-d3d5-4b12-b357-1f6118edffe0"
      },
      "source": [
        "The code is adapted from the excellent [GPT tutorial](https://keras.io/examples/generative/text_generation_with_miniature_gpt/) created by Apoorv Nandan available on the Keras website."
      ]
    },
    {
      "cell_type": "code",
      "execution_count": 1,
      "id": "73350761-bef2-4e96-b3ac-a158eabd2b65",
      "metadata": {
        "tags": [],
        "id": "73350761-bef2-4e96-b3ac-a158eabd2b65"
      },
      "outputs": [],
      "source": [
        "import numpy as np\n",
        "import json\n",
        "import re\n",
        "import string\n",
        "from IPython.display import display, HTML\n",
        "\n",
        "import tensorflow as tf\n",
        "from tensorflow.keras import layers, models, losses, callbacks"
      ]
    },
    {
      "cell_type": "markdown",
      "id": "339e6268-ebd7-4feb-86db-1fe7abccdbe5",
      "metadata": {
        "id": "339e6268-ebd7-4feb-86db-1fe7abccdbe5"
      },
      "source": [
        "## 0. Parameters <a name=\"parameters\"></a>"
      ]
    },
    {
      "cell_type": "code",
      "execution_count": 2,
      "id": "2d8352af-343e-4c2e-8c91-95f8bac1c8a1",
      "metadata": {
        "id": "2d8352af-343e-4c2e-8c91-95f8bac1c8a1"
      },
      "outputs": [],
      "source": [
        "VOCAB_SIZE = 10000\n",
        "MAX_LEN = 80\n",
        "EMBEDDING_DIM = 256\n",
        "KEY_DIM = 256\n",
        "N_HEADS = 2\n",
        "FEED_FORWARD_DIM = 256\n",
        "VALIDATION_SPLIT = 0.2\n",
        "SEED = 42\n",
        "LOAD_MODEL = False\n",
        "BATCH_SIZE = 32\n",
        "EPOCHS = 5"
      ]
    },
    {
      "cell_type": "markdown",
      "id": "b7716fac-0010-49b0-b98e-53be2259edde",
      "metadata": {
        "id": "b7716fac-0010-49b0-b98e-53be2259edde"
      },
      "source": [
        "## 1. Load the data <a name=\"load\"></a>"
      ]
    },
    {
      "cell_type": "code",
      "execution_count": 3,
      "id": "93cf6b0f-9667-4146-8911-763a8a2925d3",
      "metadata": {
        "tags": [],
        "id": "93cf6b0f-9667-4146-8911-763a8a2925d3"
      },
      "outputs": [],
      "source": [
        "# Load the full dataset\n",
        "with open(\"/content/winemag-data-130k-v2.json\") as json_data:\n",
        "    wine_data = json.load(json_data)"
      ]
    },
    {
      "cell_type": "code",
      "execution_count": 4,
      "id": "2db5c0fc-0d5f-42ab-ade1-57e594c416ec",
      "metadata": {
        "tags": [],
        "colab": {
          "base_uri": "https://localhost:8080/"
        },
        "id": "2db5c0fc-0d5f-42ab-ade1-57e594c416ec",
        "outputId": "3854576d-95c9-4c6f-a23a-ed67cf94f6bc"
      },
      "outputs": [
        {
          "output_type": "execute_result",
          "data": {
            "text/plain": [
              "{'points': '87',\n",
              " 'title': 'Kirkland Signature 2011 Mountain Cuvée Cabernet Sauvignon (Napa Valley)',\n",
              " 'description': 'Soft, supple plum envelopes an oaky structure in this Cabernet, supported by 15% Merlot. Coffee and chocolate complete the picture, finishing strong at the end, resulting in a value-priced wine of attractive flavor and immediate accessibility.',\n",
              " 'taster_name': 'Virginie Boone',\n",
              " 'taster_twitter_handle': '@vboone',\n",
              " 'price': 19,\n",
              " 'designation': 'Mountain Cuvée',\n",
              " 'variety': 'Cabernet Sauvignon',\n",
              " 'region_1': 'Napa Valley',\n",
              " 'region_2': 'Napa',\n",
              " 'province': 'California',\n",
              " 'country': 'US',\n",
              " 'winery': 'Kirkland Signature'}"
            ]
          },
          "metadata": {},
          "execution_count": 4
        }
      ],
      "source": [
        "wine_data[10]"
      ]
    },
    {
      "cell_type": "code",
      "execution_count": 5,
      "id": "23a74eca-f1b7-4a46-9a1f-b5806a4ed361",
      "metadata": {
        "tags": [],
        "id": "23a74eca-f1b7-4a46-9a1f-b5806a4ed361"
      },
      "outputs": [],
      "source": [
        "# Filter the dataset\n",
        "filtered_data = [\n",
        "    \"wine review : \"\n",
        "    + x[\"country\"]\n",
        "    + \" : \"\n",
        "    + x[\"province\"]\n",
        "    + \" : \"\n",
        "    + x[\"variety\"]\n",
        "    + \" : \"\n",
        "    + x[\"description\"]\n",
        "    for x in wine_data\n",
        "    if x[\"country\"] is not None\n",
        "    and x[\"province\"] is not None\n",
        "    and x[\"variety\"] is not None\n",
        "    and x[\"description\"] is not None\n",
        "]"
      ]
    },
    {
      "cell_type": "code",
      "execution_count": 6,
      "id": "389c20de-0422-4c48-a7b4-6ee12a7bf0e2",
      "metadata": {
        "tags": [],
        "colab": {
          "base_uri": "https://localhost:8080/"
        },
        "id": "389c20de-0422-4c48-a7b4-6ee12a7bf0e2",
        "outputId": "1a0c1b09-786b-494a-9130-ce367221dd91"
      },
      "outputs": [
        {
          "output_type": "stream",
          "name": "stdout",
          "text": [
            "129907 recipes loaded\n"
          ]
        }
      ],
      "source": [
        "# Count the recipes\n",
        "n_wines = len(filtered_data)\n",
        "print(f\"{n_wines} recipes loaded\")"
      ]
    },
    {
      "cell_type": "code",
      "execution_count": 7,
      "id": "1b2e3cf7-e416-460e-874a-0dd9637bca36",
      "metadata": {
        "colab": {
          "base_uri": "https://localhost:8080/"
        },
        "id": "1b2e3cf7-e416-460e-874a-0dd9637bca36",
        "outputId": "4be4cb5d-fa06-4467-e379-8958f54b50e4"
      },
      "outputs": [
        {
          "output_type": "stream",
          "name": "stdout",
          "text": [
            "wine review : US : California : Pinot Noir : Oak and earth intermingle around robust aromas of wet forest floor in this vineyard-designated Pinot that hails from a high-elevation site. Small in production, it offers intense, full-bodied raspberry and blackberry steeped in smoky spice and smooth texture.\n"
          ]
        }
      ],
      "source": [
        "example = filtered_data[25]\n",
        "print(example)"
      ]
    },
    {
      "cell_type": "markdown",
      "id": "3f871aaf-d873-41c7-8946-e4eef7ac17c1",
      "metadata": {
        "id": "3f871aaf-d873-41c7-8946-e4eef7ac17c1"
      },
      "source": [
        "## 2. Tokenize the data <a name=\"tokenize\"></a>"
      ]
    },
    {
      "cell_type": "code",
      "execution_count": 8,
      "id": "5b2064fb-5dcc-4657-b470-0928d10e2ddc",
      "metadata": {
        "tags": [],
        "id": "5b2064fb-5dcc-4657-b470-0928d10e2ddc"
      },
      "outputs": [],
      "source": [
        "# Pad the punctuation, to treat them as separate 'words'\n",
        "def pad_punctuation(s):\n",
        "    s = re.sub(f\"([{string.punctuation}, '\\n'])\", r\" \\1 \", s)\n",
        "    s = re.sub(\" +\", \" \", s)\n",
        "    return s\n",
        "\n",
        "\n",
        "text_data = [pad_punctuation(x) for x in filtered_data]"
      ]
    },
    {
      "cell_type": "code",
      "execution_count": 9,
      "id": "b87d7c65-9a46-492a-a5c0-a043b0d252f3",
      "metadata": {
        "colab": {
          "base_uri": "https://localhost:8080/",
          "height": 70
        },
        "id": "b87d7c65-9a46-492a-a5c0-a043b0d252f3",
        "outputId": "df670ef5-c806-4286-e71e-9fd8aa5d8964"
      },
      "outputs": [
        {
          "output_type": "execute_result",
          "data": {
            "text/plain": [
              "'wine review : US : California : Pinot Noir : Oak and earth intermingle around robust aromas of wet forest floor in this vineyard - designated Pinot that hails from a high - elevation site . Small in production , it offers intense , full - bodied raspberry and blackberry steeped in smoky spice and smooth texture . '"
            ],
            "application/vnd.google.colaboratory.intrinsic+json": {
              "type": "string"
            }
          },
          "metadata": {},
          "execution_count": 9
        }
      ],
      "source": [
        "# Display an example of a recipe\n",
        "example_data = text_data[25]\n",
        "example_data"
      ]
    },
    {
      "cell_type": "code",
      "execution_count": 10,
      "id": "9834f916-b21a-4104-acc9-f28d3bd7a8c1",
      "metadata": {
        "tags": [],
        "id": "9834f916-b21a-4104-acc9-f28d3bd7a8c1"
      },
      "outputs": [],
      "source": [
        "# Convert to a Tensorflow Dataset\n",
        "text_ds = (\n",
        "    tf.data.Dataset.from_tensor_slices(text_data)\n",
        "    .batch(BATCH_SIZE)\n",
        "    .shuffle(1000)\n",
        ")"
      ]
    },
    {
      "cell_type": "code",
      "execution_count": 11,
      "id": "884c0bcb-0807-45a1-8f7e-a32f2c6fa4de",
      "metadata": {
        "id": "884c0bcb-0807-45a1-8f7e-a32f2c6fa4de"
      },
      "outputs": [],
      "source": [
        "# Create a vectorisation layer\n",
        "vectorize_layer = layers.TextVectorization(\n",
        "    standardize=\"lower\",\n",
        "    max_tokens=VOCAB_SIZE,\n",
        "    output_mode=\"int\",\n",
        "    output_sequence_length=MAX_LEN + 1,\n",
        ")"
      ]
    },
    {
      "cell_type": "code",
      "execution_count": 12,
      "id": "4d6dd34a-d905-497b-926a-405380ebcf98",
      "metadata": {
        "id": "4d6dd34a-d905-497b-926a-405380ebcf98"
      },
      "outputs": [],
      "source": [
        "# Adapt the layer to the training set\n",
        "vectorize_layer.adapt(text_ds)\n",
        "vocab = vectorize_layer.get_vocabulary()"
      ]
    },
    {
      "cell_type": "code",
      "execution_count": 13,
      "id": "f6c1c7ce-3cf0-40d4-a3dc-ab7090f69f2f",
      "metadata": {
        "colab": {
          "base_uri": "https://localhost:8080/"
        },
        "id": "f6c1c7ce-3cf0-40d4-a3dc-ab7090f69f2f",
        "outputId": "b10bf79d-c0fc-4104-f9ef-c8c88101763c"
      },
      "outputs": [
        {
          "output_type": "stream",
          "name": "stdout",
          "text": [
            "0: \n",
            "1: [UNK]\n",
            "2: :\n",
            "3: ,\n",
            "4: .\n",
            "5: and\n",
            "6: the\n",
            "7: wine\n",
            "8: a\n",
            "9: of\n"
          ]
        }
      ],
      "source": [
        "# Display some token:word mappings\n",
        "for i, word in enumerate(vocab[:10]):\n",
        "    print(f\"{i}: {word}\")"
      ]
    },
    {
      "cell_type": "code",
      "execution_count": 14,
      "id": "1cc30186-7ec6-4eb6-b29a-65df6714d321",
      "metadata": {
        "colab": {
          "base_uri": "https://localhost:8080/"
        },
        "id": "1cc30186-7ec6-4eb6-b29a-65df6714d321",
        "outputId": "ced9e836-febf-42f2-b3cd-bee9c58fcd18"
      },
      "outputs": [
        {
          "output_type": "stream",
          "name": "stdout",
          "text": [
            "[   7   10    2   20    2   29    2   43   62    2   55    5  243 4145\n",
            "  453  634   26    9  497  499  667   17   12  142   14 2214   43   25\n",
            " 2484   32    8  223   14 2213  948    4  594   17  987    3   15   75\n",
            "  237    3   64   14   82   97    5   74 2633   17  198   49    5  125\n",
            "   77    4    0    0    0    0    0    0    0    0    0    0    0    0\n",
            "    0    0    0    0    0    0    0    0    0    0    0]\n"
          ]
        }
      ],
      "source": [
        "# Display the same example converted to ints\n",
        "example_tokenised = vectorize_layer(example_data)\n",
        "print(example_tokenised.numpy())"
      ]
    },
    {
      "cell_type": "markdown",
      "id": "8c195efb-84c6-4be0-a989-a7542188ad35",
      "metadata": {
        "id": "8c195efb-84c6-4be0-a989-a7542188ad35"
      },
      "source": [
        "## 3. Create the Training Set <a name=\"create\"></a>"
      ]
    },
    {
      "cell_type": "code",
      "execution_count": 15,
      "id": "740294a1-1a6b-4c89-92f2-036d7d1b788b",
      "metadata": {
        "id": "740294a1-1a6b-4c89-92f2-036d7d1b788b"
      },
      "outputs": [],
      "source": [
        "# Create the training set of recipes and the same text shifted by one word\n",
        "def prepare_inputs(text):\n",
        "    text = tf.expand_dims(text, -1)\n",
        "    tokenized_sentences = vectorize_layer(text)\n",
        "    x = tokenized_sentences[:, :-1]\n",
        "    y = tokenized_sentences[:, 1:]\n",
        "    return x, y\n",
        "\n",
        "\n",
        "train_ds = text_ds.map(prepare_inputs)"
      ]
    },
    {
      "cell_type": "code",
      "execution_count": 16,
      "id": "cad80ffb-4298-4249-86b4-9918d62534c5",
      "metadata": {
        "id": "cad80ffb-4298-4249-86b4-9918d62534c5"
      },
      "outputs": [],
      "source": [
        "example_input_output = train_ds.take(1).get_single_element()"
      ]
    },
    {
      "cell_type": "code",
      "execution_count": 17,
      "id": "67ff7263-f62d-44c1-997b-1aa99a393521",
      "metadata": {
        "colab": {
          "base_uri": "https://localhost:8080/"
        },
        "id": "67ff7263-f62d-44c1-997b-1aa99a393521",
        "outputId": "e46755e1-9626-45b4-c4e4-cdb4acfb29e5"
      },
      "outputs": [
        {
          "output_type": "execute_result",
          "data": {
            "text/plain": [
              "<tf.Tensor: shape=(80,), dtype=int64, numpy=\n",
              "array([   7,   10,    2,  397,    2, 1559,    2,  119,    2,  182,    9,\n",
              "        217,    5,  151, 1440,   23,    6,   60,  601,    8,    7, 2835,\n",
              "        750, 1334,   88,    8,    1, 4499,    3,    5,  161, 1052,    8,\n",
              "       1343,  853,   32,    6,   28,    3,  185,   83, 1343, 2439,    4,\n",
              "         15,   18,   21, 1022,    5,  403,   11,  617,   81,  538,  649,\n",
              "         72,    3,   11,    8, 1734,  219,   19,    6,  396,   31,    4,\n",
              "         35,   66,    4,    0,    0,    0,    0,    0,    0,    0,    0,\n",
              "          0,    0,    0])>"
            ]
          },
          "metadata": {},
          "execution_count": 17
        }
      ],
      "source": [
        "# Example Input\n",
        "example_input_output[0][0]"
      ]
    },
    {
      "cell_type": "code",
      "execution_count": 18,
      "id": "ef2e2cad-414c-4e6d-a2ac-6b9598f9dd01",
      "metadata": {
        "colab": {
          "base_uri": "https://localhost:8080/"
        },
        "id": "ef2e2cad-414c-4e6d-a2ac-6b9598f9dd01",
        "outputId": "a9b84512-02f9-40e7-9a2a-73c0bb65b63b"
      },
      "outputs": [
        {
          "output_type": "execute_result",
          "data": {
            "text/plain": [
              "<tf.Tensor: shape=(80,), dtype=int64, numpy=\n",
              "array([  10,    2,  397,    2, 1559,    2,  119,    2,  182,    9,  217,\n",
              "          5,  151, 1440,   23,    6,   60,  601,    8,    7, 2835,  750,\n",
              "       1334,   88,    8,    1, 4499,    3,    5,  161, 1052,    8, 1343,\n",
              "        853,   32,    6,   28,    3,  185,   83, 1343, 2439,    4,   15,\n",
              "         18,   21, 1022,    5,  403,   11,  617,   81,  538,  649,   72,\n",
              "          3,   11,    8, 1734,  219,   19,    6,  396,   31,    4,   35,\n",
              "         66,    4,    0,    0,    0,    0,    0,    0,    0,    0,    0,\n",
              "          0,    0,    0])>"
            ]
          },
          "metadata": {},
          "execution_count": 18
        }
      ],
      "source": [
        "# Example Output (shifted by one token)\n",
        "example_input_output[1][0]"
      ]
    },
    {
      "cell_type": "markdown",
      "id": "aff50401-3abe-4c10-bba8-b35bc13ad7d5",
      "metadata": {
        "tags": [],
        "id": "aff50401-3abe-4c10-bba8-b35bc13ad7d5"
      },
      "source": [
        "## 5. Create the causal attention mask function <a name=\"causal\"></a>"
      ]
    },
    {
      "cell_type": "code",
      "execution_count": 19,
      "id": "554a4184-61c2-4eb7-a063-d965586a8188",
      "metadata": {
        "colab": {
          "base_uri": "https://localhost:8080/"
        },
        "id": "554a4184-61c2-4eb7-a063-d965586a8188",
        "outputId": "dd6d4522-c09d-465a-9a15-24ba100c2d32"
      },
      "outputs": [
        {
          "output_type": "execute_result",
          "data": {
            "text/plain": [
              "array([[1, 1, 1, 1, 1, 1, 1, 1, 1, 1],\n",
              "       [0, 1, 1, 1, 1, 1, 1, 1, 1, 1],\n",
              "       [0, 0, 1, 1, 1, 1, 1, 1, 1, 1],\n",
              "       [0, 0, 0, 1, 1, 1, 1, 1, 1, 1],\n",
              "       [0, 0, 0, 0, 1, 1, 1, 1, 1, 1],\n",
              "       [0, 0, 0, 0, 0, 1, 1, 1, 1, 1],\n",
              "       [0, 0, 0, 0, 0, 0, 1, 1, 1, 1],\n",
              "       [0, 0, 0, 0, 0, 0, 0, 1, 1, 1],\n",
              "       [0, 0, 0, 0, 0, 0, 0, 0, 1, 1],\n",
              "       [0, 0, 0, 0, 0, 0, 0, 0, 0, 1]], dtype=int32)"
            ]
          },
          "metadata": {},
          "execution_count": 19
        }
      ],
      "source": [
        "def causal_attention_mask(batch_size, n_dest, n_src, dtype):\n",
        "    i = tf.range(n_dest)[:, None]\n",
        "    j = tf.range(n_src)\n",
        "    m = i >= j - n_src + n_dest\n",
        "    mask = tf.cast(m, dtype)\n",
        "    mask = tf.reshape(mask, [1, n_dest, n_src])\n",
        "    mult = tf.concat(\n",
        "        [tf.expand_dims(batch_size, -1), tf.constant([1, 1], dtype=tf.int32)], 0\n",
        "    )\n",
        "    return tf.tile(mask, mult)\n",
        "\n",
        "\n",
        "np.transpose(causal_attention_mask(1, 10, 10, dtype=tf.int32)[0])"
      ]
    },
    {
      "cell_type": "markdown",
      "id": "3501dbad-0860-40ad-b7d6-47950e37858f",
      "metadata": {
        "id": "3501dbad-0860-40ad-b7d6-47950e37858f"
      },
      "source": [
        "## 6. Create a Transformer Block layer <a name=\"transformer\"></a>"
      ]
    },
    {
      "cell_type": "code",
      "execution_count": 20,
      "id": "5285a1cb-fce1-46b1-b088-b596002fa9ae",
      "metadata": {
        "id": "5285a1cb-fce1-46b1-b088-b596002fa9ae"
      },
      "outputs": [],
      "source": [
        "class TransformerBlock(layers.Layer):\n",
        "    def __init__(self, num_heads, key_dim, embed_dim, ff_dim, dropout_rate=0.1):\n",
        "        super(TransformerBlock, self).__init__()\n",
        "        self.num_heads = num_heads\n",
        "        self.key_dim = key_dim\n",
        "        self.embed_dim = embed_dim\n",
        "        self.ff_dim = ff_dim\n",
        "        self.dropout_rate = dropout_rate\n",
        "        self.attn = layers.MultiHeadAttention(\n",
        "            num_heads, key_dim, output_shape=embed_dim\n",
        "        )\n",
        "        self.dropout_1 = layers.Dropout(self.dropout_rate)\n",
        "        self.ln_1 = layers.LayerNormalization(epsilon=1e-6)\n",
        "        self.ffn_1 = layers.Dense(self.ff_dim, activation=\"relu\")\n",
        "        self.ffn_2 = layers.Dense(self.embed_dim)\n",
        "        self.dropout_2 = layers.Dropout(self.dropout_rate)\n",
        "        self.ln_2 = layers.LayerNormalization(epsilon=1e-6)\n",
        "\n",
        "    def call(self, inputs):\n",
        "        input_shape = tf.shape(inputs)\n",
        "        batch_size = input_shape[0]\n",
        "        seq_len = input_shape[1]\n",
        "        causal_mask = causal_attention_mask(\n",
        "            batch_size, seq_len, seq_len, tf.bool\n",
        "        )\n",
        "        attention_output, attention_scores = self.attn(\n",
        "            inputs,\n",
        "            inputs,\n",
        "            attention_mask=causal_mask,\n",
        "            return_attention_scores=True,\n",
        "        )\n",
        "        attention_output = self.dropout_1(attention_output)\n",
        "        out1 = self.ln_1(inputs + attention_output)\n",
        "        ffn_1 = self.ffn_1(out1)\n",
        "        ffn_2 = self.ffn_2(ffn_1)\n",
        "        ffn_output = self.dropout_2(ffn_2)\n",
        "        return (self.ln_2(out1 + ffn_output), attention_scores)\n",
        "\n",
        "    def get_config(self):\n",
        "        config = super().get_config()\n",
        "        config.update(\n",
        "            {\n",
        "                \"key_dim\": self.key_dim,\n",
        "                \"embed_dim\": self.embed_dim,\n",
        "                \"num_heads\": self.num_heads,\n",
        "                \"ff_dim\": self.ff_dim,\n",
        "                \"dropout_rate\": self.dropout_rate,\n",
        "            }\n",
        "        )\n",
        "        return config"
      ]
    },
    {
      "cell_type": "markdown",
      "id": "076a6be0-9796-4974-9bcd-6ebbcfe7514e",
      "metadata": {
        "tags": [],
        "id": "076a6be0-9796-4974-9bcd-6ebbcfe7514e"
      },
      "source": [
        "## 7. Create the Token and Position Embedding <a name=\"embedder\"></a>"
      ]
    },
    {
      "cell_type": "code",
      "execution_count": 21,
      "id": "fdf5cb25-88ae-4026-9e21-c1e6b5094a2c",
      "metadata": {
        "id": "fdf5cb25-88ae-4026-9e21-c1e6b5094a2c"
      },
      "outputs": [],
      "source": [
        "class TokenAndPositionEmbedding(layers.Layer):\n",
        "    def __init__(self, max_len, vocab_size, embed_dim):\n",
        "        super(TokenAndPositionEmbedding, self).__init__()\n",
        "        self.max_len = max_len\n",
        "        self.vocab_size = vocab_size\n",
        "        self.embed_dim = embed_dim\n",
        "        self.token_emb = layers.Embedding(\n",
        "            input_dim=vocab_size, output_dim=embed_dim\n",
        "        )\n",
        "        self.pos_emb = layers.Embedding(input_dim=max_len, output_dim=embed_dim)\n",
        "\n",
        "    def call(self, x):\n",
        "        maxlen = tf.shape(x)[-1]\n",
        "        positions = tf.range(start=0, limit=maxlen, delta=1)\n",
        "        positions = self.pos_emb(positions)\n",
        "        x = self.token_emb(x)\n",
        "        return x + positions\n",
        "\n",
        "    def get_config(self):\n",
        "        config = super().get_config()\n",
        "        config.update(\n",
        "            {\n",
        "                \"max_len\": self.max_len,\n",
        "                \"vocab_size\": self.vocab_size,\n",
        "                \"embed_dim\": self.embed_dim,\n",
        "            }\n",
        "        )\n",
        "        return config"
      ]
    },
    {
      "cell_type": "markdown",
      "id": "aac2e2d4-5980-47e3-b5b0-6c41c0c2d152",
      "metadata": {
        "id": "aac2e2d4-5980-47e3-b5b0-6c41c0c2d152"
      },
      "source": [
        "## 8. Build the Transformer model <a name=\"transformer_decoder\"></a>"
      ]
    },
    {
      "cell_type": "code",
      "execution_count": 22,
      "id": "8c57596e-e17d-4959-b6e8-7581b0bace3a",
      "metadata": {
        "id": "8c57596e-e17d-4959-b6e8-7581b0bace3a"
      },
      "outputs": [],
      "source": [
        "inputs = layers.Input(shape=(None,), dtype=tf.int32)\n",
        "x = TokenAndPositionEmbedding(MAX_LEN, VOCAB_SIZE, EMBEDDING_DIM)(inputs)\n",
        "x, attention_scores = TransformerBlock(\n",
        "    N_HEADS, KEY_DIM, EMBEDDING_DIM, FEED_FORWARD_DIM\n",
        ")(x)\n",
        "outputs = layers.Dense(VOCAB_SIZE, activation=\"softmax\")(x)\n",
        "gpt = models.Model(inputs=inputs, outputs=[outputs, attention_scores])\n",
        "gpt.compile(\"adam\", loss=[losses.SparseCategoricalCrossentropy(), None])"
      ]
    },
    {
      "cell_type": "code",
      "execution_count": 23,
      "id": "1a1c3b0f-3382-444d-bb04-bae143ae5d61",
      "metadata": {
        "colab": {
          "base_uri": "https://localhost:8080/",
          "height": 289
        },
        "id": "1a1c3b0f-3382-444d-bb04-bae143ae5d61",
        "outputId": "f04859aa-8319-48b9-d0de-628984383c22"
      },
      "outputs": [
        {
          "output_type": "display_data",
          "data": {
            "text/plain": [
              "\u001b[1mModel: \"functional\"\u001b[0m\n"
            ],
            "text/html": [
              "<pre style=\"white-space:pre;overflow-x:auto;line-height:normal;font-family:Menlo,'DejaVu Sans Mono',consolas,'Courier New',monospace\"><span style=\"font-weight: bold\">Model: \"functional\"</span>\n",
              "</pre>\n"
            ]
          },
          "metadata": {}
        },
        {
          "output_type": "display_data",
          "data": {
            "text/plain": [
              "┏━━━━━━━━━━━━━━━━━━━━━━━━━━━━━━━━━━━━━━┳━━━━━━━━━━━━━━━━━━━━━━━━━━━━━┳━━━━━━━━━━━━━━━━━┓\n",
              "┃\u001b[1m \u001b[0m\u001b[1mLayer (type)                        \u001b[0m\u001b[1m \u001b[0m┃\u001b[1m \u001b[0m\u001b[1mOutput Shape               \u001b[0m\u001b[1m \u001b[0m┃\u001b[1m \u001b[0m\u001b[1m        Param #\u001b[0m\u001b[1m \u001b[0m┃\n",
              "┡━━━━━━━━━━━━━━━━━━━━━━━━━━━━━━━━━━━━━━╇━━━━━━━━━━━━━━━━━━━━━━━━━━━━━╇━━━━━━━━━━━━━━━━━┩\n",
              "│ input_layer (\u001b[38;5;33mInputLayer\u001b[0m)             │ (\u001b[38;5;45mNone\u001b[0m, \u001b[38;5;45mNone\u001b[0m)                │               \u001b[38;5;34m0\u001b[0m │\n",
              "├──────────────────────────────────────┼─────────────────────────────┼─────────────────┤\n",
              "│ token_and_position_embedding         │ (\u001b[38;5;45mNone\u001b[0m, \u001b[38;5;45mNone\u001b[0m, \u001b[38;5;34m256\u001b[0m)           │       \u001b[38;5;34m2,580,480\u001b[0m │\n",
              "│ (\u001b[38;5;33mTokenAndPositionEmbedding\u001b[0m)          │                             │                 │\n",
              "├──────────────────────────────────────┼─────────────────────────────┼─────────────────┤\n",
              "│ transformer_block (\u001b[38;5;33mTransformerBlock\u001b[0m) │ [(\u001b[38;5;45mNone\u001b[0m, \u001b[38;5;45mNone\u001b[0m, \u001b[38;5;34m256\u001b[0m), (\u001b[38;5;45mNone\u001b[0m,  │         \u001b[38;5;34m658,688\u001b[0m │\n",
              "│                                      │ \u001b[38;5;34m2\u001b[0m, \u001b[38;5;45mNone\u001b[0m, \u001b[38;5;45mNone\u001b[0m)]             │                 │\n",
              "├──────────────────────────────────────┼─────────────────────────────┼─────────────────┤\n",
              "│ dense_2 (\u001b[38;5;33mDense\u001b[0m)                      │ (\u001b[38;5;45mNone\u001b[0m, \u001b[38;5;45mNone\u001b[0m, \u001b[38;5;34m10000\u001b[0m)         │       \u001b[38;5;34m2,570,000\u001b[0m │\n",
              "└──────────────────────────────────────┴─────────────────────────────┴─────────────────┘\n"
            ],
            "text/html": [
              "<pre style=\"white-space:pre;overflow-x:auto;line-height:normal;font-family:Menlo,'DejaVu Sans Mono',consolas,'Courier New',monospace\">┏━━━━━━━━━━━━━━━━━━━━━━━━━━━━━━━━━━━━━━┳━━━━━━━━━━━━━━━━━━━━━━━━━━━━━┳━━━━━━━━━━━━━━━━━┓\n",
              "┃<span style=\"font-weight: bold\"> Layer (type)                         </span>┃<span style=\"font-weight: bold\"> Output Shape                </span>┃<span style=\"font-weight: bold\">         Param # </span>┃\n",
              "┡━━━━━━━━━━━━━━━━━━━━━━━━━━━━━━━━━━━━━━╇━━━━━━━━━━━━━━━━━━━━━━━━━━━━━╇━━━━━━━━━━━━━━━━━┩\n",
              "│ input_layer (<span style=\"color: #0087ff; text-decoration-color: #0087ff\">InputLayer</span>)             │ (<span style=\"color: #00d7ff; text-decoration-color: #00d7ff\">None</span>, <span style=\"color: #00d7ff; text-decoration-color: #00d7ff\">None</span>)                │               <span style=\"color: #00af00; text-decoration-color: #00af00\">0</span> │\n",
              "├──────────────────────────────────────┼─────────────────────────────┼─────────────────┤\n",
              "│ token_and_position_embedding         │ (<span style=\"color: #00d7ff; text-decoration-color: #00d7ff\">None</span>, <span style=\"color: #00d7ff; text-decoration-color: #00d7ff\">None</span>, <span style=\"color: #00af00; text-decoration-color: #00af00\">256</span>)           │       <span style=\"color: #00af00; text-decoration-color: #00af00\">2,580,480</span> │\n",
              "│ (<span style=\"color: #0087ff; text-decoration-color: #0087ff\">TokenAndPositionEmbedding</span>)          │                             │                 │\n",
              "├──────────────────────────────────────┼─────────────────────────────┼─────────────────┤\n",
              "│ transformer_block (<span style=\"color: #0087ff; text-decoration-color: #0087ff\">TransformerBlock</span>) │ [(<span style=\"color: #00d7ff; text-decoration-color: #00d7ff\">None</span>, <span style=\"color: #00d7ff; text-decoration-color: #00d7ff\">None</span>, <span style=\"color: #00af00; text-decoration-color: #00af00\">256</span>), (<span style=\"color: #00d7ff; text-decoration-color: #00d7ff\">None</span>,  │         <span style=\"color: #00af00; text-decoration-color: #00af00\">658,688</span> │\n",
              "│                                      │ <span style=\"color: #00af00; text-decoration-color: #00af00\">2</span>, <span style=\"color: #00d7ff; text-decoration-color: #00d7ff\">None</span>, <span style=\"color: #00d7ff; text-decoration-color: #00d7ff\">None</span>)]             │                 │\n",
              "├──────────────────────────────────────┼─────────────────────────────┼─────────────────┤\n",
              "│ dense_2 (<span style=\"color: #0087ff; text-decoration-color: #0087ff\">Dense</span>)                      │ (<span style=\"color: #00d7ff; text-decoration-color: #00d7ff\">None</span>, <span style=\"color: #00d7ff; text-decoration-color: #00d7ff\">None</span>, <span style=\"color: #00af00; text-decoration-color: #00af00\">10000</span>)         │       <span style=\"color: #00af00; text-decoration-color: #00af00\">2,570,000</span> │\n",
              "└──────────────────────────────────────┴─────────────────────────────┴─────────────────┘\n",
              "</pre>\n"
            ]
          },
          "metadata": {}
        },
        {
          "output_type": "display_data",
          "data": {
            "text/plain": [
              "\u001b[1m Total params: \u001b[0m\u001b[38;5;34m5,809,168\u001b[0m (22.16 MB)\n"
            ],
            "text/html": [
              "<pre style=\"white-space:pre;overflow-x:auto;line-height:normal;font-family:Menlo,'DejaVu Sans Mono',consolas,'Courier New',monospace\"><span style=\"font-weight: bold\"> Total params: </span><span style=\"color: #00af00; text-decoration-color: #00af00\">5,809,168</span> (22.16 MB)\n",
              "</pre>\n"
            ]
          },
          "metadata": {}
        },
        {
          "output_type": "display_data",
          "data": {
            "text/plain": [
              "\u001b[1m Trainable params: \u001b[0m\u001b[38;5;34m5,809,168\u001b[0m (22.16 MB)\n"
            ],
            "text/html": [
              "<pre style=\"white-space:pre;overflow-x:auto;line-height:normal;font-family:Menlo,'DejaVu Sans Mono',consolas,'Courier New',monospace\"><span style=\"font-weight: bold\"> Trainable params: </span><span style=\"color: #00af00; text-decoration-color: #00af00\">5,809,168</span> (22.16 MB)\n",
              "</pre>\n"
            ]
          },
          "metadata": {}
        },
        {
          "output_type": "display_data",
          "data": {
            "text/plain": [
              "\u001b[1m Non-trainable params: \u001b[0m\u001b[38;5;34m0\u001b[0m (0.00 B)\n"
            ],
            "text/html": [
              "<pre style=\"white-space:pre;overflow-x:auto;line-height:normal;font-family:Menlo,'DejaVu Sans Mono',consolas,'Courier New',monospace\"><span style=\"font-weight: bold\"> Non-trainable params: </span><span style=\"color: #00af00; text-decoration-color: #00af00\">0</span> (0.00 B)\n",
              "</pre>\n"
            ]
          },
          "metadata": {}
        }
      ],
      "source": [
        "gpt.summary()"
      ]
    },
    {
      "cell_type": "code",
      "execution_count": 24,
      "id": "800a3c6e-fb11-4792-b6bc-9a43a7c977ad",
      "metadata": {
        "tags": [],
        "id": "800a3c6e-fb11-4792-b6bc-9a43a7c977ad"
      },
      "outputs": [],
      "source": [
        "if LOAD_MODEL:\n",
        "    # model.load_weights('./models/model')\n",
        "    gpt = models.load_model(\"./models/gpt\", compile=True)"
      ]
    },
    {
      "cell_type": "markdown",
      "id": "35b14665-4359-447b-be58-3fd58ba69084",
      "metadata": {
        "id": "35b14665-4359-447b-be58-3fd58ba69084"
      },
      "source": [
        "## 9. Train the Transformer <a name=\"train\"></a>"
      ]
    },
    {
      "cell_type": "code",
      "execution_count": 25,
      "id": "3ddcff5f-829d-4449-99d2-9a3cb68f7d72",
      "metadata": {
        "id": "3ddcff5f-829d-4449-99d2-9a3cb68f7d72"
      },
      "outputs": [],
      "source": [
        "# Create a TextGenerator checkpoint\n",
        "class TextGenerator(callbacks.Callback):\n",
        "    def __init__(self, index_to_word, top_k=10):\n",
        "        self.index_to_word = index_to_word\n",
        "        self.word_to_index = {\n",
        "            word: index for index, word in enumerate(index_to_word)\n",
        "        }\n",
        "\n",
        "    def sample_from(self, probs, temperature):\n",
        "        probs = probs ** (1 / temperature)\n",
        "        probs = probs / np.sum(probs)\n",
        "        return np.random.choice(len(probs), p=probs), probs\n",
        "\n",
        "    def generate(self, start_prompt, max_tokens, temperature):\n",
        "        start_tokens = [\n",
        "            self.word_to_index.get(x, 1) for x in start_prompt.split()\n",
        "        ]\n",
        "        sample_token = None\n",
        "        info = []\n",
        "        while len(start_tokens) < max_tokens and sample_token != 0:\n",
        "            x = np.array([start_tokens])\n",
        "            y, att = self.model.predict(x, verbose=0)\n",
        "            sample_token, probs = self.sample_from(y[0][-1], temperature)\n",
        "            info.append(\n",
        "                {\n",
        "                    \"prompt\": start_prompt,\n",
        "                    \"word_probs\": probs,\n",
        "                    \"atts\": att[0, :, -1, :],\n",
        "                }\n",
        "            )\n",
        "            start_tokens.append(sample_token)\n",
        "            start_prompt = start_prompt + \" \" + self.index_to_word[sample_token]\n",
        "        print(f\"\\ngenerated text:\\n{start_prompt}\\n\")\n",
        "        return info\n",
        "\n",
        "    def on_epoch_end(self, epoch, logs=None):\n",
        "        self.generate(\"wine review\", max_tokens=80, temperature=1.0)"
      ]
    },
    {
      "cell_type": "code",
      "execution_count": 27,
      "id": "349865fe-ffbe-450e-97be-043ae1740e78",
      "metadata": {
        "id": "349865fe-ffbe-450e-97be-043ae1740e78"
      },
      "outputs": [],
      "source": [
        "\n",
        "tensorboard_callback = callbacks.TensorBoard(log_dir=\"/content/logs\")\n",
        "\n",
        "# Tokenize starting prompt\n",
        "text_generator = TextGenerator(vocab)"
      ]
    },
    {
      "cell_type": "code",
      "execution_count": 28,
      "id": "461c2b3e-b5ae-4def-8bd9-e7bab8c63d8e",
      "metadata": {
        "tags": [],
        "colab": {
          "base_uri": "https://localhost:8080/"
        },
        "id": "461c2b3e-b5ae-4def-8bd9-e7bab8c63d8e",
        "outputId": "0f01623c-463d-468a-c9fd-623d6b397c96"
      },
      "outputs": [
        {
          "output_type": "stream",
          "name": "stdout",
          "text": [
            "Epoch 1/5\n",
            "\u001b[1m4059/4060\u001b[0m \u001b[32m━━━━━━━━━━━━━━━━━━━\u001b[0m\u001b[37m━\u001b[0m \u001b[1m0s\u001b[0m 22ms/step - loss: 2.5939\n",
            "generated text:\n",
            "wine review : us : california : cabernet franc : earthy aromas and charred beef meet stewed grapy aromas on the nose of this bottling . the palate has squeezed red currant , brandied plum , fennel bulb greet the palate , which is extremely showing more restraint . dried herb and tobacco , proving lighter bodied and bright and white pepper alongside black cherry winemaking . \n",
            "\n",
            "\u001b[1m4060/4060\u001b[0m \u001b[32m━━━━━━━━━━━━━━━━━━━━\u001b[0m\u001b[37m\u001b[0m \u001b[1m176s\u001b[0m 40ms/step - loss: 2.5938\n",
            "Epoch 2/5\n",
            "\u001b[1m4058/4060\u001b[0m \u001b[32m━━━━━━━━━━━━━━━━━━━\u001b[0m\u001b[37m━\u001b[0m \u001b[1m0s\u001b[0m 20ms/step - loss: 1.9803\n",
            "generated text:\n",
            "wine review : us : california : rosé : cohesive and delicious , this wine is 40 % grenache , 18 % syrah , 7 % syrah and 5 % mourvèdre . if it were sourced on the mountain side of the grape , which is delicious to make for a tempting choice from [UNK] to chicken , or pink . it has quietly might age amidst a backbone of watermelon and cherry cola , with a touch of white\n",
            "\n",
            "\u001b[1m4060/4060\u001b[0m \u001b[32m━━━━━━━━━━━━━━━━━━━━\u001b[0m\u001b[37m\u001b[0m \u001b[1m104s\u001b[0m 26ms/step - loss: 1.9803\n",
            "Epoch 3/5\n",
            "\u001b[1m4058/4060\u001b[0m \u001b[32m━━━━━━━━━━━━━━━━━━━\u001b[0m\u001b[37m━\u001b[0m \u001b[1m0s\u001b[0m 21ms/step - loss: 1.8977\n",
            "generated text:\n",
            "wine review : us : california : cabernet sauvignon : a single - vineyard wine from [UNK] has a great texture , with plenty of richness . [UNK] bite of smoke and coffee , the wine weight and save the vibrant red cherry and blueberry fruit from the second . moderate tannins and dryness , it should easily pair nicely straightforward at the end . \n",
            "\n",
            "\u001b[1m4060/4060\u001b[0m \u001b[32m━━━━━━━━━━━━━━━━━━━━\u001b[0m\u001b[37m\u001b[0m \u001b[1m125s\u001b[0m 21ms/step - loss: 1.8977\n",
            "Epoch 4/5\n",
            "\u001b[1m4060/4060\u001b[0m \u001b[32m━━━━━━━━━━━━━━━━━━━━\u001b[0m\u001b[37m\u001b[0m \u001b[1m0s\u001b[0m 20ms/step - loss: 1.8540\n",
            "generated text:\n",
            "wine review : us : california : pinot grigio : a pretty standard , light expression of crisp - bodied choice with a bite of lime . packaged with a mix of citrusy acidity , it ' s mouthwatering and crisp . \n",
            "\n",
            "\u001b[1m4060/4060\u001b[0m \u001b[32m━━━━━━━━━━━━━━━━━━━━\u001b[0m\u001b[37m\u001b[0m \u001b[1m86s\u001b[0m 21ms/step - loss: 1.8540\n",
            "Epoch 5/5\n",
            "\u001b[1m4059/4060\u001b[0m \u001b[32m━━━━━━━━━━━━━━━━━━━\u001b[0m\u001b[37m━\u001b[0m \u001b[1m0s\u001b[0m 20ms/step - loss: 1.8180\n",
            "generated text:\n",
            "wine review : france : burgundy : pinot noir : this wine is richly structured and packed with toasty , layered wood and smoky flavors . the fruit comes from vines and produces for a long - term future . the wine will develop into finer and premier cru sites in the côte de nuits . drink from 2017 due in andré de olives , , \n",
            "\n",
            "\u001b[1m4060/4060\u001b[0m \u001b[32m━━━━━━━━━━━━━━━━━━━━\u001b[0m\u001b[37m\u001b[0m \u001b[1m88s\u001b[0m 22ms/step - loss: 1.8180\n"
          ]
        },
        {
          "output_type": "execute_result",
          "data": {
            "text/plain": [
              "<keras.src.callbacks.history.History at 0x7a8d16dc46a0>"
            ]
          },
          "metadata": {},
          "execution_count": 28
        }
      ],
      "source": [
        "gpt.fit(\n",
        "    train_ds,\n",
        "    epochs=EPOCHS,\n",
        "    callbacks=[tensorboard_callback, text_generator],\n",
        ")"
      ]
    },
    {
      "cell_type": "markdown",
      "id": "d64e02d2-84dc-40c8-8446-40c09adf1e20",
      "metadata": {
        "id": "d64e02d2-84dc-40c8-8446-40c09adf1e20"
      },
      "source": [
        "# 3. Generate text using the Transformer"
      ]
    },
    {
      "cell_type": "code",
      "execution_count": 29,
      "id": "4ad23adb-3ec9-4e9a-9a59-b9f9bafca649",
      "metadata": {
        "id": "4ad23adb-3ec9-4e9a-9a59-b9f9bafca649"
      },
      "outputs": [],
      "source": [
        "def print_probs(info, vocab, top_k=5):\n",
        "    for i in info:\n",
        "        highlighted_text = []\n",
        "        for word, att_score in zip(\n",
        "            i[\"prompt\"].split(), np.mean(i[\"atts\"], axis=0)\n",
        "        ):\n",
        "            highlighted_text.append(\n",
        "                '<span style=\"background-color:rgba(135,206,250,'\n",
        "                + str(att_score / max(np.mean(i[\"atts\"], axis=0)))\n",
        "                + ');\">'\n",
        "                + word\n",
        "                + \"</span>\"\n",
        "            )\n",
        "        highlighted_text = \" \".join(highlighted_text)\n",
        "        display(HTML(highlighted_text))\n",
        "\n",
        "        word_probs = i[\"word_probs\"]\n",
        "        p_sorted = np.sort(word_probs)[::-1][:top_k]\n",
        "        i_sorted = np.argsort(word_probs)[::-1][:top_k]\n",
        "        for p, i in zip(p_sorted, i_sorted):\n",
        "            print(f\"{vocab[i]}:   \\t{np.round(100*p,2)}%\")\n",
        "        print(\"--------\\n\")"
      ]
    },
    {
      "cell_type": "code",
      "execution_count": 30,
      "id": "3cf25578-d47c-4b26-8252-fcdf2316a4ac",
      "metadata": {
        "colab": {
          "base_uri": "https://localhost:8080/"
        },
        "id": "3cf25578-d47c-4b26-8252-fcdf2316a4ac",
        "outputId": "77df2f3e-8fda-44ce-a668-a5fdb48c99e9"
      },
      "outputs": [
        {
          "output_type": "stream",
          "name": "stdout",
          "text": [
            "\n",
            "generated text:\n",
            "wine review : us : oregon : pinot noir : this forward wine ' s light - but tasty , with pretty scents of raspberries , sawdust , cinnamon , orange peel and seductive caramel . \n",
            "\n"
          ]
        }
      ],
      "source": [
        "info = text_generator.generate(\n",
        "    \"wine review : us\", max_tokens=80, temperature=1.0\n",
        ")"
      ]
    },
    {
      "cell_type": "code",
      "execution_count": 31,
      "id": "4ae2da8e-9b7c-4b71-b37b-021115b3d7ea",
      "metadata": {
        "colab": {
          "base_uri": "https://localhost:8080/"
        },
        "id": "4ae2da8e-9b7c-4b71-b37b-021115b3d7ea",
        "outputId": "b63d5f5b-646b-4fb1-9614-66dee82b5689"
      },
      "outputs": [
        {
          "output_type": "stream",
          "name": "stdout",
          "text": [
            "\n",
            "generated text:\n",
            "wine review : italy : piedmont : nebbiolo : aromas of underbrush , pressed rose and a whiff of pressed violet lead the nose . the firm palate offers black cherry , star anise , crushed herb and a hint of anise alongside bracing tannins . \n",
            "\n"
          ]
        }
      ],
      "source": [
        "info = text_generator.generate(\n",
        "    \"wine review : italy\", max_tokens=80, temperature=0.5\n",
        ")"
      ]
    },
    {
      "cell_type": "code",
      "execution_count": 32,
      "id": "5cae6d5d-263d-4455-b96c-f315cbe284ee",
      "metadata": {
        "colab": {
          "base_uri": "https://localhost:8080/",
          "height": 1000
        },
        "id": "5cae6d5d-263d-4455-b96c-f315cbe284ee",
        "outputId": "73f0efc6-d151-4419-9537-e5350a3bba55"
      },
      "outputs": [
        {
          "output_type": "stream",
          "name": "stdout",
          "text": [
            "\n",
            "generated text:\n",
            "wine review : germany : mosel : riesling : a hint of floral perfume persists throughout this off - dry riesling . it ' s delicately framed with ripe , ripe apple and lime flavors , with a kiss of sweet spice on the finish . \n",
            "\n"
          ]
        },
        {
          "output_type": "display_data",
          "data": {
            "text/plain": [
              "<IPython.core.display.HTML object>"
            ],
            "text/html": [
              "<span style=\"background-color:rgba(135,206,250,0.9787978);\">wine</span> <span style=\"background-color:rgba(135,206,250,1.0);\">review</span> <span style=\"background-color:rgba(135,206,250,0.7128837);\">:</span> <span style=\"background-color:rgba(135,206,250,0.3394878);\">germany</span>"
            ]
          },
          "metadata": {}
        },
        {
          "output_type": "stream",
          "name": "stdout",
          "text": [
            "::   \t100.0%\n",
            "-:   \t0.0%\n",
            "grosso:   \t0.0%\n",
            "blend:   \t0.0%\n",
            "in:   \t0.0%\n",
            "--------\n",
            "\n"
          ]
        },
        {
          "output_type": "display_data",
          "data": {
            "text/plain": [
              "<IPython.core.display.HTML object>"
            ],
            "text/html": [
              "<span style=\"background-color:rgba(135,206,250,0.4248442);\">wine</span> <span style=\"background-color:rgba(135,206,250,0.5293554);\">review</span> <span style=\"background-color:rgba(135,206,250,0.37259665);\">:</span> <span style=\"background-color:rgba(135,206,250,1.0);\">germany</span> <span style=\"background-color:rgba(135,206,250,0.23672998);\">:</span>"
            ]
          },
          "metadata": {}
        },
        {
          "output_type": "stream",
          "name": "stdout",
          "text": [
            "mosel:   \t94.6%\n",
            "rheinhessen:   \t2.51%\n",
            "baden:   \t1.52%\n",
            "rheingau:   \t0.96%\n",
            "pfalz:   \t0.2%\n",
            "--------\n",
            "\n"
          ]
        },
        {
          "output_type": "display_data",
          "data": {
            "text/plain": [
              "<IPython.core.display.HTML object>"
            ],
            "text/html": [
              "<span style=\"background-color:rgba(135,206,250,0.6547835);\">wine</span> <span style=\"background-color:rgba(135,206,250,1.0);\">review</span> <span style=\"background-color:rgba(135,206,250,0.26516503);\">:</span> <span style=\"background-color:rgba(135,206,250,0.19625936);\">germany</span> <span style=\"background-color:rgba(135,206,250,0.42805266);\">:</span> <span style=\"background-color:rgba(135,206,250,0.24561007);\">mosel</span>"
            ]
          },
          "metadata": {}
        },
        {
          "output_type": "stream",
          "name": "stdout",
          "text": [
            "::   \t99.1%\n",
            "-:   \t0.9%\n",
            "grosso:   \t0.0%\n",
            "blanc:   \t0.0%\n",
            "in:   \t0.0%\n",
            "--------\n",
            "\n"
          ]
        },
        {
          "output_type": "display_data",
          "data": {
            "text/plain": [
              "<IPython.core.display.HTML object>"
            ],
            "text/html": [
              "<span style=\"background-color:rgba(135,206,250,0.4451722);\">wine</span> <span style=\"background-color:rgba(135,206,250,0.4567892);\">review</span> <span style=\"background-color:rgba(135,206,250,0.28814474);\">:</span> <span style=\"background-color:rgba(135,206,250,0.62876785);\">germany</span> <span style=\"background-color:rgba(135,206,250,0.16477248);\">:</span> <span style=\"background-color:rgba(135,206,250,1.0);\">mosel</span> <span style=\"background-color:rgba(135,206,250,0.20088953);\">:</span>"
            ]
          },
          "metadata": {}
        },
        {
          "output_type": "stream",
          "name": "stdout",
          "text": [
            "riesling:   \t99.99%\n",
            "pinot:   \t0.0%\n",
            "white:   \t0.0%\n",
            "dornfelder:   \t0.0%\n",
            "gewürztraminer:   \t0.0%\n",
            "--------\n",
            "\n"
          ]
        },
        {
          "output_type": "display_data",
          "data": {
            "text/plain": [
              "<IPython.core.display.HTML object>"
            ],
            "text/html": [
              "<span style=\"background-color:rgba(135,206,250,0.7815936);\">wine</span> <span style=\"background-color:rgba(135,206,250,1.0);\">review</span> <span style=\"background-color:rgba(135,206,250,0.28538913);\">:</span> <span style=\"background-color:rgba(135,206,250,0.18016163);\">germany</span> <span style=\"background-color:rgba(135,206,250,0.29029858);\">:</span> <span style=\"background-color:rgba(135,206,250,0.40584952);\">mosel</span> <span style=\"background-color:rgba(135,206,250,0.32665998);\">:</span> <span style=\"background-color:rgba(135,206,250,0.13696039);\">riesling</span>"
            ]
          },
          "metadata": {}
        },
        {
          "output_type": "stream",
          "name": "stdout",
          "text": [
            "::   \t100.0%\n",
            "-:   \t0.0%\n",
            "grosso:   \t0.0%\n",
            "blanc:   \t0.0%\n",
            "blend:   \t0.0%\n",
            "--------\n",
            "\n"
          ]
        },
        {
          "output_type": "display_data",
          "data": {
            "text/plain": [
              "<IPython.core.display.HTML object>"
            ],
            "text/html": [
              "<span style=\"background-color:rgba(135,206,250,0.75433415);\">wine</span> <span style=\"background-color:rgba(135,206,250,0.94085604);\">review</span> <span style=\"background-color:rgba(135,206,250,0.36689112);\">:</span> <span style=\"background-color:rgba(135,206,250,0.79197633);\">germany</span> <span style=\"background-color:rgba(135,206,250,0.45850497);\">:</span> <span style=\"background-color:rgba(135,206,250,1.0);\">mosel</span> <span style=\"background-color:rgba(135,206,250,0.4114742);\">:</span> <span style=\"background-color:rgba(135,206,250,0.7417844);\">riesling</span> <span style=\"background-color:rgba(135,206,250,0.49882546);\">:</span>"
            ]
          },
          "metadata": {}
        },
        {
          "output_type": "stream",
          "name": "stdout",
          "text": [
            "a:   \t20.23%\n",
            "while:   \t15.8%\n",
            "whiffs:   \t14.56%\n",
            "dusty:   \t9.47%\n",
            "delicate:   \t9.02%\n",
            "--------\n",
            "\n"
          ]
        },
        {
          "output_type": "display_data",
          "data": {
            "text/plain": [
              "<IPython.core.display.HTML object>"
            ],
            "text/html": [
              "<span style=\"background-color:rgba(135,206,250,0.704316);\">wine</span> <span style=\"background-color:rgba(135,206,250,1.0);\">review</span> <span style=\"background-color:rgba(135,206,250,0.26333252);\">:</span> <span style=\"background-color:rgba(135,206,250,0.46509248);\">germany</span> <span style=\"background-color:rgba(135,206,250,0.20545311);\">:</span> <span style=\"background-color:rgba(135,206,250,0.58614755);\">mosel</span> <span style=\"background-color:rgba(135,206,250,0.15795863);\">:</span> <span style=\"background-color:rgba(135,206,250,0.29948398);\">riesling</span> <span style=\"background-color:rgba(135,206,250,0.3182414);\">:</span> <span style=\"background-color:rgba(135,206,250,0.18319719);\">a</span>"
            ]
          },
          "metadata": {}
        },
        {
          "output_type": "stream",
          "name": "stdout",
          "text": [
            "whiff:   \t30.82%\n",
            "hint:   \t24.55%\n",
            "crush:   \t10.52%\n",
            "wisp:   \t9.43%\n",
            "spray:   \t9.07%\n",
            "--------\n",
            "\n"
          ]
        },
        {
          "output_type": "display_data",
          "data": {
            "text/plain": [
              "<IPython.core.display.HTML object>"
            ],
            "text/html": [
              "<span style=\"background-color:rgba(135,206,250,0.52170247);\">wine</span> <span style=\"background-color:rgba(135,206,250,1.0);\">review</span> <span style=\"background-color:rgba(135,206,250,0.16323036);\">:</span> <span style=\"background-color:rgba(135,206,250,0.20077181);\">germany</span> <span style=\"background-color:rgba(135,206,250,0.30393043);\">:</span> <span style=\"background-color:rgba(135,206,250,0.19723408);\">mosel</span> <span style=\"background-color:rgba(135,206,250,0.16587088);\">:</span> <span style=\"background-color:rgba(135,206,250,0.14656334);\">riesling</span> <span style=\"background-color:rgba(135,206,250,0.26608032);\">:</span> <span style=\"background-color:rgba(135,206,250,0.32313526);\">a</span> <span style=\"background-color:rgba(135,206,250,0.2034024);\">hint</span>"
            ]
          },
          "metadata": {}
        },
        {
          "output_type": "stream",
          "name": "stdout",
          "text": [
            "of:   \t100.0%\n",
            "at:   \t0.0%\n",
            "to:   \t0.0%\n",
            "-:   \t0.0%\n",
            "in:   \t0.0%\n",
            "--------\n",
            "\n"
          ]
        },
        {
          "output_type": "display_data",
          "data": {
            "text/plain": [
              "<IPython.core.display.HTML object>"
            ],
            "text/html": [
              "<span style=\"background-color:rgba(135,206,250,0.46642238);\">wine</span> <span style=\"background-color:rgba(135,206,250,0.8118913);\">review</span> <span style=\"background-color:rgba(135,206,250,0.24371427);\">:</span> <span style=\"background-color:rgba(135,206,250,0.41003227);\">germany</span> <span style=\"background-color:rgba(135,206,250,0.24529707);\">:</span> <span style=\"background-color:rgba(135,206,250,0.41757068);\">mosel</span> <span style=\"background-color:rgba(135,206,250,0.19691437);\">:</span> <span style=\"background-color:rgba(135,206,250,0.42787552);\">riesling</span> <span style=\"background-color:rgba(135,206,250,0.30172047);\">:</span> <span style=\"background-color:rgba(135,206,250,0.47261465);\">a</span> <span style=\"background-color:rgba(135,206,250,1.0);\">hint</span> <span style=\"background-color:rgba(135,206,250,0.24188146);\">of</span>"
            ]
          },
          "metadata": {}
        },
        {
          "output_type": "stream",
          "name": "stdout",
          "text": [
            "smoke:   \t17.51%\n",
            "honey:   \t16.74%\n",
            "struck:   \t14.46%\n",
            "petrol:   \t14.42%\n",
            "lanolin:   \t11.19%\n",
            "--------\n",
            "\n"
          ]
        },
        {
          "output_type": "display_data",
          "data": {
            "text/plain": [
              "<IPython.core.display.HTML object>"
            ],
            "text/html": [
              "<span style=\"background-color:rgba(135,206,250,0.640134);\">wine</span> <span style=\"background-color:rgba(135,206,250,1.0);\">review</span> <span style=\"background-color:rgba(135,206,250,0.21101387);\">:</span> <span style=\"background-color:rgba(135,206,250,0.2983471);\">germany</span> <span style=\"background-color:rgba(135,206,250,0.19571352);\">:</span> <span style=\"background-color:rgba(135,206,250,0.3458654);\">mosel</span> <span style=\"background-color:rgba(135,206,250,0.20601295);\">:</span> <span style=\"background-color:rgba(135,206,250,0.2526561);\">riesling</span> <span style=\"background-color:rgba(135,206,250,0.2624163);\">:</span> <span style=\"background-color:rgba(135,206,250,0.49315652);\">a</span> <span style=\"background-color:rgba(135,206,250,0.7128333);\">hint</span> <span style=\"background-color:rgba(135,206,250,0.72951114);\">of</span> <span style=\"background-color:rgba(135,206,250,0.29420152);\">floral</span>"
            ]
          },
          "metadata": {}
        },
        {
          "output_type": "stream",
          "name": "stdout",
          "text": [
            "perfume:   \t67.71%\n",
            "notes:   \t11.08%\n",
            "and:   \t7.07%\n",
            "tones:   \t6.46%\n",
            ",:   \t1.85%\n",
            "--------\n",
            "\n"
          ]
        },
        {
          "output_type": "display_data",
          "data": {
            "text/plain": [
              "<IPython.core.display.HTML object>"
            ],
            "text/html": [
              "<span style=\"background-color:rgba(135,206,250,0.41516215);\">wine</span> <span style=\"background-color:rgba(135,206,250,1.0);\">review</span> <span style=\"background-color:rgba(135,206,250,0.12471568);\">:</span> <span style=\"background-color:rgba(135,206,250,0.19406506);\">germany</span> <span style=\"background-color:rgba(135,206,250,0.13372672);\">:</span> <span style=\"background-color:rgba(135,206,250,0.12184041);\">mosel</span> <span style=\"background-color:rgba(135,206,250,0.11089765);\">:</span> <span style=\"background-color:rgba(135,206,250,0.07962476);\">riesling</span> <span style=\"background-color:rgba(135,206,250,0.1557501);\">:</span> <span style=\"background-color:rgba(135,206,250,0.2293048);\">a</span> <span style=\"background-color:rgba(135,206,250,0.34594792);\">hint</span> <span style=\"background-color:rgba(135,206,250,0.37478125);\">of</span> <span style=\"background-color:rgba(135,206,250,0.33696762);\">floral</span> <span style=\"background-color:rgba(135,206,250,0.39337632);\">perfume</span>"
            ]
          },
          "metadata": {}
        },
        {
          "output_type": "stream",
          "name": "stdout",
          "text": [
            "persists:   \t57.6%\n",
            "introduces:   \t28.14%\n",
            "lends:   \t8.9%\n",
            "this:   \t1.64%\n",
            "and:   \t1.21%\n",
            "--------\n",
            "\n"
          ]
        },
        {
          "output_type": "display_data",
          "data": {
            "text/plain": [
              "<IPython.core.display.HTML object>"
            ],
            "text/html": [
              "<span style=\"background-color:rgba(135,206,250,0.40666693);\">wine</span> <span style=\"background-color:rgba(135,206,250,1.0);\">review</span> <span style=\"background-color:rgba(135,206,250,0.10201165);\">:</span> <span style=\"background-color:rgba(135,206,250,0.17461383);\">germany</span> <span style=\"background-color:rgba(135,206,250,0.27463627);\">:</span> <span style=\"background-color:rgba(135,206,250,0.17503533);\">mosel</span> <span style=\"background-color:rgba(135,206,250,0.1744357);\">:</span> <span style=\"background-color:rgba(135,206,250,0.16622964);\">riesling</span> <span style=\"background-color:rgba(135,206,250,0.21349993);\">:</span> <span style=\"background-color:rgba(135,206,250,0.23866943);\">a</span> <span style=\"background-color:rgba(135,206,250,0.17441432);\">hint</span> <span style=\"background-color:rgba(135,206,250,0.21162361);\">of</span> <span style=\"background-color:rgba(135,206,250,0.1528656);\">floral</span> <span style=\"background-color:rgba(135,206,250,0.25208834);\">perfume</span> <span style=\"background-color:rgba(135,206,250,0.25941157);\">persists</span>"
            ]
          },
          "metadata": {}
        },
        {
          "output_type": "stream",
          "name": "stdout",
          "text": [
            "throughout:   \t83.6%\n",
            "on:   \t12.38%\n",
            "through:   \t2.04%\n",
            "from:   \t1.82%\n",
            ",:   \t0.09%\n",
            "--------\n",
            "\n"
          ]
        },
        {
          "output_type": "display_data",
          "data": {
            "text/plain": [
              "<IPython.core.display.HTML object>"
            ],
            "text/html": [
              "<span style=\"background-color:rgba(135,206,250,0.3246676);\">wine</span> <span style=\"background-color:rgba(135,206,250,1.0);\">review</span> <span style=\"background-color:rgba(135,206,250,0.11026573);\">:</span> <span style=\"background-color:rgba(135,206,250,0.23577985);\">germany</span> <span style=\"background-color:rgba(135,206,250,0.14931664);\">:</span> <span style=\"background-color:rgba(135,206,250,0.16164829);\">mosel</span> <span style=\"background-color:rgba(135,206,250,0.10543412);\">:</span> <span style=\"background-color:rgba(135,206,250,0.11358265);\">riesling</span> <span style=\"background-color:rgba(135,206,250,0.15334487);\">:</span> <span style=\"background-color:rgba(135,206,250,0.1885179);\">a</span> <span style=\"background-color:rgba(135,206,250,0.20386367);\">hint</span> <span style=\"background-color:rgba(135,206,250,0.162099);\">of</span> <span style=\"background-color:rgba(135,206,250,0.19730075);\">floral</span> <span style=\"background-color:rgba(135,206,250,0.38600606);\">perfume</span> <span style=\"background-color:rgba(135,206,250,0.7076978);\">persists</span> <span style=\"background-color:rgba(135,206,250,0.55304235);\">throughout</span>"
            ]
          },
          "metadata": {}
        },
        {
          "output_type": "stream",
          "name": "stdout",
          "text": [
            "this:   \t99.95%\n",
            "the:   \t0.03%\n",
            ",:   \t0.02%\n",
            "fritz:   \t0.0%\n",
            "on:   \t0.0%\n",
            "--------\n",
            "\n"
          ]
        },
        {
          "output_type": "display_data",
          "data": {
            "text/plain": [
              "<IPython.core.display.HTML object>"
            ],
            "text/html": [
              "<span style=\"background-color:rgba(135,206,250,0.44422144);\">wine</span> <span style=\"background-color:rgba(135,206,250,1.0);\">review</span> <span style=\"background-color:rgba(135,206,250,0.17793684);\">:</span> <span style=\"background-color:rgba(135,206,250,0.42481616);\">germany</span> <span style=\"background-color:rgba(135,206,250,0.18015899);\">:</span> <span style=\"background-color:rgba(135,206,250,0.44799227);\">mosel</span> <span style=\"background-color:rgba(135,206,250,0.14523503);\">:</span> <span style=\"background-color:rgba(135,206,250,0.52598816);\">riesling</span> <span style=\"background-color:rgba(135,206,250,0.22232866);\">:</span> <span style=\"background-color:rgba(135,206,250,0.23740788);\">a</span> <span style=\"background-color:rgba(135,206,250,0.26672217);\">hint</span> <span style=\"background-color:rgba(135,206,250,0.178238);\">of</span> <span style=\"background-color:rgba(135,206,250,0.23514423);\">floral</span> <span style=\"background-color:rgba(135,206,250,0.45699483);\">perfume</span> <span style=\"background-color:rgba(135,206,250,0.65300477);\">persists</span> <span style=\"background-color:rgba(135,206,250,0.8939674);\">throughout</span> <span style=\"background-color:rgba(135,206,250,0.31062797);\">this</span>"
            ]
          },
          "metadata": {}
        },
        {
          "output_type": "stream",
          "name": "stdout",
          "text": [
            "dry:   \t34.24%\n",
            "intensely:   \t9.0%\n",
            "exceptionally:   \t8.98%\n",
            "delicately:   \t6.11%\n",
            "off:   \t5.95%\n",
            "--------\n",
            "\n"
          ]
        },
        {
          "output_type": "display_data",
          "data": {
            "text/plain": [
              "<IPython.core.display.HTML object>"
            ],
            "text/html": [
              "<span style=\"background-color:rgba(135,206,250,0.47901446);\">wine</span> <span style=\"background-color:rgba(135,206,250,1.0);\">review</span> <span style=\"background-color:rgba(135,206,250,0.17158486);\">:</span> <span style=\"background-color:rgba(135,206,250,0.17868637);\">germany</span> <span style=\"background-color:rgba(135,206,250,0.29271233);\">:</span> <span style=\"background-color:rgba(135,206,250,0.22711067);\">mosel</span> <span style=\"background-color:rgba(135,206,250,0.14525418);\">:</span> <span style=\"background-color:rgba(135,206,250,0.17304039);\">riesling</span> <span style=\"background-color:rgba(135,206,250,0.18771593);\">:</span> <span style=\"background-color:rgba(135,206,250,0.17327929);\">a</span> <span style=\"background-color:rgba(135,206,250,0.19993205);\">hint</span> <span style=\"background-color:rgba(135,206,250,0.16354166);\">of</span> <span style=\"background-color:rgba(135,206,250,0.142566);\">floral</span> <span style=\"background-color:rgba(135,206,250,0.22986);\">perfume</span> <span style=\"background-color:rgba(135,206,250,0.76373136);\">persists</span> <span style=\"background-color:rgba(135,206,250,0.39363864);\">throughout</span> <span style=\"background-color:rgba(135,206,250,0.6938933);\">this</span> <span style=\"background-color:rgba(135,206,250,0.23726454);\">off</span>"
            ]
          },
          "metadata": {}
        },
        {
          "output_type": "stream",
          "name": "stdout",
          "text": [
            "-:   \t99.96%\n",
            "the:   \t0.02%\n",
            ",:   \t0.01%\n",
            "dry:   \t0.01%\n",
            "a:   \t0.0%\n",
            "--------\n",
            "\n"
          ]
        },
        {
          "output_type": "display_data",
          "data": {
            "text/plain": [
              "<IPython.core.display.HTML object>"
            ],
            "text/html": [
              "<span style=\"background-color:rgba(135,206,250,0.19414394);\">wine</span> <span style=\"background-color:rgba(135,206,250,0.36984622);\">review</span> <span style=\"background-color:rgba(135,206,250,0.07565354);\">:</span> <span style=\"background-color:rgba(135,206,250,0.16220792);\">germany</span> <span style=\"background-color:rgba(135,206,250,0.08856129);\">:</span> <span style=\"background-color:rgba(135,206,250,0.1401666);\">mosel</span> <span style=\"background-color:rgba(135,206,250,0.054746587);\">:</span> <span style=\"background-color:rgba(135,206,250,0.1853485);\">riesling</span> <span style=\"background-color:rgba(135,206,250,0.07943839);\">:</span> <span style=\"background-color:rgba(135,206,250,0.08206291);\">a</span> <span style=\"background-color:rgba(135,206,250,0.09479598);\">hint</span> <span style=\"background-color:rgba(135,206,250,0.07323866);\">of</span> <span style=\"background-color:rgba(135,206,250,0.09376754);\">floral</span> <span style=\"background-color:rgba(135,206,250,0.15572478);\">perfume</span> <span style=\"background-color:rgba(135,206,250,0.25631246);\">persists</span> <span style=\"background-color:rgba(135,206,250,0.2831188);\">throughout</span> <span style=\"background-color:rgba(135,206,250,0.26253518);\">this</span> <span style=\"background-color:rgba(135,206,250,1.0);\">off</span> <span style=\"background-color:rgba(135,206,250,0.053241283);\">-</span>"
            ]
          },
          "metadata": {}
        },
        {
          "output_type": "stream",
          "name": "stdout",
          "text": [
            "dry:   \t99.99%\n",
            "kissed:   \t0.0%\n",
            "[UNK]:   \t0.0%\n",
            "sweet:   \t0.0%\n",
            "gold:   \t0.0%\n",
            "--------\n",
            "\n"
          ]
        },
        {
          "output_type": "display_data",
          "data": {
            "text/plain": [
              "<IPython.core.display.HTML object>"
            ],
            "text/html": [
              "<span style=\"background-color:rgba(135,206,250,0.39513114);\">wine</span> <span style=\"background-color:rgba(135,206,250,0.7521373);\">review</span> <span style=\"background-color:rgba(135,206,250,0.15202013);\">:</span> <span style=\"background-color:rgba(135,206,250,0.4322826);\">germany</span> <span style=\"background-color:rgba(135,206,250,0.12308406);\">:</span> <span style=\"background-color:rgba(135,206,250,0.33562553);\">mosel</span> <span style=\"background-color:rgba(135,206,250,0.16169536);\">:</span> <span style=\"background-color:rgba(135,206,250,0.61254036);\">riesling</span> <span style=\"background-color:rgba(135,206,250,0.2017154);\">:</span> <span style=\"background-color:rgba(135,206,250,0.24051838);\">a</span> <span style=\"background-color:rgba(135,206,250,0.27033958);\">hint</span> <span style=\"background-color:rgba(135,206,250,0.24513501);\">of</span> <span style=\"background-color:rgba(135,206,250,0.19410169);\">floral</span> <span style=\"background-color:rgba(135,206,250,0.34834284);\">perfume</span> <span style=\"background-color:rgba(135,206,250,0.5876673);\">persists</span> <span style=\"background-color:rgba(135,206,250,0.6910509);\">throughout</span> <span style=\"background-color:rgba(135,206,250,1.0);\">this</span> <span style=\"background-color:rgba(135,206,250,0.64871144);\">off</span> <span style=\"background-color:rgba(135,206,250,0.34502596);\">-</span> <span style=\"background-color:rgba(135,206,250,0.4396427);\">dry</span>"
            ]
          },
          "metadata": {}
        },
        {
          "output_type": "stream",
          "name": "stdout",
          "text": [
            "riesling:   \t98.61%\n",
            ",:   \t1.34%\n",
            "white:   \t0.01%\n",
            "wine:   \t0.01%\n",
            "kabinett:   \t0.01%\n",
            "--------\n",
            "\n"
          ]
        },
        {
          "output_type": "display_data",
          "data": {
            "text/plain": [
              "<IPython.core.display.HTML object>"
            ],
            "text/html": [
              "<span style=\"background-color:rgba(135,206,250,0.26782826);\">wine</span> <span style=\"background-color:rgba(135,206,250,1.0);\">review</span> <span style=\"background-color:rgba(135,206,250,0.055976495);\">:</span> <span style=\"background-color:rgba(135,206,250,0.128771);\">germany</span> <span style=\"background-color:rgba(135,206,250,0.0835535);\">:</span> <span style=\"background-color:rgba(135,206,250,0.09590608);\">mosel</span> <span style=\"background-color:rgba(135,206,250,0.09024212);\">:</span> <span style=\"background-color:rgba(135,206,250,0.06357589);\">riesling</span> <span style=\"background-color:rgba(135,206,250,0.1355365);\">:</span> <span style=\"background-color:rgba(135,206,250,0.16765924);\">a</span> <span style=\"background-color:rgba(135,206,250,0.1646662);\">hint</span> <span style=\"background-color:rgba(135,206,250,0.1248524);\">of</span> <span style=\"background-color:rgba(135,206,250,0.08732505);\">floral</span> <span style=\"background-color:rgba(135,206,250,0.3411558);\">perfume</span> <span style=\"background-color:rgba(135,206,250,0.28513566);\">persists</span> <span style=\"background-color:rgba(135,206,250,0.27747878);\">throughout</span> <span style=\"background-color:rgba(135,206,250,0.3664106);\">this</span> <span style=\"background-color:rgba(135,206,250,0.21066758);\">off</span> <span style=\"background-color:rgba(135,206,250,0.17084879);\">-</span> <span style=\"background-color:rgba(135,206,250,0.28932434);\">dry</span> <span style=\"background-color:rgba(135,206,250,0.19207336);\">riesling</span>"
            ]
          },
          "metadata": {}
        },
        {
          "output_type": "stream",
          "name": "stdout",
          "text": [
            ".:   \t99.82%\n",
            ",:   \t0.13%\n",
            "that:   \t0.03%\n",
            "from:   \t0.01%\n",
            "sparkling:   \t0.0%\n",
            "--------\n",
            "\n"
          ]
        },
        {
          "output_type": "display_data",
          "data": {
            "text/plain": [
              "<IPython.core.display.HTML object>"
            ],
            "text/html": [
              "<span style=\"background-color:rgba(135,206,250,0.29931727);\">wine</span> <span style=\"background-color:rgba(135,206,250,1.0);\">review</span> <span style=\"background-color:rgba(135,206,250,0.059653006);\">:</span> <span style=\"background-color:rgba(135,206,250,0.22719714);\">germany</span> <span style=\"background-color:rgba(135,206,250,0.297735);\">:</span> <span style=\"background-color:rgba(135,206,250,0.1531496);\">mosel</span> <span style=\"background-color:rgba(135,206,250,0.0931036);\">:</span> <span style=\"background-color:rgba(135,206,250,0.16190799);\">riesling</span> <span style=\"background-color:rgba(135,206,250,0.11600051);\">:</span> <span style=\"background-color:rgba(135,206,250,0.08740163);\">a</span> <span style=\"background-color:rgba(135,206,250,0.09275758);\">hint</span> <span style=\"background-color:rgba(135,206,250,0.063889794);\">of</span> <span style=\"background-color:rgba(135,206,250,0.11122968);\">floral</span> <span style=\"background-color:rgba(135,206,250,0.193719);\">perfume</span> <span style=\"background-color:rgba(135,206,250,0.17814222);\">persists</span> <span style=\"background-color:rgba(135,206,250,0.16905525);\">throughout</span> <span style=\"background-color:rgba(135,206,250,0.21594399);\">this</span> <span style=\"background-color:rgba(135,206,250,0.09182199);\">off</span> <span style=\"background-color:rgba(135,206,250,0.08750171);\">-</span> <span style=\"background-color:rgba(135,206,250,0.13778009);\">dry</span> <span style=\"background-color:rgba(135,206,250,0.2214277);\">riesling</span> <span style=\"background-color:rgba(135,206,250,0.23892123);\">.</span>"
            ]
          },
          "metadata": {}
        },
        {
          "output_type": "stream",
          "name": "stdout",
          "text": [
            "it:   \t76.48%\n",
            "the:   \t8.28%\n",
            "while:   \t4.69%\n",
            "dry:   \t0.88%\n",
            "juicy:   \t0.85%\n",
            "--------\n",
            "\n"
          ]
        },
        {
          "output_type": "display_data",
          "data": {
            "text/plain": [
              "<IPython.core.display.HTML object>"
            ],
            "text/html": [
              "<span style=\"background-color:rgba(135,206,250,0.20629251);\">wine</span> <span style=\"background-color:rgba(135,206,250,0.54948545);\">review</span> <span style=\"background-color:rgba(135,206,250,0.12202067);\">:</span> <span style=\"background-color:rgba(135,206,250,0.2684932);\">germany</span> <span style=\"background-color:rgba(135,206,250,0.11649724);\">:</span> <span style=\"background-color:rgba(135,206,250,0.15536647);\">mosel</span> <span style=\"background-color:rgba(135,206,250,0.079860605);\">:</span> <span style=\"background-color:rgba(135,206,250,0.09959438);\">riesling</span> <span style=\"background-color:rgba(135,206,250,0.08697819);\">:</span> <span style=\"background-color:rgba(135,206,250,0.083946526);\">a</span> <span style=\"background-color:rgba(135,206,250,0.13372883);\">hint</span> <span style=\"background-color:rgba(135,206,250,0.0776841);\">of</span> <span style=\"background-color:rgba(135,206,250,0.092299245);\">floral</span> <span style=\"background-color:rgba(135,206,250,0.18429834);\">perfume</span> <span style=\"background-color:rgba(135,206,250,0.17912298);\">persists</span> <span style=\"background-color:rgba(135,206,250,0.18735297);\">throughout</span> <span style=\"background-color:rgba(135,206,250,0.10353041);\">this</span> <span style=\"background-color:rgba(135,206,250,0.12680991);\">off</span> <span style=\"background-color:rgba(135,206,250,0.10310571);\">-</span> <span style=\"background-color:rgba(135,206,250,0.23211628);\">dry</span> <span style=\"background-color:rgba(135,206,250,0.19989358);\">riesling</span> <span style=\"background-color:rgba(135,206,250,1.0);\">.</span> <span style=\"background-color:rgba(135,206,250,0.16629316);\">it</span>"
            ]
          },
          "metadata": {}
        },
        {
          "output_type": "stream",
          "name": "stdout",
          "text": [
            "':   \t100.0%\n",
            "is:   \t0.0%\n",
            "balances:   \t0.0%\n",
            "offers:   \t0.0%\n",
            "has:   \t0.0%\n",
            "--------\n",
            "\n"
          ]
        },
        {
          "output_type": "display_data",
          "data": {
            "text/plain": [
              "<IPython.core.display.HTML object>"
            ],
            "text/html": [
              "<span style=\"background-color:rgba(135,206,250,0.2650771);\">wine</span> <span style=\"background-color:rgba(135,206,250,0.5122253);\">review</span> <span style=\"background-color:rgba(135,206,250,0.097139254);\">:</span> <span style=\"background-color:rgba(135,206,250,0.21381283);\">germany</span> <span style=\"background-color:rgba(135,206,250,0.09338029);\">:</span> <span style=\"background-color:rgba(135,206,250,0.1834661);\">mosel</span> <span style=\"background-color:rgba(135,206,250,0.08707457);\">:</span> <span style=\"background-color:rgba(135,206,250,0.19807824);\">riesling</span> <span style=\"background-color:rgba(135,206,250,0.10238001);\">:</span> <span style=\"background-color:rgba(135,206,250,0.096659385);\">a</span> <span style=\"background-color:rgba(135,206,250,0.10966577);\">hint</span> <span style=\"background-color:rgba(135,206,250,0.09650244);\">of</span> <span style=\"background-color:rgba(135,206,250,0.08809799);\">floral</span> <span style=\"background-color:rgba(135,206,250,0.12104225);\">perfume</span> <span style=\"background-color:rgba(135,206,250,0.1607103);\">persists</span> <span style=\"background-color:rgba(135,206,250,0.17065829);\">throughout</span> <span style=\"background-color:rgba(135,206,250,0.13518994);\">this</span> <span style=\"background-color:rgba(135,206,250,0.19662732);\">off</span> <span style=\"background-color:rgba(135,206,250,0.1426256);\">-</span> <span style=\"background-color:rgba(135,206,250,0.18154055);\">dry</span> <span style=\"background-color:rgba(135,206,250,0.40811753);\">riesling</span> <span style=\"background-color:rgba(135,206,250,0.84273714);\">.</span> <span style=\"background-color:rgba(135,206,250,1.0);\">it</span> <span style=\"background-color:rgba(135,206,250,0.2816177);\">'</span>"
            ]
          },
          "metadata": {}
        },
        {
          "output_type": "stream",
          "name": "stdout",
          "text": [
            "s:   \t100.0%\n",
            "ll:   \t0.0%\n",
            "[UNK]:   \t0.0%\n",
            "09:   \t0.0%\n",
            "11:   \t0.0%\n",
            "--------\n",
            "\n"
          ]
        },
        {
          "output_type": "display_data",
          "data": {
            "text/plain": [
              "<IPython.core.display.HTML object>"
            ],
            "text/html": [
              "<span style=\"background-color:rgba(135,206,250,0.31772757);\">wine</span> <span style=\"background-color:rgba(135,206,250,0.77605075);\">review</span> <span style=\"background-color:rgba(135,206,250,0.12637997);\">:</span> <span style=\"background-color:rgba(135,206,250,0.38892666);\">germany</span> <span style=\"background-color:rgba(135,206,250,0.11234723);\">:</span> <span style=\"background-color:rgba(135,206,250,0.2326882);\">mosel</span> <span style=\"background-color:rgba(135,206,250,0.088441804);\">:</span> <span style=\"background-color:rgba(135,206,250,0.31665123);\">riesling</span> <span style=\"background-color:rgba(135,206,250,0.121739306);\">:</span> <span style=\"background-color:rgba(135,206,250,0.10803257);\">a</span> <span style=\"background-color:rgba(135,206,250,0.15183136);\">hint</span> <span style=\"background-color:rgba(135,206,250,0.07278147);\">of</span> <span style=\"background-color:rgba(135,206,250,0.13561858);\">floral</span> <span style=\"background-color:rgba(135,206,250,0.20044751);\">perfume</span> <span style=\"background-color:rgba(135,206,250,0.26714566);\">persists</span> <span style=\"background-color:rgba(135,206,250,0.22192356);\">throughout</span> <span style=\"background-color:rgba(135,206,250,0.17386332);\">this</span> <span style=\"background-color:rgba(135,206,250,0.14720339);\">off</span> <span style=\"background-color:rgba(135,206,250,0.10972116);\">-</span> <span style=\"background-color:rgba(135,206,250,0.30297342);\">dry</span> <span style=\"background-color:rgba(135,206,250,0.3086359);\">riesling</span> <span style=\"background-color:rgba(135,206,250,1.0);\">.</span> <span style=\"background-color:rgba(135,206,250,0.6959028);\">it</span> <span style=\"background-color:rgba(135,206,250,0.2520678);\">'</span> <span style=\"background-color:rgba(135,206,250,0.19806285);\">s</span>"
            ]
          },
          "metadata": {}
        },
        {
          "output_type": "stream",
          "name": "stdout",
          "text": [
            "lusciously:   \t22.48%\n",
            "a:   \t18.7%\n",
            "delicately:   \t16.41%\n",
            "intensely:   \t4.39%\n",
            "gossamer:   \t3.91%\n",
            "--------\n",
            "\n"
          ]
        },
        {
          "output_type": "display_data",
          "data": {
            "text/plain": [
              "<IPython.core.display.HTML object>"
            ],
            "text/html": [
              "<span style=\"background-color:rgba(135,206,250,0.39238492);\">wine</span> <span style=\"background-color:rgba(135,206,250,1.0);\">review</span> <span style=\"background-color:rgba(135,206,250,0.13261464);\">:</span> <span style=\"background-color:rgba(135,206,250,0.29800928);\">germany</span> <span style=\"background-color:rgba(135,206,250,0.30550513);\">:</span> <span style=\"background-color:rgba(135,206,250,0.20806058);\">mosel</span> <span style=\"background-color:rgba(135,206,250,0.1675675);\">:</span> <span style=\"background-color:rgba(135,206,250,0.22650844);\">riesling</span> <span style=\"background-color:rgba(135,206,250,0.15733637);\">:</span> <span style=\"background-color:rgba(135,206,250,0.08844028);\">a</span> <span style=\"background-color:rgba(135,206,250,0.13097751);\">hint</span> <span style=\"background-color:rgba(135,206,250,0.105928205);\">of</span> <span style=\"background-color:rgba(135,206,250,0.0699198);\">floral</span> <span style=\"background-color:rgba(135,206,250,0.13519388);\">perfume</span> <span style=\"background-color:rgba(135,206,250,0.23250617);\">persists</span> <span style=\"background-color:rgba(135,206,250,0.123728156);\">throughout</span> <span style=\"background-color:rgba(135,206,250,0.14594567);\">this</span> <span style=\"background-color:rgba(135,206,250,0.09369749);\">off</span> <span style=\"background-color:rgba(135,206,250,0.07910392);\">-</span> <span style=\"background-color:rgba(135,206,250,0.166247);\">dry</span> <span style=\"background-color:rgba(135,206,250,0.18580522);\">riesling</span> <span style=\"background-color:rgba(135,206,250,0.5094783);\">.</span> <span style=\"background-color:rgba(135,206,250,0.20504822);\">it</span> <span style=\"background-color:rgba(135,206,250,0.2756492);\">'</span> <span style=\"background-color:rgba(135,206,250,0.31482613);\">s</span> <span style=\"background-color:rgba(135,206,250,0.25566068);\">delicately</span>"
            ]
          },
          "metadata": {}
        },
        {
          "output_type": "stream",
          "name": "stdout",
          "text": [
            "framed:   \t88.95%\n",
            "effervescent:   \t5.26%\n",
            "concentrated:   \t2.0%\n",
            "sweet:   \t1.21%\n",
            "structured:   \t0.6%\n",
            "--------\n",
            "\n"
          ]
        },
        {
          "output_type": "display_data",
          "data": {
            "text/plain": [
              "<IPython.core.display.HTML object>"
            ],
            "text/html": [
              "<span style=\"background-color:rgba(135,206,250,0.33736825);\">wine</span> <span style=\"background-color:rgba(135,206,250,0.92126656);\">review</span> <span style=\"background-color:rgba(135,206,250,0.10073956);\">:</span> <span style=\"background-color:rgba(135,206,250,0.27352902);\">germany</span> <span style=\"background-color:rgba(135,206,250,0.1714203);\">:</span> <span style=\"background-color:rgba(135,206,250,0.20460936);\">mosel</span> <span style=\"background-color:rgba(135,206,250,0.15887836);\">:</span> <span style=\"background-color:rgba(135,206,250,0.33491307);\">riesling</span> <span style=\"background-color:rgba(135,206,250,0.18391734);\">:</span> <span style=\"background-color:rgba(135,206,250,0.10825696);\">a</span> <span style=\"background-color:rgba(135,206,250,0.109563686);\">hint</span> <span style=\"background-color:rgba(135,206,250,0.08730422);\">of</span> <span style=\"background-color:rgba(135,206,250,0.0650673);\">floral</span> <span style=\"background-color:rgba(135,206,250,0.08209721);\">perfume</span> <span style=\"background-color:rgba(135,206,250,0.13950169);\">persists</span> <span style=\"background-color:rgba(135,206,250,0.09614158);\">throughout</span> <span style=\"background-color:rgba(135,206,250,0.14725235);\">this</span> <span style=\"background-color:rgba(135,206,250,0.0896203);\">off</span> <span style=\"background-color:rgba(135,206,250,0.07356586);\">-</span> <span style=\"background-color:rgba(135,206,250,0.103391625);\">dry</span> <span style=\"background-color:rgba(135,206,250,0.25724566);\">riesling</span> <span style=\"background-color:rgba(135,206,250,0.5379525);\">.</span> <span style=\"background-color:rgba(135,206,250,0.39328492);\">it</span> <span style=\"background-color:rgba(135,206,250,0.20050956);\">'</span> <span style=\"background-color:rgba(135,206,250,0.47932172);\">s</span> <span style=\"background-color:rgba(135,206,250,1.0);\">delicately</span> <span style=\"background-color:rgba(135,206,250,0.3235937);\">framed</span>"
            ]
          },
          "metadata": {}
        },
        {
          "output_type": "stream",
          "name": "stdout",
          "text": [
            ",:   \t84.72%\n",
            "with:   \t11.62%\n",
            "by:   \t2.54%\n",
            "yet:   \t0.55%\n",
            "in:   \t0.33%\n",
            "--------\n",
            "\n"
          ]
        },
        {
          "output_type": "display_data",
          "data": {
            "text/plain": [
              "<IPython.core.display.HTML object>"
            ],
            "text/html": [
              "<span style=\"background-color:rgba(135,206,250,0.27763757);\">wine</span> <span style=\"background-color:rgba(135,206,250,0.8187081);\">review</span> <span style=\"background-color:rgba(135,206,250,0.12919955);\">:</span> <span style=\"background-color:rgba(135,206,250,0.41108027);\">germany</span> <span style=\"background-color:rgba(135,206,250,0.19962035);\">:</span> <span style=\"background-color:rgba(135,206,250,0.20115702);\">mosel</span> <span style=\"background-color:rgba(135,206,250,0.1168309);\">:</span> <span style=\"background-color:rgba(135,206,250,0.39121866);\">riesling</span> <span style=\"background-color:rgba(135,206,250,0.13168098);\">:</span> <span style=\"background-color:rgba(135,206,250,0.08206981);\">a</span> <span style=\"background-color:rgba(135,206,250,0.11736284);\">hint</span> <span style=\"background-color:rgba(135,206,250,0.053983603);\">of</span> <span style=\"background-color:rgba(135,206,250,0.16106759);\">floral</span> <span style=\"background-color:rgba(135,206,250,0.14281283);\">perfume</span> <span style=\"background-color:rgba(135,206,250,0.16755553);\">persists</span> <span style=\"background-color:rgba(135,206,250,0.1133235);\">throughout</span> <span style=\"background-color:rgba(135,206,250,0.12737119);\">this</span> <span style=\"background-color:rgba(135,206,250,0.069313474);\">off</span> <span style=\"background-color:rgba(135,206,250,0.07397712);\">-</span> <span style=\"background-color:rgba(135,206,250,0.19316538);\">dry</span> <span style=\"background-color:rgba(135,206,250,0.21350382);\">riesling</span> <span style=\"background-color:rgba(135,206,250,0.37695074);\">.</span> <span style=\"background-color:rgba(135,206,250,0.1256631);\">it</span> <span style=\"background-color:rgba(135,206,250,0.09619082);\">'</span> <span style=\"background-color:rgba(135,206,250,0.16344254);\">s</span> <span style=\"background-color:rgba(135,206,250,0.5312712);\">delicately</span> <span style=\"background-color:rgba(135,206,250,1.0);\">framed</span> <span style=\"background-color:rgba(135,206,250,0.38396743);\">with</span>"
            ]
          },
          "metadata": {}
        },
        {
          "output_type": "stream",
          "name": "stdout",
          "text": [
            "a:   \t73.05%\n",
            "notes:   \t2.95%\n",
            "delicate:   \t2.76%\n",
            "bright:   \t2.31%\n",
            "hints:   \t2.21%\n",
            "--------\n",
            "\n"
          ]
        },
        {
          "output_type": "display_data",
          "data": {
            "text/plain": [
              "<IPython.core.display.HTML object>"
            ],
            "text/html": [
              "<span style=\"background-color:rgba(135,206,250,0.19450624);\">wine</span> <span style=\"background-color:rgba(135,206,250,0.27563116);\">review</span> <span style=\"background-color:rgba(135,206,250,0.10640405);\">:</span> <span style=\"background-color:rgba(135,206,250,0.40836704);\">germany</span> <span style=\"background-color:rgba(135,206,250,0.07147003);\">:</span> <span style=\"background-color:rgba(135,206,250,0.20799476);\">mosel</span> <span style=\"background-color:rgba(135,206,250,0.06909581);\">:</span> <span style=\"background-color:rgba(135,206,250,0.33202118);\">riesling</span> <span style=\"background-color:rgba(135,206,250,0.08306788);\">:</span> <span style=\"background-color:rgba(135,206,250,0.07489037);\">a</span> <span style=\"background-color:rgba(135,206,250,0.08892031);\">hint</span> <span style=\"background-color:rgba(135,206,250,0.04765608);\">of</span> <span style=\"background-color:rgba(135,206,250,0.086435065);\">floral</span> <span style=\"background-color:rgba(135,206,250,0.087091096);\">perfume</span> <span style=\"background-color:rgba(135,206,250,0.10993894);\">persists</span> <span style=\"background-color:rgba(135,206,250,0.098635696);\">throughout</span> <span style=\"background-color:rgba(135,206,250,0.0884682);\">this</span> <span style=\"background-color:rgba(135,206,250,0.05540328);\">off</span> <span style=\"background-color:rgba(135,206,250,0.0381754);\">-</span> <span style=\"background-color:rgba(135,206,250,0.09429038);\">dry</span> <span style=\"background-color:rgba(135,206,250,0.21356785);\">riesling</span> <span style=\"background-color:rgba(135,206,250,0.31235996);\">.</span> <span style=\"background-color:rgba(135,206,250,0.1550622);\">it</span> <span style=\"background-color:rgba(135,206,250,0.07649706);\">'</span> <span style=\"background-color:rgba(135,206,250,0.31127214);\">s</span> <span style=\"background-color:rgba(135,206,250,0.25160775);\">delicately</span> <span style=\"background-color:rgba(135,206,250,0.7725761);\">framed</span> <span style=\"background-color:rgba(135,206,250,1.0);\">with</span> <span style=\"background-color:rgba(135,206,250,0.2102679);\">ripe</span>"
            ]
          },
          "metadata": {}
        },
        {
          "output_type": "stream",
          "name": "stdout",
          "text": [
            ",:   \t32.68%\n",
            "peach:   \t32.43%\n",
            "yellow:   \t8.55%\n",
            "apple:   \t6.51%\n",
            "tangerine:   \t5.86%\n",
            "--------\n",
            "\n"
          ]
        },
        {
          "output_type": "display_data",
          "data": {
            "text/plain": [
              "<IPython.core.display.HTML object>"
            ],
            "text/html": [
              "<span style=\"background-color:rgba(135,206,250,0.17703371);\">wine</span> <span style=\"background-color:rgba(135,206,250,0.37758845);\">review</span> <span style=\"background-color:rgba(135,206,250,0.11787638);\">:</span> <span style=\"background-color:rgba(135,206,250,0.38604942);\">germany</span> <span style=\"background-color:rgba(135,206,250,0.08585877);\">:</span> <span style=\"background-color:rgba(135,206,250,0.12934153);\">mosel</span> <span style=\"background-color:rgba(135,206,250,0.080166936);\">:</span> <span style=\"background-color:rgba(135,206,250,0.24818209);\">riesling</span> <span style=\"background-color:rgba(135,206,250,0.09350772);\">:</span> <span style=\"background-color:rgba(135,206,250,0.052906297);\">a</span> <span style=\"background-color:rgba(135,206,250,0.09175937);\">hint</span> <span style=\"background-color:rgba(135,206,250,0.048753843);\">of</span> <span style=\"background-color:rgba(135,206,250,0.08881665);\">floral</span> <span style=\"background-color:rgba(135,206,250,0.08541086);\">perfume</span> <span style=\"background-color:rgba(135,206,250,0.13215452);\">persists</span> <span style=\"background-color:rgba(135,206,250,0.09287474);\">throughout</span> <span style=\"background-color:rgba(135,206,250,0.14986011);\">this</span> <span style=\"background-color:rgba(135,206,250,0.08200323);\">off</span> <span style=\"background-color:rgba(135,206,250,0.04082869);\">-</span> <span style=\"background-color:rgba(135,206,250,0.11892308);\">dry</span> <span style=\"background-color:rgba(135,206,250,0.13081302);\">riesling</span> <span style=\"background-color:rgba(135,206,250,0.3493173);\">.</span> <span style=\"background-color:rgba(135,206,250,0.19343288);\">it</span> <span style=\"background-color:rgba(135,206,250,0.051681366);\">'</span> <span style=\"background-color:rgba(135,206,250,0.27477857);\">s</span> <span style=\"background-color:rgba(135,206,250,0.30529386);\">delicately</span> <span style=\"background-color:rgba(135,206,250,0.46642926);\">framed</span> <span style=\"background-color:rgba(135,206,250,1.0);\">with</span> <span style=\"background-color:rgba(135,206,250,0.7694824);\">ripe</span> <span style=\"background-color:rgba(135,206,250,0.3817519);\">,</span>"
            ]
          },
          "metadata": {}
        },
        {
          "output_type": "stream",
          "name": "stdout",
          "text": [
            "sunny:   \t50.48%\n",
            "forward:   \t13.74%\n",
            "sweet:   \t7.85%\n",
            "juicy:   \t7.42%\n",
            "yet:   \t3.4%\n",
            "--------\n",
            "\n"
          ]
        },
        {
          "output_type": "display_data",
          "data": {
            "text/plain": [
              "<IPython.core.display.HTML object>"
            ],
            "text/html": [
              "<span style=\"background-color:rgba(135,206,250,0.30265063);\">wine</span> <span style=\"background-color:rgba(135,206,250,0.3853338);\">review</span> <span style=\"background-color:rgba(135,206,250,0.17968976);\">:</span> <span style=\"background-color:rgba(135,206,250,0.6320306);\">germany</span> <span style=\"background-color:rgba(135,206,250,0.101005696);\">:</span> <span style=\"background-color:rgba(135,206,250,0.29985252);\">mosel</span> <span style=\"background-color:rgba(135,206,250,0.10155326);\">:</span> <span style=\"background-color:rgba(135,206,250,0.4911253);\">riesling</span> <span style=\"background-color:rgba(135,206,250,0.11636556);\">:</span> <span style=\"background-color:rgba(135,206,250,0.09878585);\">a</span> <span style=\"background-color:rgba(135,206,250,0.115577094);\">hint</span> <span style=\"background-color:rgba(135,206,250,0.061181147);\">of</span> <span style=\"background-color:rgba(135,206,250,0.11745215);\">floral</span> <span style=\"background-color:rgba(135,206,250,0.10902756);\">perfume</span> <span style=\"background-color:rgba(135,206,250,0.14397736);\">persists</span> <span style=\"background-color:rgba(135,206,250,0.12444524);\">throughout</span> <span style=\"background-color:rgba(135,206,250,0.11098642);\">this</span> <span style=\"background-color:rgba(135,206,250,0.068328254);\">off</span> <span style=\"background-color:rgba(135,206,250,0.046919435);\">-</span> <span style=\"background-color:rgba(135,206,250,0.12930278);\">dry</span> <span style=\"background-color:rgba(135,206,250,0.27834472);\">riesling</span> <span style=\"background-color:rgba(135,206,250,0.37112778);\">.</span> <span style=\"background-color:rgba(135,206,250,0.17024796);\">it</span> <span style=\"background-color:rgba(135,206,250,0.079359904);\">'</span> <span style=\"background-color:rgba(135,206,250,0.330764);\">s</span> <span style=\"background-color:rgba(135,206,250,0.28039423);\">delicately</span> <span style=\"background-color:rgba(135,206,250,0.7837432);\">framed</span> <span style=\"background-color:rgba(135,206,250,1.0);\">with</span> <span style=\"background-color:rgba(135,206,250,0.23463671);\">ripe</span> <span style=\"background-color:rgba(135,206,250,0.87595314);\">,</span> <span style=\"background-color:rgba(135,206,250,0.38627318);\">ripe</span>"
            ]
          },
          "metadata": {}
        },
        {
          "output_type": "stream",
          "name": "stdout",
          "text": [
            "yellow:   \t34.01%\n",
            "peach:   \t29.47%\n",
            ",:   \t7.47%\n",
            "tangerine:   \t7.39%\n",
            "apple:   \t6.78%\n",
            "--------\n",
            "\n"
          ]
        },
        {
          "output_type": "display_data",
          "data": {
            "text/plain": [
              "<IPython.core.display.HTML object>"
            ],
            "text/html": [
              "<span style=\"background-color:rgba(135,206,250,0.3580138);\">wine</span> <span style=\"background-color:rgba(135,206,250,0.69698006);\">review</span> <span style=\"background-color:rgba(135,206,250,0.20475234);\">:</span> <span style=\"background-color:rgba(135,206,250,0.4937227);\">germany</span> <span style=\"background-color:rgba(135,206,250,0.14813818);\">:</span> <span style=\"background-color:rgba(135,206,250,0.14367548);\">mosel</span> <span style=\"background-color:rgba(135,206,250,0.17920738);\">:</span> <span style=\"background-color:rgba(135,206,250,0.100261316);\">riesling</span> <span style=\"background-color:rgba(135,206,250,0.15204974);\">:</span> <span style=\"background-color:rgba(135,206,250,0.12665749);\">a</span> <span style=\"background-color:rgba(135,206,250,0.09851533);\">hint</span> <span style=\"background-color:rgba(135,206,250,0.09988132);\">of</span> <span style=\"background-color:rgba(135,206,250,0.12167845);\">floral</span> <span style=\"background-color:rgba(135,206,250,0.18412372);\">perfume</span> <span style=\"background-color:rgba(135,206,250,0.23539367);\">persists</span> <span style=\"background-color:rgba(135,206,250,0.09381618);\">throughout</span> <span style=\"background-color:rgba(135,206,250,0.13004522);\">this</span> <span style=\"background-color:rgba(135,206,250,0.07461885);\">off</span> <span style=\"background-color:rgba(135,206,250,0.07489568);\">-</span> <span style=\"background-color:rgba(135,206,250,0.12519796);\">dry</span> <span style=\"background-color:rgba(135,206,250,0.07728607);\">riesling</span> <span style=\"background-color:rgba(135,206,250,0.44769174);\">.</span> <span style=\"background-color:rgba(135,206,250,0.1634641);\">it</span> <span style=\"background-color:rgba(135,206,250,0.095736206);\">'</span> <span style=\"background-color:rgba(135,206,250,0.28513703);\">s</span> <span style=\"background-color:rgba(135,206,250,0.2439294);\">delicately</span> <span style=\"background-color:rgba(135,206,250,0.55143213);\">framed</span> <span style=\"background-color:rgba(135,206,250,0.8812664);\">with</span> <span style=\"background-color:rgba(135,206,250,0.40569055);\">ripe</span> <span style=\"background-color:rgba(135,206,250,1.0);\">,</span> <span style=\"background-color:rgba(135,206,250,0.7453615);\">ripe</span> <span style=\"background-color:rgba(135,206,250,0.64946693);\">apple</span>"
            ]
          },
          "metadata": {}
        },
        {
          "output_type": "stream",
          "name": "stdout",
          "text": [
            "and:   \t99.22%\n",
            ",:   \t0.67%\n",
            "flavors:   \t0.04%\n",
            "notes:   \t0.04%\n",
            "-:   \t0.01%\n",
            "--------\n",
            "\n"
          ]
        },
        {
          "output_type": "display_data",
          "data": {
            "text/plain": [
              "<IPython.core.display.HTML object>"
            ],
            "text/html": [
              "<span style=\"background-color:rgba(135,206,250,0.103605166);\">wine</span> <span style=\"background-color:rgba(135,206,250,0.19021136);\">review</span> <span style=\"background-color:rgba(135,206,250,0.1291229);\">:</span> <span style=\"background-color:rgba(135,206,250,0.26319796);\">germany</span> <span style=\"background-color:rgba(135,206,250,0.055887494);\">:</span> <span style=\"background-color:rgba(135,206,250,0.11687164);\">mosel</span> <span style=\"background-color:rgba(135,206,250,0.046655975);\">:</span> <span style=\"background-color:rgba(135,206,250,0.1927013);\">riesling</span> <span style=\"background-color:rgba(135,206,250,0.053634617);\">:</span> <span style=\"background-color:rgba(135,206,250,0.035896663);\">a</span> <span style=\"background-color:rgba(135,206,250,0.05215415);\">hint</span> <span style=\"background-color:rgba(135,206,250,0.024293788);\">of</span> <span style=\"background-color:rgba(135,206,250,0.06649557);\">floral</span> <span style=\"background-color:rgba(135,206,250,0.053999197);\">perfume</span> <span style=\"background-color:rgba(135,206,250,0.079355866);\">persists</span> <span style=\"background-color:rgba(135,206,250,0.04898316);\">throughout</span> <span style=\"background-color:rgba(135,206,250,0.052216277);\">this</span> <span style=\"background-color:rgba(135,206,250,0.040480617);\">off</span> <span style=\"background-color:rgba(135,206,250,0.02855793);\">-</span> <span style=\"background-color:rgba(135,206,250,0.082313366);\">dry</span> <span style=\"background-color:rgba(135,206,250,0.08424169);\">riesling</span> <span style=\"background-color:rgba(135,206,250,0.11966706);\">.</span> <span style=\"background-color:rgba(135,206,250,0.055200644);\">it</span> <span style=\"background-color:rgba(135,206,250,0.022544596);\">'</span> <span style=\"background-color:rgba(135,206,250,0.06891816);\">s</span> <span style=\"background-color:rgba(135,206,250,0.11186927);\">delicately</span> <span style=\"background-color:rgba(135,206,250,0.12471648);\">framed</span> <span style=\"background-color:rgba(135,206,250,0.16948368);\">with</span> <span style=\"background-color:rgba(135,206,250,0.21039854);\">ripe</span> <span style=\"background-color:rgba(135,206,250,0.4177846);\">,</span> <span style=\"background-color:rgba(135,206,250,0.34810892);\">ripe</span> <span style=\"background-color:rgba(135,206,250,1.0);\">apple</span> <span style=\"background-color:rgba(135,206,250,0.22013041);\">and</span>"
            ]
          },
          "metadata": {}
        },
        {
          "output_type": "stream",
          "name": "stdout",
          "text": [
            "pear:   \t57.37%\n",
            "peach:   \t15.27%\n",
            "tangerine:   \t6.38%\n",
            "lemon:   \t5.36%\n",
            "lime:   \t4.56%\n",
            "--------\n",
            "\n"
          ]
        },
        {
          "output_type": "display_data",
          "data": {
            "text/plain": [
              "<IPython.core.display.HTML object>"
            ],
            "text/html": [
              "<span style=\"background-color:rgba(135,206,250,0.3721613);\">wine</span> <span style=\"background-color:rgba(135,206,250,0.5521103);\">review</span> <span style=\"background-color:rgba(135,206,250,0.18964233);\">:</span> <span style=\"background-color:rgba(135,206,250,0.44601154);\">germany</span> <span style=\"background-color:rgba(135,206,250,0.16250718);\">:</span> <span style=\"background-color:rgba(135,206,250,0.121426195);\">mosel</span> <span style=\"background-color:rgba(135,206,250,0.1893356);\">:</span> <span style=\"background-color:rgba(135,206,250,0.12354633);\">riesling</span> <span style=\"background-color:rgba(135,206,250,0.1604886);\">:</span> <span style=\"background-color:rgba(135,206,250,0.08676694);\">a</span> <span style=\"background-color:rgba(135,206,250,0.06952505);\">hint</span> <span style=\"background-color:rgba(135,206,250,0.07739842);\">of</span> <span style=\"background-color:rgba(135,206,250,0.07730494);\">floral</span> <span style=\"background-color:rgba(135,206,250,0.10575943);\">perfume</span> <span style=\"background-color:rgba(135,206,250,0.14202939);\">persists</span> <span style=\"background-color:rgba(135,206,250,0.062503554);\">throughout</span> <span style=\"background-color:rgba(135,206,250,0.10324053);\">this</span> <span style=\"background-color:rgba(135,206,250,0.046645947);\">off</span> <span style=\"background-color:rgba(135,206,250,0.05023069);\">-</span> <span style=\"background-color:rgba(135,206,250,0.08562556);\">dry</span> <span style=\"background-color:rgba(135,206,250,0.064059734);\">riesling</span> <span style=\"background-color:rgba(135,206,250,0.2755369);\">.</span> <span style=\"background-color:rgba(135,206,250,0.10510701);\">it</span> <span style=\"background-color:rgba(135,206,250,0.05540237);\">'</span> <span style=\"background-color:rgba(135,206,250,0.15002361);\">s</span> <span style=\"background-color:rgba(135,206,250,0.1272711);\">delicately</span> <span style=\"background-color:rgba(135,206,250,0.2725197);\">framed</span> <span style=\"background-color:rgba(135,206,250,0.32313836);\">with</span> <span style=\"background-color:rgba(135,206,250,0.15306231);\">ripe</span> <span style=\"background-color:rgba(135,206,250,0.4132345);\">,</span> <span style=\"background-color:rgba(135,206,250,0.2554182);\">ripe</span> <span style=\"background-color:rgba(135,206,250,0.30663252);\">apple</span> <span style=\"background-color:rgba(135,206,250,1.0);\">and</span> <span style=\"background-color:rgba(135,206,250,0.3968043);\">lime</span>"
            ]
          },
          "metadata": {}
        },
        {
          "output_type": "stream",
          "name": "stdout",
          "text": [
            "flavors:   \t93.03%\n",
            "notes:   \t5.2%\n",
            ",:   \t0.92%\n",
            "tones:   \t0.24%\n",
            "-:   \t0.19%\n",
            "--------\n",
            "\n"
          ]
        },
        {
          "output_type": "display_data",
          "data": {
            "text/plain": [
              "<IPython.core.display.HTML object>"
            ],
            "text/html": [
              "<span style=\"background-color:rgba(135,206,250,0.6922682);\">wine</span> <span style=\"background-color:rgba(135,206,250,1.0);\">review</span> <span style=\"background-color:rgba(135,206,250,0.2847872);\">:</span> <span style=\"background-color:rgba(135,206,250,0.44795662);\">germany</span> <span style=\"background-color:rgba(135,206,250,0.18602344);\">:</span> <span style=\"background-color:rgba(135,206,250,0.14490065);\">mosel</span> <span style=\"background-color:rgba(135,206,250,0.20278162);\">:</span> <span style=\"background-color:rgba(135,206,250,0.14837629);\">riesling</span> <span style=\"background-color:rgba(135,206,250,0.15777998);\">:</span> <span style=\"background-color:rgba(135,206,250,0.0695926);\">a</span> <span style=\"background-color:rgba(135,206,250,0.099720426);\">hint</span> <span style=\"background-color:rgba(135,206,250,0.07747283);\">of</span> <span style=\"background-color:rgba(135,206,250,0.09374599);\">floral</span> <span style=\"background-color:rgba(135,206,250,0.12769818);\">perfume</span> <span style=\"background-color:rgba(135,206,250,0.23012446);\">persists</span> <span style=\"background-color:rgba(135,206,250,0.12544402);\">throughout</span> <span style=\"background-color:rgba(135,206,250,0.13837591);\">this</span> <span style=\"background-color:rgba(135,206,250,0.15636899);\">off</span> <span style=\"background-color:rgba(135,206,250,0.047226697);\">-</span> <span style=\"background-color:rgba(135,206,250,0.089792244);\">dry</span> <span style=\"background-color:rgba(135,206,250,0.10537279);\">riesling</span> <span style=\"background-color:rgba(135,206,250,0.41786847);\">.</span> <span style=\"background-color:rgba(135,206,250,0.1466616);\">it</span> <span style=\"background-color:rgba(135,206,250,0.08048785);\">'</span> <span style=\"background-color:rgba(135,206,250,0.1674952);\">s</span> <span style=\"background-color:rgba(135,206,250,0.1866611);\">delicately</span> <span style=\"background-color:rgba(135,206,250,0.36111614);\">framed</span> <span style=\"background-color:rgba(135,206,250,0.77202755);\">with</span> <span style=\"background-color:rgba(135,206,250,0.18801188);\">ripe</span> <span style=\"background-color:rgba(135,206,250,0.4337266);\">,</span> <span style=\"background-color:rgba(135,206,250,0.27464253);\">ripe</span> <span style=\"background-color:rgba(135,206,250,0.767402);\">apple</span> <span style=\"background-color:rgba(135,206,250,0.83039135);\">and</span> <span style=\"background-color:rgba(135,206,250,0.99338174);\">lime</span> <span style=\"background-color:rgba(135,206,250,0.46655875);\">flavors</span>"
            ]
          },
          "metadata": {}
        },
        {
          "output_type": "stream",
          "name": "stdout",
          "text": [
            ".:   \t56.89%\n",
            ",:   \t37.31%\n",
            "that:   \t5.49%\n",
            "accented:   \t0.1%\n",
            "and:   \t0.08%\n",
            "--------\n",
            "\n"
          ]
        },
        {
          "output_type": "display_data",
          "data": {
            "text/plain": [
              "<IPython.core.display.HTML object>"
            ],
            "text/html": [
              "<span style=\"background-color:rgba(135,206,250,0.12941284);\">wine</span> <span style=\"background-color:rgba(135,206,250,0.24062364);\">review</span> <span style=\"background-color:rgba(135,206,250,0.1895259);\">:</span> <span style=\"background-color:rgba(135,206,250,0.38893095);\">germany</span> <span style=\"background-color:rgba(135,206,250,0.06074194);\">:</span> <span style=\"background-color:rgba(135,206,250,0.11452923);\">mosel</span> <span style=\"background-color:rgba(135,206,250,0.06775217);\">:</span> <span style=\"background-color:rgba(135,206,250,0.21128984);\">riesling</span> <span style=\"background-color:rgba(135,206,250,0.07710282);\">:</span> <span style=\"background-color:rgba(135,206,250,0.038966075);\">a</span> <span style=\"background-color:rgba(135,206,250,0.063420534);\">hint</span> <span style=\"background-color:rgba(135,206,250,0.032547507);\">of</span> <span style=\"background-color:rgba(135,206,250,0.063549586);\">floral</span> <span style=\"background-color:rgba(135,206,250,0.05612962);\">perfume</span> <span style=\"background-color:rgba(135,206,250,0.095706575);\">persists</span> <span style=\"background-color:rgba(135,206,250,0.0558734);\">throughout</span> <span style=\"background-color:rgba(135,206,250,0.102166355);\">this</span> <span style=\"background-color:rgba(135,206,250,0.053392008);\">off</span> <span style=\"background-color:rgba(135,206,250,0.024571626);\">-</span> <span style=\"background-color:rgba(135,206,250,0.07256428);\">dry</span> <span style=\"background-color:rgba(135,206,250,0.07558583);\">riesling</span> <span style=\"background-color:rgba(135,206,250,0.19311006);\">.</span> <span style=\"background-color:rgba(135,206,250,0.12738515);\">it</span> <span style=\"background-color:rgba(135,206,250,0.020336714);\">'</span> <span style=\"background-color:rgba(135,206,250,0.12187981);\">s</span> <span style=\"background-color:rgba(135,206,250,0.09648429);\">delicately</span> <span style=\"background-color:rgba(135,206,250,0.13780701);\">framed</span> <span style=\"background-color:rgba(135,206,250,0.19564183);\">with</span> <span style=\"background-color:rgba(135,206,250,0.1516258);\">ripe</span> <span style=\"background-color:rgba(135,206,250,0.092517845);\">,</span> <span style=\"background-color:rgba(135,206,250,0.21412647);\">ripe</span> <span style=\"background-color:rgba(135,206,250,0.41327175);\">apple</span> <span style=\"background-color:rgba(135,206,250,0.60998213);\">and</span> <span style=\"background-color:rgba(135,206,250,0.9205703);\">lime</span> <span style=\"background-color:rgba(135,206,250,1.0);\">flavors</span> <span style=\"background-color:rgba(135,206,250,0.3257857);\">,</span>"
            ]
          },
          "metadata": {}
        },
        {
          "output_type": "stream",
          "name": "stdout",
          "text": [
            "with:   \t50.89%\n",
            "but:   \t24.01%\n",
            "yet:   \t10.99%\n",
            "and:   \t6.13%\n",
            "brightened:   \t2.24%\n",
            "--------\n",
            "\n"
          ]
        },
        {
          "output_type": "display_data",
          "data": {
            "text/plain": [
              "<IPython.core.display.HTML object>"
            ],
            "text/html": [
              "<span style=\"background-color:rgba(135,206,250,0.36979547);\">wine</span> <span style=\"background-color:rgba(135,206,250,0.55255765);\">review</span> <span style=\"background-color:rgba(135,206,250,0.48664194);\">:</span> <span style=\"background-color:rgba(135,206,250,0.6681828);\">germany</span> <span style=\"background-color:rgba(135,206,250,0.22019036);\">:</span> <span style=\"background-color:rgba(135,206,250,0.24235973);\">mosel</span> <span style=\"background-color:rgba(135,206,250,0.18949002);\">:</span> <span style=\"background-color:rgba(135,206,250,0.50239784);\">riesling</span> <span style=\"background-color:rgba(135,206,250,0.16146949);\">:</span> <span style=\"background-color:rgba(135,206,250,0.073463604);\">a</span> <span style=\"background-color:rgba(135,206,250,0.09344586);\">hint</span> <span style=\"background-color:rgba(135,206,250,0.04202928);\">of</span> <span style=\"background-color:rgba(135,206,250,0.13100995);\">floral</span> <span style=\"background-color:rgba(135,206,250,0.09115149);\">perfume</span> <span style=\"background-color:rgba(135,206,250,0.12757021);\">persists</span> <span style=\"background-color:rgba(135,206,250,0.07173639);\">throughout</span> <span style=\"background-color:rgba(135,206,250,0.08264221);\">this</span> <span style=\"background-color:rgba(135,206,250,0.050040774);\">off</span> <span style=\"background-color:rgba(135,206,250,0.042608444);\">-</span> <span style=\"background-color:rgba(135,206,250,0.12625228);\">dry</span> <span style=\"background-color:rgba(135,206,250,0.14449552);\">riesling</span> <span style=\"background-color:rgba(135,206,250,0.19913445);\">.</span> <span style=\"background-color:rgba(135,206,250,0.06300881);\">it</span> <span style=\"background-color:rgba(135,206,250,0.035210297);\">'</span> <span style=\"background-color:rgba(135,206,250,0.082065925);\">s</span> <span style=\"background-color:rgba(135,206,250,0.13503103);\">delicately</span> <span style=\"background-color:rgba(135,206,250,0.14952163);\">framed</span> <span style=\"background-color:rgba(135,206,250,0.07625443);\">with</span> <span style=\"background-color:rgba(135,206,250,0.21546286);\">ripe</span> <span style=\"background-color:rgba(135,206,250,0.1728962);\">,</span> <span style=\"background-color:rgba(135,206,250,0.29981703);\">ripe</span> <span style=\"background-color:rgba(135,206,250,0.34657517);\">apple</span> <span style=\"background-color:rgba(135,206,250,0.39232644);\">and</span> <span style=\"background-color:rgba(135,206,250,0.41213417);\">lime</span> <span style=\"background-color:rgba(135,206,250,0.8401159);\">flavors</span> <span style=\"background-color:rgba(135,206,250,1.0);\">,</span> <span style=\"background-color:rgba(135,206,250,0.55230784);\">with</span>"
            ]
          },
          "metadata": {}
        },
        {
          "output_type": "stream",
          "name": "stdout",
          "text": [
            "a:   \t97.93%\n",
            "an:   \t0.63%\n",
            "hints:   \t0.56%\n",
            "just:   \t0.37%\n",
            "loads:   \t0.09%\n",
            "--------\n",
            "\n"
          ]
        },
        {
          "output_type": "display_data",
          "data": {
            "text/plain": [
              "<IPython.core.display.HTML object>"
            ],
            "text/html": [
              "<span style=\"background-color:rgba(135,206,250,0.25010976);\">wine</span> <span style=\"background-color:rgba(135,206,250,0.31817344);\">review</span> <span style=\"background-color:rgba(135,206,250,0.34330752);\">:</span> <span style=\"background-color:rgba(135,206,250,0.5805651);\">germany</span> <span style=\"background-color:rgba(135,206,250,0.0649452);\">:</span> <span style=\"background-color:rgba(135,206,250,0.23310578);\">mosel</span> <span style=\"background-color:rgba(135,206,250,0.07011184);\">:</span> <span style=\"background-color:rgba(135,206,250,0.25918326);\">riesling</span> <span style=\"background-color:rgba(135,206,250,0.08240317);\">:</span> <span style=\"background-color:rgba(135,206,250,0.033536676);\">a</span> <span style=\"background-color:rgba(135,206,250,0.063272275);\">hint</span> <span style=\"background-color:rgba(135,206,250,0.028921738);\">of</span> <span style=\"background-color:rgba(135,206,250,0.064836085);\">floral</span> <span style=\"background-color:rgba(135,206,250,0.07036788);\">perfume</span> <span style=\"background-color:rgba(135,206,250,0.099925674);\">persists</span> <span style=\"background-color:rgba(135,206,250,0.06035661);\">throughout</span> <span style=\"background-color:rgba(135,206,250,0.057212334);\">this</span> <span style=\"background-color:rgba(135,206,250,0.05278699);\">off</span> <span style=\"background-color:rgba(135,206,250,0.021015517);\">-</span> <span style=\"background-color:rgba(135,206,250,0.0822659);\">dry</span> <span style=\"background-color:rgba(135,206,250,0.08740679);\">riesling</span> <span style=\"background-color:rgba(135,206,250,0.124911085);\">.</span> <span style=\"background-color:rgba(135,206,250,0.04322415);\">it</span> <span style=\"background-color:rgba(135,206,250,0.015793694);\">'</span> <span style=\"background-color:rgba(135,206,250,0.05252266);\">s</span> <span style=\"background-color:rgba(135,206,250,0.09102512);\">delicately</span> <span style=\"background-color:rgba(135,206,250,0.12771988);\">framed</span> <span style=\"background-color:rgba(135,206,250,0.08329786);\">with</span> <span style=\"background-color:rgba(135,206,250,0.12078785);\">ripe</span> <span style=\"background-color:rgba(135,206,250,0.10005093);\">,</span> <span style=\"background-color:rgba(135,206,250,0.14652644);\">ripe</span> <span style=\"background-color:rgba(135,206,250,0.21030697);\">apple</span> <span style=\"background-color:rgba(135,206,250,0.20396338);\">and</span> <span style=\"background-color:rgba(135,206,250,0.33912954);\">lime</span> <span style=\"background-color:rgba(135,206,250,0.65434015);\">flavors</span> <span style=\"background-color:rgba(135,206,250,0.5283478);\">,</span> <span style=\"background-color:rgba(135,206,250,1.0);\">with</span> <span style=\"background-color:rgba(135,206,250,0.24822542);\">a</span>"
            ]
          },
          "metadata": {}
        },
        {
          "output_type": "stream",
          "name": "stdout",
          "text": [
            "hint:   \t30.77%\n",
            "kiss:   \t29.6%\n",
            "touch:   \t9.69%\n",
            "lingering:   \t6.14%\n",
            "brisk:   \t3.17%\n",
            "--------\n",
            "\n"
          ]
        },
        {
          "output_type": "display_data",
          "data": {
            "text/plain": [
              "<IPython.core.display.HTML object>"
            ],
            "text/html": [
              "<span style=\"background-color:rgba(135,206,250,0.39812785);\">wine</span> <span style=\"background-color:rgba(135,206,250,0.5636964);\">review</span> <span style=\"background-color:rgba(135,206,250,0.48574358);\">:</span> <span style=\"background-color:rgba(135,206,250,0.3872164);\">germany</span> <span style=\"background-color:rgba(135,206,250,0.21732877);\">:</span> <span style=\"background-color:rgba(135,206,250,0.12836093);\">mosel</span> <span style=\"background-color:rgba(135,206,250,0.17937693);\">:</span> <span style=\"background-color:rgba(135,206,250,0.17961484);\">riesling</span> <span style=\"background-color:rgba(135,206,250,0.14627124);\">:</span> <span style=\"background-color:rgba(135,206,250,0.05470533);\">a</span> <span style=\"background-color:rgba(135,206,250,0.05754972);\">hint</span> <span style=\"background-color:rgba(135,206,250,0.057228968);\">of</span> <span style=\"background-color:rgba(135,206,250,0.05474713);\">floral</span> <span style=\"background-color:rgba(135,206,250,0.05040603);\">perfume</span> <span style=\"background-color:rgba(135,206,250,0.10057456);\">persists</span> <span style=\"background-color:rgba(135,206,250,0.060137924);\">throughout</span> <span style=\"background-color:rgba(135,206,250,0.070872694);\">this</span> <span style=\"background-color:rgba(135,206,250,0.06817315);\">off</span> <span style=\"background-color:rgba(135,206,250,0.03377004);\">-</span> <span style=\"background-color:rgba(135,206,250,0.048229575);\">dry</span> <span style=\"background-color:rgba(135,206,250,0.0657061);\">riesling</span> <span style=\"background-color:rgba(135,206,250,0.17342916);\">.</span> <span style=\"background-color:rgba(135,206,250,0.094031535);\">it</span> <span style=\"background-color:rgba(135,206,250,0.040380076);\">'</span> <span style=\"background-color:rgba(135,206,250,0.10334615);\">s</span> <span style=\"background-color:rgba(135,206,250,0.07998629);\">delicately</span> <span style=\"background-color:rgba(135,206,250,0.17448068);\">framed</span> <span style=\"background-color:rgba(135,206,250,0.18391213);\">with</span> <span style=\"background-color:rgba(135,206,250,0.06513858);\">ripe</span> <span style=\"background-color:rgba(135,206,250,0.16691135);\">,</span> <span style=\"background-color:rgba(135,206,250,0.084283575);\">ripe</span> <span style=\"background-color:rgba(135,206,250,0.18973036);\">apple</span> <span style=\"background-color:rgba(135,206,250,0.21789508);\">and</span> <span style=\"background-color:rgba(135,206,250,0.22596152);\">lime</span> <span style=\"background-color:rgba(135,206,250,0.39887613);\">flavors</span> <span style=\"background-color:rgba(135,206,250,0.69210494);\">,</span> <span style=\"background-color:rgba(135,206,250,1.0);\">with</span> <span style=\"background-color:rgba(135,206,250,0.9865684);\">a</span> <span style=\"background-color:rgba(135,206,250,0.490926);\">kiss</span>"
            ]
          },
          "metadata": {}
        },
        {
          "output_type": "stream",
          "name": "stdout",
          "text": [
            "of:   \t100.0%\n",
            "that:   \t0.0%\n",
            "on:   \t0.0%\n",
            "from:   \t0.0%\n",
            "and:   \t0.0%\n",
            "--------\n",
            "\n"
          ]
        },
        {
          "output_type": "display_data",
          "data": {
            "text/plain": [
              "<IPython.core.display.HTML object>"
            ],
            "text/html": [
              "<span style=\"background-color:rgba(135,206,250,0.12152556);\">wine</span> <span style=\"background-color:rgba(135,206,250,0.16702193);\">review</span> <span style=\"background-color:rgba(135,206,250,0.20016626);\">:</span> <span style=\"background-color:rgba(135,206,250,0.37385076);\">germany</span> <span style=\"background-color:rgba(135,206,250,0.060633596);\">:</span> <span style=\"background-color:rgba(135,206,250,0.1555843);\">mosel</span> <span style=\"background-color:rgba(135,206,250,0.06988789);\">:</span> <span style=\"background-color:rgba(135,206,250,0.30636173);\">riesling</span> <span style=\"background-color:rgba(135,206,250,0.062425084);\">:</span> <span style=\"background-color:rgba(135,206,250,0.039848384);\">a</span> <span style=\"background-color:rgba(135,206,250,0.045743622);\">hint</span> <span style=\"background-color:rgba(135,206,250,0.016462468);\">of</span> <span style=\"background-color:rgba(135,206,250,0.089529835);\">floral</span> <span style=\"background-color:rgba(135,206,250,0.03995058);\">perfume</span> <span style=\"background-color:rgba(135,206,250,0.055718258);\">persists</span> <span style=\"background-color:rgba(135,206,250,0.03824413);\">throughout</span> <span style=\"background-color:rgba(135,206,250,0.046610773);\">this</span> <span style=\"background-color:rgba(135,206,250,0.027934397);\">off</span> <span style=\"background-color:rgba(135,206,250,0.026215388);\">-</span> <span style=\"background-color:rgba(135,206,250,0.066123836);\">dry</span> <span style=\"background-color:rgba(135,206,250,0.094917566);\">riesling</span> <span style=\"background-color:rgba(135,206,250,0.092590034);\">.</span> <span style=\"background-color:rgba(135,206,250,0.03943107);\">it</span> <span style=\"background-color:rgba(135,206,250,0.018726557);\">'</span> <span style=\"background-color:rgba(135,206,250,0.045733);\">s</span> <span style=\"background-color:rgba(135,206,250,0.061966404);\">delicately</span> <span style=\"background-color:rgba(135,206,250,0.060829252);\">framed</span> <span style=\"background-color:rgba(135,206,250,0.03983272);\">with</span> <span style=\"background-color:rgba(135,206,250,0.10311678);\">ripe</span> <span style=\"background-color:rgba(135,206,250,0.06148323);\">,</span> <span style=\"background-color:rgba(135,206,250,0.1229667);\">ripe</span> <span style=\"background-color:rgba(135,206,250,0.13782315);\">apple</span> <span style=\"background-color:rgba(135,206,250,0.09381681);\">and</span> <span style=\"background-color:rgba(135,206,250,0.20713878);\">lime</span> <span style=\"background-color:rgba(135,206,250,0.34574);\">flavors</span> <span style=\"background-color:rgba(135,206,250,0.19323355);\">,</span> <span style=\"background-color:rgba(135,206,250,0.31275013);\">with</span> <span style=\"background-color:rgba(135,206,250,0.40872732);\">a</span> <span style=\"background-color:rgba(135,206,250,1.0);\">kiss</span> <span style=\"background-color:rgba(135,206,250,0.20097415);\">of</span>"
            ]
          },
          "metadata": {}
        },
        {
          "output_type": "stream",
          "name": "stdout",
          "text": [
            "honey:   \t84.05%\n",
            "sweet:   \t13.4%\n",
            "honeysuckle:   \t0.47%\n",
            "sweetness:   \t0.29%\n",
            "blossom:   \t0.2%\n",
            "--------\n",
            "\n"
          ]
        },
        {
          "output_type": "display_data",
          "data": {
            "text/plain": [
              "<IPython.core.display.HTML object>"
            ],
            "text/html": [
              "<span style=\"background-color:rgba(135,206,250,0.28591934);\">wine</span> <span style=\"background-color:rgba(135,206,250,0.27011165);\">review</span> <span style=\"background-color:rgba(135,206,250,0.42847058);\">:</span> <span style=\"background-color:rgba(135,206,250,0.5355686);\">germany</span> <span style=\"background-color:rgba(135,206,250,0.08866412);\">:</span> <span style=\"background-color:rgba(135,206,250,0.20834726);\">mosel</span> <span style=\"background-color:rgba(135,206,250,0.12550549);\">:</span> <span style=\"background-color:rgba(135,206,250,0.4019517);\">riesling</span> <span style=\"background-color:rgba(135,206,250,0.10233786);\">:</span> <span style=\"background-color:rgba(135,206,250,0.058858868);\">a</span> <span style=\"background-color:rgba(135,206,250,0.07538336);\">hint</span> <span style=\"background-color:rgba(135,206,250,0.04065731);\">of</span> <span style=\"background-color:rgba(135,206,250,0.063439615);\">floral</span> <span style=\"background-color:rgba(135,206,250,0.05876058);\">perfume</span> <span style=\"background-color:rgba(135,206,250,0.08728113);\">persists</span> <span style=\"background-color:rgba(135,206,250,0.05392329);\">throughout</span> <span style=\"background-color:rgba(135,206,250,0.051885396);\">this</span> <span style=\"background-color:rgba(135,206,250,0.045705777);\">off</span> <span style=\"background-color:rgba(135,206,250,0.022272598);\">-</span> <span style=\"background-color:rgba(135,206,250,0.06510136);\">dry</span> <span style=\"background-color:rgba(135,206,250,0.1296453);\">riesling</span> <span style=\"background-color:rgba(135,206,250,0.13518618);\">.</span> <span style=\"background-color:rgba(135,206,250,0.045434967);\">it</span> <span style=\"background-color:rgba(135,206,250,0.0216916);\">'</span> <span style=\"background-color:rgba(135,206,250,0.05917253);\">s</span> <span style=\"background-color:rgba(135,206,250,0.05057578);\">delicately</span> <span style=\"background-color:rgba(135,206,250,0.106185585);\">framed</span> <span style=\"background-color:rgba(135,206,250,0.07092653);\">with</span> <span style=\"background-color:rgba(135,206,250,0.06620461);\">ripe</span> <span style=\"background-color:rgba(135,206,250,0.07033678);\">,</span> <span style=\"background-color:rgba(135,206,250,0.07894369);\">ripe</span> <span style=\"background-color:rgba(135,206,250,0.1927296);\">apple</span> <span style=\"background-color:rgba(135,206,250,0.1206159);\">and</span> <span style=\"background-color:rgba(135,206,250,0.29731333);\">lime</span> <span style=\"background-color:rgba(135,206,250,0.35636422);\">flavors</span> <span style=\"background-color:rgba(135,206,250,0.1668039);\">,</span> <span style=\"background-color:rgba(135,206,250,0.44749773);\">with</span> <span style=\"background-color:rgba(135,206,250,0.55825764);\">a</span> <span style=\"background-color:rgba(135,206,250,0.77487165);\">kiss</span> <span style=\"background-color:rgba(135,206,250,1.0);\">of</span> <span style=\"background-color:rgba(135,206,250,0.34529006);\">sweet</span>"
            ]
          },
          "metadata": {}
        },
        {
          "output_type": "stream",
          "name": "stdout",
          "text": [
            ",:   \t37.84%\n",
            "honey:   \t29.96%\n",
            "spice:   \t13.05%\n",
            "smoke:   \t3.98%\n",
            "-:   \t3.52%\n",
            "--------\n",
            "\n"
          ]
        },
        {
          "output_type": "display_data",
          "data": {
            "text/plain": [
              "<IPython.core.display.HTML object>"
            ],
            "text/html": [
              "<span style=\"background-color:rgba(135,206,250,0.3677001);\">wine</span> <span style=\"background-color:rgba(135,206,250,0.2981981);\">review</span> <span style=\"background-color:rgba(135,206,250,0.35474107);\">:</span> <span style=\"background-color:rgba(135,206,250,0.4674069);\">germany</span> <span style=\"background-color:rgba(135,206,250,0.0903483);\">:</span> <span style=\"background-color:rgba(135,206,250,0.075960465);\">mosel</span> <span style=\"background-color:rgba(135,206,250,0.14101197);\">:</span> <span style=\"background-color:rgba(135,206,250,0.114040025);\">riesling</span> <span style=\"background-color:rgba(135,206,250,0.10269695);\">:</span> <span style=\"background-color:rgba(135,206,250,0.060621973);\">a</span> <span style=\"background-color:rgba(135,206,250,0.050560623);\">hint</span> <span style=\"background-color:rgba(135,206,250,0.0555766);\">of</span> <span style=\"background-color:rgba(135,206,250,0.049754024);\">floral</span> <span style=\"background-color:rgba(135,206,250,0.07576534);\">perfume</span> <span style=\"background-color:rgba(135,206,250,0.12350591);\">persists</span> <span style=\"background-color:rgba(135,206,250,0.051189218);\">throughout</span> <span style=\"background-color:rgba(135,206,250,0.06669457);\">this</span> <span style=\"background-color:rgba(135,206,250,0.04173925);\">off</span> <span style=\"background-color:rgba(135,206,250,0.024112154);\">-</span> <span style=\"background-color:rgba(135,206,250,0.04029122);\">dry</span> <span style=\"background-color:rgba(135,206,250,0.040299047);\">riesling</span> <span style=\"background-color:rgba(135,206,250,0.19201964);\">.</span> <span style=\"background-color:rgba(135,206,250,0.07322275);\">it</span> <span style=\"background-color:rgba(135,206,250,0.021483608);\">'</span> <span style=\"background-color:rgba(135,206,250,0.08384585);\">s</span> <span style=\"background-color:rgba(135,206,250,0.052055154);\">delicately</span> <span style=\"background-color:rgba(135,206,250,0.19951722);\">framed</span> <span style=\"background-color:rgba(135,206,250,0.17727111);\">with</span> <span style=\"background-color:rgba(135,206,250,0.037546623);\">ripe</span> <span style=\"background-color:rgba(135,206,250,0.08806545);\">,</span> <span style=\"background-color:rgba(135,206,250,0.048790175);\">ripe</span> <span style=\"background-color:rgba(135,206,250,0.10421493);\">apple</span> <span style=\"background-color:rgba(135,206,250,0.124249175);\">and</span> <span style=\"background-color:rgba(135,206,250,0.121981606);\">lime</span> <span style=\"background-color:rgba(135,206,250,0.6360026);\">flavors</span> <span style=\"background-color:rgba(135,206,250,0.23336725);\">,</span> <span style=\"background-color:rgba(135,206,250,0.61441463);\">with</span> <span style=\"background-color:rgba(135,206,250,0.75036186);\">a</span> <span style=\"background-color:rgba(135,206,250,0.84843737);\">kiss</span> <span style=\"background-color:rgba(135,206,250,1.0);\">of</span> <span style=\"background-color:rgba(135,206,250,0.4342366);\">sweet</span> <span style=\"background-color:rgba(135,206,250,0.44457948);\">spice</span>"
            ]
          },
          "metadata": {}
        },
        {
          "output_type": "stream",
          "name": "stdout",
          "text": [
            ".:   \t48.22%\n",
            "on:   \t42.75%\n",
            "and:   \t7.65%\n",
            "that:   \t0.97%\n",
            "from:   \t0.26%\n",
            "--------\n",
            "\n"
          ]
        },
        {
          "output_type": "display_data",
          "data": {
            "text/plain": [
              "<IPython.core.display.HTML object>"
            ],
            "text/html": [
              "<span style=\"background-color:rgba(135,206,250,0.3682133);\">wine</span> <span style=\"background-color:rgba(135,206,250,0.41899204);\">review</span> <span style=\"background-color:rgba(135,206,250,0.79001904);\">:</span> <span style=\"background-color:rgba(135,206,250,0.66287845);\">germany</span> <span style=\"background-color:rgba(135,206,250,0.18164606);\">:</span> <span style=\"background-color:rgba(135,206,250,0.21313226);\">mosel</span> <span style=\"background-color:rgba(135,206,250,0.22225809);\">:</span> <span style=\"background-color:rgba(135,206,250,0.33256328);\">riesling</span> <span style=\"background-color:rgba(135,206,250,0.20857127);\">:</span> <span style=\"background-color:rgba(135,206,250,0.060517713);\">a</span> <span style=\"background-color:rgba(135,206,250,0.06369347);\">hint</span> <span style=\"background-color:rgba(135,206,250,0.05724451);\">of</span> <span style=\"background-color:rgba(135,206,250,0.08052001);\">floral</span> <span style=\"background-color:rgba(135,206,250,0.07074455);\">perfume</span> <span style=\"background-color:rgba(135,206,250,0.08274271);\">persists</span> <span style=\"background-color:rgba(135,206,250,0.044931136);\">throughout</span> <span style=\"background-color:rgba(135,206,250,0.12579812);\">this</span> <span style=\"background-color:rgba(135,206,250,0.045582015);\">off</span> <span style=\"background-color:rgba(135,206,250,0.036340356);\">-</span> <span style=\"background-color:rgba(135,206,250,0.06851019);\">dry</span> <span style=\"background-color:rgba(135,206,250,0.100668274);\">riesling</span> <span style=\"background-color:rgba(135,206,250,0.13748656);\">.</span> <span style=\"background-color:rgba(135,206,250,0.06602597);\">it</span> <span style=\"background-color:rgba(135,206,250,0.025341602);\">'</span> <span style=\"background-color:rgba(135,206,250,0.09271147);\">s</span> <span style=\"background-color:rgba(135,206,250,0.05990399);\">delicately</span> <span style=\"background-color:rgba(135,206,250,0.1013136);\">framed</span> <span style=\"background-color:rgba(135,206,250,0.09277345);\">with</span> <span style=\"background-color:rgba(135,206,250,0.08753289);\">ripe</span> <span style=\"background-color:rgba(135,206,250,0.10944983);\">,</span> <span style=\"background-color:rgba(135,206,250,0.09646859);\">ripe</span> <span style=\"background-color:rgba(135,206,250,0.116232626);\">apple</span> <span style=\"background-color:rgba(135,206,250,0.16481477);\">and</span> <span style=\"background-color:rgba(135,206,250,0.13165349);\">lime</span> <span style=\"background-color:rgba(135,206,250,0.28014752);\">flavors</span> <span style=\"background-color:rgba(135,206,250,0.23598783);\">,</span> <span style=\"background-color:rgba(135,206,250,0.24917431);\">with</span> <span style=\"background-color:rgba(135,206,250,0.27627945);\">a</span> <span style=\"background-color:rgba(135,206,250,0.45402378);\">kiss</span> <span style=\"background-color:rgba(135,206,250,0.3840627);\">of</span> <span style=\"background-color:rgba(135,206,250,0.8880065);\">sweet</span> <span style=\"background-color:rgba(135,206,250,1.0);\">spice</span> <span style=\"background-color:rgba(135,206,250,0.3096342);\">on</span>"
            ]
          },
          "metadata": {}
        },
        {
          "output_type": "stream",
          "name": "stdout",
          "text": [
            "the:   \t100.0%\n",
            "a:   \t0.0%\n",
            "this:   \t0.0%\n",
            "an:   \t0.0%\n",
            "its:   \t0.0%\n",
            "--------\n",
            "\n"
          ]
        },
        {
          "output_type": "display_data",
          "data": {
            "text/plain": [
              "<IPython.core.display.HTML object>"
            ],
            "text/html": [
              "<span style=\"background-color:rgba(135,206,250,0.16725583);\">wine</span> <span style=\"background-color:rgba(135,206,250,0.2295136);\">review</span> <span style=\"background-color:rgba(135,206,250,0.58498436);\">:</span> <span style=\"background-color:rgba(135,206,250,0.55061466);\">germany</span> <span style=\"background-color:rgba(135,206,250,0.057242867);\">:</span> <span style=\"background-color:rgba(135,206,250,0.22308648);\">mosel</span> <span style=\"background-color:rgba(135,206,250,0.07219462);\">:</span> <span style=\"background-color:rgba(135,206,250,0.32610404);\">riesling</span> <span style=\"background-color:rgba(135,206,250,0.07482133);\">:</span> <span style=\"background-color:rgba(135,206,250,0.036959365);\">a</span> <span style=\"background-color:rgba(135,206,250,0.06397038);\">hint</span> <span style=\"background-color:rgba(135,206,250,0.022295477);\">of</span> <span style=\"background-color:rgba(135,206,250,0.060120054);\">floral</span> <span style=\"background-color:rgba(135,206,250,0.071397655);\">perfume</span> <span style=\"background-color:rgba(135,206,250,0.09266369);\">persists</span> <span style=\"background-color:rgba(135,206,250,0.05059428);\">throughout</span> <span style=\"background-color:rgba(135,206,250,0.039739672);\">this</span> <span style=\"background-color:rgba(135,206,250,0.030240238);\">off</span> <span style=\"background-color:rgba(135,206,250,0.019904934);\">-</span> <span style=\"background-color:rgba(135,206,250,0.067198195);\">dry</span> <span style=\"background-color:rgba(135,206,250,0.08748159);\">riesling</span> <span style=\"background-color:rgba(135,206,250,0.09340688);\">.</span> <span style=\"background-color:rgba(135,206,250,0.03600173);\">it</span> <span style=\"background-color:rgba(135,206,250,0.009758904);\">'</span> <span style=\"background-color:rgba(135,206,250,0.039421316);\">s</span> <span style=\"background-color:rgba(135,206,250,0.045092825);\">delicately</span> <span style=\"background-color:rgba(135,206,250,0.0852101);\">framed</span> <span style=\"background-color:rgba(135,206,250,0.04091371);\">with</span> <span style=\"background-color:rgba(135,206,250,0.07439475);\">ripe</span> <span style=\"background-color:rgba(135,206,250,0.05141375);\">,</span> <span style=\"background-color:rgba(135,206,250,0.08258986);\">ripe</span> <span style=\"background-color:rgba(135,206,250,0.11214492);\">apple</span> <span style=\"background-color:rgba(135,206,250,0.058068592);\">and</span> <span style=\"background-color:rgba(135,206,250,0.12325678);\">lime</span> <span style=\"background-color:rgba(135,206,250,0.3039178);\">flavors</span> <span style=\"background-color:rgba(135,206,250,0.1353861);\">,</span> <span style=\"background-color:rgba(135,206,250,0.17929196);\">with</span> <span style=\"background-color:rgba(135,206,250,0.13621603);\">a</span> <span style=\"background-color:rgba(135,206,250,0.39094344);\">kiss</span> <span style=\"background-color:rgba(135,206,250,0.29521695);\">of</span> <span style=\"background-color:rgba(135,206,250,0.4828618);\">sweet</span> <span style=\"background-color:rgba(135,206,250,0.7405326);\">spice</span> <span style=\"background-color:rgba(135,206,250,1.0);\">on</span> <span style=\"background-color:rgba(135,206,250,0.34124628);\">the</span>"
            ]
          },
          "metadata": {}
        },
        {
          "output_type": "stream",
          "name": "stdout",
          "text": [
            "finish:   \t87.16%\n",
            "palate:   \t6.6%\n",
            "midpalate:   \t4.45%\n",
            "nose:   \t1.76%\n",
            "long:   \t0.02%\n",
            "--------\n",
            "\n"
          ]
        },
        {
          "output_type": "display_data",
          "data": {
            "text/plain": [
              "<IPython.core.display.HTML object>"
            ],
            "text/html": [
              "<span style=\"background-color:rgba(135,206,250,0.2582402);\">wine</span> <span style=\"background-color:rgba(135,206,250,0.35978025);\">review</span> <span style=\"background-color:rgba(135,206,250,0.39968088);\">:</span> <span style=\"background-color:rgba(135,206,250,0.35834882);\">germany</span> <span style=\"background-color:rgba(135,206,250,0.10443943);\">:</span> <span style=\"background-color:rgba(135,206,250,0.14163592);\">mosel</span> <span style=\"background-color:rgba(135,206,250,0.11578955);\">:</span> <span style=\"background-color:rgba(135,206,250,0.13521552);\">riesling</span> <span style=\"background-color:rgba(135,206,250,0.101075485);\">:</span> <span style=\"background-color:rgba(135,206,250,0.058555122);\">a</span> <span style=\"background-color:rgba(135,206,250,0.057514697);\">hint</span> <span style=\"background-color:rgba(135,206,250,0.027433785);\">of</span> <span style=\"background-color:rgba(135,206,250,0.04855416);\">floral</span> <span style=\"background-color:rgba(135,206,250,0.047617126);\">perfume</span> <span style=\"background-color:rgba(135,206,250,0.109347254);\">persists</span> <span style=\"background-color:rgba(135,206,250,0.029695641);\">throughout</span> <span style=\"background-color:rgba(135,206,250,0.03387733);\">this</span> <span style=\"background-color:rgba(135,206,250,0.04753387);\">off</span> <span style=\"background-color:rgba(135,206,250,0.017475352);\">-</span> <span style=\"background-color:rgba(135,206,250,0.04028101);\">dry</span> <span style=\"background-color:rgba(135,206,250,0.039822217);\">riesling</span> <span style=\"background-color:rgba(135,206,250,0.11475089);\">.</span> <span style=\"background-color:rgba(135,206,250,0.04236855);\">it</span> <span style=\"background-color:rgba(135,206,250,0.021679917);\">'</span> <span style=\"background-color:rgba(135,206,250,0.055608224);\">s</span> <span style=\"background-color:rgba(135,206,250,0.05214683);\">delicately</span> <span style=\"background-color:rgba(135,206,250,0.09381658);\">framed</span> <span style=\"background-color:rgba(135,206,250,0.116508424);\">with</span> <span style=\"background-color:rgba(135,206,250,0.05246987);\">ripe</span> <span style=\"background-color:rgba(135,206,250,0.057658274);\">,</span> <span style=\"background-color:rgba(135,206,250,0.060582716);\">ripe</span> <span style=\"background-color:rgba(135,206,250,0.07935599);\">apple</span> <span style=\"background-color:rgba(135,206,250,0.08144125);\">and</span> <span style=\"background-color:rgba(135,206,250,0.11062658);\">lime</span> <span style=\"background-color:rgba(135,206,250,0.15736486);\">flavors</span> <span style=\"background-color:rgba(135,206,250,0.11248546);\">,</span> <span style=\"background-color:rgba(135,206,250,0.3060255);\">with</span> <span style=\"background-color:rgba(135,206,250,0.246891);\">a</span> <span style=\"background-color:rgba(135,206,250,0.30780277);\">kiss</span> <span style=\"background-color:rgba(135,206,250,0.26998112);\">of</span> <span style=\"background-color:rgba(135,206,250,0.332353);\">sweet</span> <span style=\"background-color:rgba(135,206,250,0.3979981);\">spice</span> <span style=\"background-color:rgba(135,206,250,0.9779631);\">on</span> <span style=\"background-color:rgba(135,206,250,1.0);\">the</span> <span style=\"background-color:rgba(135,206,250,0.4850935);\">finish</span>"
            ]
          },
          "metadata": {}
        },
        {
          "output_type": "stream",
          "name": "stdout",
          "text": [
            ".:   \t99.98%\n",
            ",:   \t0.02%\n",
            "that:   \t0.0%\n",
            "and:   \t0.0%\n",
            "with:   \t0.0%\n",
            "--------\n",
            "\n"
          ]
        },
        {
          "output_type": "display_data",
          "data": {
            "text/plain": [
              "<IPython.core.display.HTML object>"
            ],
            "text/html": [
              "<span style=\"background-color:rgba(135,206,250,0.94386995);\">wine</span> <span style=\"background-color:rgba(135,206,250,0.33808586);\">review</span> <span style=\"background-color:rgba(135,206,250,0.6187316);\">:</span> <span style=\"background-color:rgba(135,206,250,1.0);\">germany</span> <span style=\"background-color:rgba(135,206,250,0.326516);\">:</span> <span style=\"background-color:rgba(135,206,250,0.30940717);\">mosel</span> <span style=\"background-color:rgba(135,206,250,0.31669554);\">:</span> <span style=\"background-color:rgba(135,206,250,0.42279518);\">riesling</span> <span style=\"background-color:rgba(135,206,250,0.22464257);\">:</span> <span style=\"background-color:rgba(135,206,250,0.06644247);\">a</span> <span style=\"background-color:rgba(135,206,250,0.05798467);\">hint</span> <span style=\"background-color:rgba(135,206,250,0.032124735);\">of</span> <span style=\"background-color:rgba(135,206,250,0.07530229);\">floral</span> <span style=\"background-color:rgba(135,206,250,0.088938214);\">perfume</span> <span style=\"background-color:rgba(135,206,250,0.09129937);\">persists</span> <span style=\"background-color:rgba(135,206,250,0.064240225);\">throughout</span> <span style=\"background-color:rgba(135,206,250,0.093478136);\">this</span> <span style=\"background-color:rgba(135,206,250,0.038522);\">off</span> <span style=\"background-color:rgba(135,206,250,0.034772836);\">-</span> <span style=\"background-color:rgba(135,206,250,0.07824041);\">dry</span> <span style=\"background-color:rgba(135,206,250,0.07786773);\">riesling</span> <span style=\"background-color:rgba(135,206,250,0.10996318);\">.</span> <span style=\"background-color:rgba(135,206,250,0.045520242);\">it</span> <span style=\"background-color:rgba(135,206,250,0.011570107);\">'</span> <span style=\"background-color:rgba(135,206,250,0.05445684);\">s</span> <span style=\"background-color:rgba(135,206,250,0.073577434);\">delicately</span> <span style=\"background-color:rgba(135,206,250,0.084281124);\">framed</span> <span style=\"background-color:rgba(135,206,250,0.063315555);\">with</span> <span style=\"background-color:rgba(135,206,250,0.073670015);\">ripe</span> <span style=\"background-color:rgba(135,206,250,0.053554244);\">,</span> <span style=\"background-color:rgba(135,206,250,0.082422234);\">ripe</span> <span style=\"background-color:rgba(135,206,250,0.10042515);\">apple</span> <span style=\"background-color:rgba(135,206,250,0.057592776);\">and</span> <span style=\"background-color:rgba(135,206,250,0.13137822);\">lime</span> <span style=\"background-color:rgba(135,206,250,0.22376607);\">flavors</span> <span style=\"background-color:rgba(135,206,250,0.07130222);\">,</span> <span style=\"background-color:rgba(135,206,250,0.0971127);\">with</span> <span style=\"background-color:rgba(135,206,250,0.07727306);\">a</span> <span style=\"background-color:rgba(135,206,250,0.17803477);\">kiss</span> <span style=\"background-color:rgba(135,206,250,0.065955244);\">of</span> <span style=\"background-color:rgba(135,206,250,0.16434507);\">sweet</span> <span style=\"background-color:rgba(135,206,250,0.16411196);\">spice</span> <span style=\"background-color:rgba(135,206,250,0.12674683);\">on</span> <span style=\"background-color:rgba(135,206,250,0.19234915);\">the</span> <span style=\"background-color:rgba(135,206,250,0.6688092);\">finish</span> <span style=\"background-color:rgba(135,206,250,0.42428166);\">.</span>"
            ]
          },
          "metadata": {}
        },
        {
          "output_type": "stream",
          "name": "stdout",
          "text": [
            ":   \t95.37%\n",
            "drink:   \t3.74%\n",
            "it:   \t0.74%\n",
            "drinks:   \t0.09%\n",
            "the:   \t0.02%\n",
            "--------\n",
            "\n"
          ]
        }
      ],
      "source": [
        "info = text_generator.generate(\n",
        "    \"wine review : germany\", max_tokens=80, temperature=0.5\n",
        ")\n",
        "print_probs(info, vocab)"
      ]
    },
    {
      "cell_type": "code",
      "execution_count": null,
      "id": "fcc7a7c0-6c64-47d3-acee-96e48f025e01",
      "metadata": {
        "id": "fcc7a7c0-6c64-47d3-acee-96e48f025e01"
      },
      "outputs": [],
      "source": []
    },
    {
      "cell_type": "code",
      "execution_count": null,
      "id": "4122154c-9e41-44ba-8c5f-fe88a55fe977",
      "metadata": {
        "id": "4122154c-9e41-44ba-8c5f-fe88a55fe977"
      },
      "outputs": [],
      "source": []
    }
  ],
  "metadata": {
    "kernelspec": {
      "display_name": "Python 3",
      "name": "python3"
    },
    "language_info": {
      "codemirror_mode": {
        "name": "ipython",
        "version": 3
      },
      "file_extension": ".py",
      "mimetype": "text/x-python",
      "name": "python",
      "nbconvert_exporter": "python",
      "pygments_lexer": "ipython3",
      "version": "3.8.10"
    },
    "vscode": {
      "interpreter": {
        "hash": "31f2aee4e71d21fbe5cf8b01ff0e069b9275f58929596ceb00d14d90e3e16cd6"
      }
    },
    "colab": {
      "provenance": [],
      "gpuType": "T4",
      "include_colab_link": true
    },
    "accelerator": "GPU"
  },
  "nbformat": 4,
  "nbformat_minor": 5
}